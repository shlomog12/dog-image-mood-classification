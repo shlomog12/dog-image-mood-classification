{
  "cells": [
    {
      "cell_type": "code",
      "execution_count": 1,
      "metadata": {
        "id": "rfvySML1Cef1"
      },
      "outputs": [],
      "source": [
        "# params\n",
        "IMAGE_SIZE = 227\n",
        "NUM_CHANELLS = 3\n",
        "LEN_FEATURES = IMAGE_SIZE * IMAGE_SIZE * NUM_CHANELLS\n",
        "NUM_OF_EPOCHS = 30\n",
        "ZISE_OF_IMAGES = 9000\n",
        "BATCH_SIZE = 32\n",
        "LEARNING_RATE = 0.000001\n",
        "CLASSES = ['happy', 'sad']\n",
        "\n",
        "# paths\n",
        "# PATH = r\"D:\\\\Projects\\Development\\\\courses_projects\\\\deep_learning_and_natural_language_processing\\\\dog-image-mood-classification\"\n",
        "# PATH_TO_DATA = PATH + '\\\\' + \"data\\\\images\"\n",
        "# MODEL_HISTORY_FILEPATH = PATH + '\\\\' + r\"models_history\\\\model_1.hdf5\"\n",
        "DRIVE_PATH = '/content/drive'\n",
        "PATH = DRIVE_PATH + \"/MyDrive/deep-learning/\"\n",
        "PATH_TO_DATA = PATH + \"data/images/\"\n",
        "MODEL_HISTORY_FILEPATH = PATH+\"RES33/\""
      ]
    },
    {
      "cell_type": "code",
      "source": [
        "from google.colab import drive\n",
        "drive.mount(DRIVE_PATH)"
      ],
      "metadata": {
        "colab": {
          "base_uri": "https://localhost:8080/"
        },
        "id": "F6XWZQ4WDgqK",
        "outputId": "e0d8244f-214c-4a40-914b-79b792b877ad"
      },
      "execution_count": 2,
      "outputs": [
        {
          "output_type": "stream",
          "name": "stdout",
          "text": [
            "Mounted at /content/drive\n"
          ]
        }
      ]
    },
    {
      "cell_type": "code",
      "execution_count": 3,
      "metadata": {
        "id": "lww8K6LfCef-"
      },
      "outputs": [],
      "source": [
        "# import os\n",
        "# os.environ[\"CUDA_VISIBLE_DEVICES\"] = \"8\""
      ]
    },
    {
      "cell_type": "code",
      "execution_count": 4,
      "metadata": {
        "id": "bk9O7vUICegA"
      },
      "outputs": [],
      "source": [
        "# modeling\n",
        "import tensorflow as tf\n",
        "import matplotlib.pyplot as plt\n",
        "%matplotlib inline\n",
        "from sklearn.utils import shuffle\n",
        "import cv2\n",
        "\n",
        "# tools\n",
        "from typing import Tuple\n",
        "import os\n",
        "import random\n",
        "import numpy as np\n",
        "from datetime import datetime\n",
        "\n",
        "# warnings\n",
        "import warnings\n",
        "warnings.filterwarnings('ignore')\n",
        "warnings.simplefilter('ignore')\n",
        "import absl.logging\n",
        "absl.logging.set_verbosity(absl.logging.ERROR)"
      ]
    },
    {
      "cell_type": "code",
      "execution_count": 5,
      "metadata": {
        "id": "KfosahpDCegC"
      },
      "outputs": [],
      "source": [
        "def load_data(classes) -> Tuple[np.array, np.array]:\n",
        "  images = []\n",
        "  labels = []\n",
        "  files = []\n",
        "  for i in range(len(classes)):\n",
        "    folder_name = classes[i]\n",
        "    path = os.path.join(PATH_TO_DATA, folder_name)\n",
        "    count = 0\n",
        "    for file_index, file_name in enumerate(os.listdir(path)):\n",
        "      file_name = os.path.join(path, file_name)\n",
        "      image = cv2.imread(file_name)\n",
        "      image = cv2.resize(image, (IMAGE_SIZE, IMAGE_SIZE))\n",
        "      images.append(image)\n",
        "      label = [i]\n",
        "      labels.append(label)\n",
        "      files.append(os.path.join(path, file_name))\n",
        "      if count == ZISE_OF_IMAGES / 2:\n",
        "        break\n",
        "      count += 1\n",
        "  return np.array(images), np.array(labels)\n",
        "\n",
        "def plot_images(images, cls_true, cls_pred=None):\n",
        "    if len(images) == 0:\n",
        "        print(\"no images to show\")\n",
        "        return \n",
        "    else:\n",
        "        random_indices = random.sample(range(len(images)), min(len(images), 9))\n",
        "        \n",
        "    if cls_pred is not None:\n",
        "        images, cls_true, cls_pred  = zip(*[(images[i], cls_true[i], cls_pred[i]) for i in random_indices])\n",
        "    else:\n",
        "        images, cls_true  = zip(*[(images[i], cls_true[i]) for i in random_indices])\n",
        "    \n",
        "    fig, axes = plt.subplots(3, 3)\n",
        "    fig.subplots_adjust(hspace=0.3, wspace=0.3)\n",
        "\n",
        "    for i, ax in enumerate(axes.flat):\n",
        "        ax.imshow(images[i].reshape(IMAGE_SIZE, IMAGE_SIZE, 3))\n",
        "\n",
        "        if cls_pred is None:\n",
        "            xlabel = \"True: {0}\".format(cls_true[i])\n",
        "        else:\n",
        "            xlabel = \"True: {0}, Pred: {1}\".format(cls_true[i], cls_pred[i])\n",
        "\n",
        "        ax.set_xlabel(xlabel)\n",
        "        ax.set_xticks([])\n",
        "        ax.set_yticks([])\n",
        "    plt.show()\n",
        "\n",
        "def make_vactors(labels) -> np.array:\n",
        "  new_labels = []\n",
        "  for label in labels:\n",
        "      value = label[0]\n",
        "      new_label = [0] * len(CLASSES)\n",
        "      new_label[value] = 1\n",
        "      new_labels.append(new_label)\n",
        "  return np.array(new_labels)"
      ]
    },
    {
      "cell_type": "code",
      "execution_count": 6,
      "metadata": {
        "id": "kjOWGAbACegF"
      },
      "outputs": [],
      "source": [
        "train_images, train_labels = load_data(CLASSES)\n",
        "train_images, train_labels = shuffle(train_images, train_labels)"
      ]
    },
    {
      "cell_type": "code",
      "execution_count": 7,
      "metadata": {
        "colab": {
          "base_uri": "https://localhost:8080/"
        },
        "id": "VDVPKugKCegH",
        "outputId": "ebe17f50-32a5-4c2a-888a-bca81a3bd4f6"
      },
      "outputs": [
        {
          "output_type": "stream",
          "name": "stdout",
          "text": [
            "Shape of training data: (9002, 227, 227, 3)\n"
          ]
        }
      ],
      "source": [
        "print(f\"Shape of training data: {train_images.shape}\")"
      ]
    },
    {
      "cell_type": "code",
      "execution_count": 8,
      "metadata": {
        "colab": {
          "base_uri": "https://localhost:8080/"
        },
        "id": "GcFjxjLDCegK",
        "outputId": "462ed626-b5ff-446d-a22f-dd606a51b4ad"
      },
      "outputs": [
        {
          "output_type": "stream",
          "name": "stdout",
          "text": [
            "Size of train: 9002\n"
          ]
        }
      ],
      "source": [
        "print(f\"Size of train: {len(train_images)}\")"
      ]
    },
    {
      "cell_type": "code",
      "execution_count": 9,
      "metadata": {
        "id": "ZqhvxeSECegL"
      },
      "outputs": [],
      "source": [
        "x_train = train_images.astype('float32') / 255.0\n",
        "y_train = np.asarray(train_labels).astype('float32').reshape((-1,1))"
      ]
    },
    {
      "cell_type": "code",
      "execution_count": 24,
      "metadata": {
        "id": "kwdJdvhsCegM"
      },
      "outputs": [],
      "source": [
        "# AlexNet Model archicture\n",
        "model = tf.keras.Sequential()\n",
        "\n",
        "model.add(tf.keras.layers.Conv2D(96, (3, 3), strides=(2, 2), padding='valid', activation='relu', input_shape=x_train.shape[1:]))\n",
        "model.add(tf.keras.layers.BatchNormalization())\n",
        "model.add(tf.keras.layers.MaxPooling2D(pool_size=(3, 3), strides=(2, 2)))\n",
        "\n",
        "model.add(tf.keras.layers.Conv2D(256, (3, 3), strides=(2, 2), padding='same', activation='relu'))\n",
        "model.add(tf.keras.layers.BatchNormalization())\n",
        "model.add(tf.keras.layers.MaxPooling2D(pool_size=(3, 3), strides=(2, 2)))\n",
        "\n",
        "model.add(tf.keras.layers.Conv2D(384, (3, 3), padding='same', activation='relu'))\n",
        "model.add(tf.keras.layers.BatchNormalization())\n",
        "\n",
        "model.add(tf.keras.layers.Conv2D(256, (3, 3), padding='same', activation='relu'))\n",
        "model.add(tf.keras.layers.BatchNormalization())\n",
        "model.add(tf.keras.layers.MaxPooling2D(pool_size=(3, 3), strides=(3, 2)))\n",
        "\n",
        "\n",
        "\n",
        "model.add(tf.keras.layers.Conv2D(256, (3, 3), padding='same', activation='relu'))\n",
        "model.add(tf.keras.layers.Dropout(0.5))\n",
        "model.add(tf.keras.layers.GlobalAveragePooling2D())\n",
        "\n",
        "\n",
        "model.add(tf.keras.layers.Flatten())\n",
        "model.add(tf.keras.layers.Dense(4096, activation='relu'))\n",
        "# model.add(tf.keras.layers.Dense(4096, activation='relu'))\n",
        "model.add(tf.keras.layers.Dense(1, activation='sigmoid'))\n",
        "\n",
        "# optimizer = tf.keras.optimizers.Adam()\n",
        "model.compile(optimizer='adam', loss='binary_crossentropy', metrics=['accuracy'])\n",
        "# model.compile(optimizer=tf.keras.optimizers.Adam(learning_rate=0.00001), loss='binary_crossentropy', metrics=['accuracy'])"
      ]
    },
    {
      "cell_type": "code",
      "execution_count": 25,
      "metadata": {
        "colab": {
          "base_uri": "https://localhost:8080/"
        },
        "id": "WIzfqcG3CegO",
        "outputId": "d1e539a4-c708-4833-856f-0ee9c65a2ede"
      },
      "outputs": [
        {
          "output_type": "stream",
          "name": "stdout",
          "text": [
            "Model: \"sequential_6\"\n",
            "_________________________________________________________________\n",
            " Layer (type)                Output Shape              Param #   \n",
            "=================================================================\n",
            " conv2d_25 (Conv2D)          (None, 113, 113, 96)      2688      \n",
            "                                                                 \n",
            " batch_normalization_21 (Bat  (None, 113, 113, 96)     384       \n",
            " chNormalization)                                                \n",
            "                                                                 \n",
            " max_pooling2d_14 (MaxPoolin  (None, 56, 56, 96)       0         \n",
            " g2D)                                                            \n",
            "                                                                 \n",
            " conv2d_26 (Conv2D)          (None, 28, 28, 256)       221440    \n",
            "                                                                 \n",
            " batch_normalization_22 (Bat  (None, 28, 28, 256)      1024      \n",
            " chNormalization)                                                \n",
            "                                                                 \n",
            " max_pooling2d_15 (MaxPoolin  (None, 13, 13, 256)      0         \n",
            " g2D)                                                            \n",
            "                                                                 \n",
            " conv2d_27 (Conv2D)          (None, 13, 13, 384)       885120    \n",
            "                                                                 \n",
            " batch_normalization_23 (Bat  (None, 13, 13, 384)      1536      \n",
            " chNormalization)                                                \n",
            "                                                                 \n",
            " conv2d_28 (Conv2D)          (None, 13, 13, 256)       884992    \n",
            "                                                                 \n",
            " batch_normalization_24 (Bat  (None, 13, 13, 256)      1024      \n",
            " chNormalization)                                                \n",
            "                                                                 \n",
            " max_pooling2d_16 (MaxPoolin  (None, 4, 6, 256)        0         \n",
            " g2D)                                                            \n",
            "                                                                 \n",
            " conv2d_29 (Conv2D)          (None, 4, 6, 256)         590080    \n",
            "                                                                 \n",
            " dropout_5 (Dropout)         (None, 4, 6, 256)         0         \n",
            "                                                                 \n",
            " global_average_pooling2d_4   (None, 256)              0         \n",
            " (GlobalAveragePooling2D)                                        \n",
            "                                                                 \n",
            " flatten_4 (Flatten)         (None, 256)               0         \n",
            "                                                                 \n",
            " dense_10 (Dense)            (None, 4096)              1052672   \n",
            "                                                                 \n",
            " dense_11 (Dense)            (None, 1)                 4097      \n",
            "                                                                 \n",
            "=================================================================\n",
            "Total params: 3,645,057\n",
            "Trainable params: 3,643,073\n",
            "Non-trainable params: 1,984\n",
            "_________________________________________________________________\n"
          ]
        }
      ],
      "source": [
        "model.summary()"
      ]
    },
    {
      "cell_type": "code",
      "execution_count": 26,
      "metadata": {
        "colab": {
          "base_uri": "https://localhost:8080/"
        },
        "id": "YkV84Z7eCegP",
        "outputId": "85d46a84-9c10-4f88-8479-6b3096e5d8d2"
      },
      "outputs": [
        {
          "output_type": "stream",
          "name": "stdout",
          "text": [
            "Epoch 1/30\n",
            "226/226 [==============================] - 17s 74ms/step - loss: 0.7096 - accuracy: 0.5452 - val_loss: 0.7290 - val_accuracy: 0.5275\n",
            "Epoch 2/30\n",
            "226/226 [==============================] - 16s 69ms/step - loss: 0.6733 - accuracy: 0.5844 - val_loss: 0.6722 - val_accuracy: 0.5819\n",
            "Epoch 3/30\n",
            "226/226 [==============================] - 15s 68ms/step - loss: 0.6616 - accuracy: 0.6044 - val_loss: 0.6503 - val_accuracy: 0.6319\n",
            "Epoch 4/30\n",
            "226/226 [==============================] - 13s 59ms/step - loss: 0.6392 - accuracy: 0.6377 - val_loss: 0.7187 - val_accuracy: 0.5147\n",
            "Epoch 5/30\n",
            "226/226 [==============================] - 13s 58ms/step - loss: 0.6028 - accuracy: 0.6828 - val_loss: 0.6561 - val_accuracy: 0.6124\n",
            "Epoch 6/30\n",
            "226/226 [==============================] - 15s 66ms/step - loss: 0.5699 - accuracy: 0.7112 - val_loss: 0.6164 - val_accuracy: 0.6796\n",
            "Epoch 7/30\n",
            "226/226 [==============================] - 15s 68ms/step - loss: 0.5543 - accuracy: 0.7230 - val_loss: 0.5757 - val_accuracy: 0.7146\n",
            "Epoch 8/30\n",
            "226/226 [==============================] - 13s 58ms/step - loss: 0.5444 - accuracy: 0.7331 - val_loss: 0.6926 - val_accuracy: 0.6330\n",
            "Epoch 9/30\n",
            "226/226 [==============================] - 13s 58ms/step - loss: 0.5512 - accuracy: 0.7257 - val_loss: 0.6312 - val_accuracy: 0.6624\n",
            "Epoch 10/30\n",
            "226/226 [==============================] - 15s 67ms/step - loss: 0.5279 - accuracy: 0.7475 - val_loss: 0.5400 - val_accuracy: 0.7296\n",
            "Epoch 11/30\n",
            "226/226 [==============================] - 13s 58ms/step - loss: 0.5076 - accuracy: 0.7507 - val_loss: 0.5681 - val_accuracy: 0.7107\n",
            "Epoch 12/30\n",
            "226/226 [==============================] - 15s 67ms/step - loss: 0.5020 - accuracy: 0.7577 - val_loss: 0.5676 - val_accuracy: 0.7313\n",
            "Epoch 13/30\n",
            "226/226 [==============================] - 13s 58ms/step - loss: 0.4872 - accuracy: 0.7664 - val_loss: 0.5848 - val_accuracy: 0.7013\n",
            "Epoch 14/30\n",
            "226/226 [==============================] - 13s 58ms/step - loss: 0.4726 - accuracy: 0.7774 - val_loss: 0.5712 - val_accuracy: 0.7057\n",
            "Epoch 15/30\n",
            "226/226 [==============================] - 13s 59ms/step - loss: 0.4772 - accuracy: 0.7752 - val_loss: 0.5533 - val_accuracy: 0.7135\n",
            "Epoch 16/30\n",
            "226/226 [==============================] - 13s 58ms/step - loss: 0.4481 - accuracy: 0.7923 - val_loss: 0.6460 - val_accuracy: 0.7268\n",
            "Epoch 17/30\n",
            "226/226 [==============================] - 13s 58ms/step - loss: 0.4321 - accuracy: 0.7996 - val_loss: 0.5726 - val_accuracy: 0.7257\n",
            "Epoch 18/30\n",
            "226/226 [==============================] - 13s 58ms/step - loss: 0.4096 - accuracy: 0.8184 - val_loss: 0.5947 - val_accuracy: 0.7218\n",
            "Epoch 19/30\n",
            "226/226 [==============================] - 13s 58ms/step - loss: 0.3892 - accuracy: 0.8297 - val_loss: 0.5877 - val_accuracy: 0.7235\n",
            "Epoch 20/30\n",
            "226/226 [==============================] - 13s 58ms/step - loss: 0.3691 - accuracy: 0.8367 - val_loss: 0.6467 - val_accuracy: 0.7074\n",
            "Epoch 21/30\n",
            "226/226 [==============================] - 13s 58ms/step - loss: 0.3869 - accuracy: 0.8295 - val_loss: 0.6242 - val_accuracy: 0.7196\n",
            "Epoch 22/30\n",
            "226/226 [==============================] - 13s 58ms/step - loss: 0.3364 - accuracy: 0.8525 - val_loss: 0.7336 - val_accuracy: 0.7102\n",
            "Epoch 23/30\n",
            "226/226 [==============================] - 13s 58ms/step - loss: 0.2801 - accuracy: 0.8852 - val_loss: 0.8058 - val_accuracy: 0.7157\n",
            "Epoch 24/30\n",
            "226/226 [==============================] - 13s 58ms/step - loss: 0.2970 - accuracy: 0.8718 - val_loss: 0.8215 - val_accuracy: 0.7207\n",
            "Epoch 25/30\n",
            "226/226 [==============================] - 13s 58ms/step - loss: 0.2504 - accuracy: 0.8995 - val_loss: 0.8952 - val_accuracy: 0.7246\n",
            "Epoch 26/30\n",
            "226/226 [==============================] - 13s 58ms/step - loss: 0.1969 - accuracy: 0.9224 - val_loss: 0.8726 - val_accuracy: 0.7102\n",
            "Epoch 27/30\n",
            "226/226 [==============================] - 13s 58ms/step - loss: 0.1715 - accuracy: 0.9318 - val_loss: 0.8689 - val_accuracy: 0.7168\n",
            "Epoch 28/30\n",
            "226/226 [==============================] - 13s 58ms/step - loss: 0.1668 - accuracy: 0.9328 - val_loss: 0.9495 - val_accuracy: 0.7096\n",
            "Epoch 29/30\n",
            "226/226 [==============================] - 13s 58ms/step - loss: 0.1359 - accuracy: 0.9475 - val_loss: 1.6669 - val_accuracy: 0.7307\n",
            "Epoch 30/30\n",
            "226/226 [==============================] - 13s 58ms/step - loss: 0.2284 - accuracy: 0.9060 - val_loss: 1.0123 - val_accuracy: 0.7202\n"
          ]
        }
      ],
      "source": [
        "model_checkpoint_callback = tf.keras.callbacks.ModelCheckpoint(\n",
        "    filepath=MODEL_HISTORY_FILEPATH,\n",
        "    monitor='val_accuracy',\n",
        "    mode='auto',\n",
        "    save_best_only=True\n",
        "    )\n",
        "\n",
        "train_scores = model.fit(x_train, y_train, batch_size=BATCH_SIZE, epochs=NUM_OF_EPOCHS, shuffle=True, validation_split=0.2, callbacks=[model_checkpoint_callback])"
      ]
    },
    {
      "cell_type": "code",
      "execution_count": 27,
      "metadata": {
        "colab": {
          "base_uri": "https://localhost:8080/",
          "height": 295
        },
        "id": "j9G_FPzrCegQ",
        "outputId": "985dcf95-e712-43e0-a089-a427648b92b6"
      },
      "outputs": [
        {
          "output_type": "display_data",
          "data": {
            "text/plain": [
              "<Figure size 432x288 with 1 Axes>"
            ],
            "image/png": "[encoded data removed]"
          },
          "metadata": {
            "needs_background": "light"
          }
        }
      ],
      "source": [
        "plt.title(\"Train Loss and Validation Loss\")\n",
        "plt.xlabel(\"Epoch\")\n",
        "plt.ylabel(\"Loss\")\n",
        "plt.plot(np.arange(NUM_OF_EPOCHS), train_scores.history['loss'])\n",
        "plt.plot(np.arange(NUM_OF_EPOCHS), train_scores.history['val_loss'])\n",
        "plt.legend([\"Train loss\", \"Validation loss\"])\n",
        "plt.show()"
      ]
    },
    {
      "cell_type": "code",
      "execution_count": 28,
      "metadata": {
        "colab": {
          "base_uri": "https://localhost:8080/",
          "height": 295
        },
        "id": "M8yVRKmvCegR",
        "outputId": "e7cbe4bf-6123-4b43-c10c-d09ae1b8d200"
      },
      "outputs": [
        {
          "output_type": "display_data",
          "data": {
            "text/plain": [
              "<Figure size 432x288 with 1 Axes>"
            ],
            "image/png": "[encoded data removed]"
          },
          "metadata": {
            "needs_background": "light"
          }
        }
      ],
      "source": [
        "plt.title(\"Train accuracy and Validation accuracy\")\n",
        "plt.xlabel(\"Epoch\")\n",
        "plt.ylabel(\"Accuracy\")\n",
        "plt.plot(np.arange(NUM_OF_EPOCHS), train_scores.history['accuracy'])\n",
        "plt.plot(np.arange(NUM_OF_EPOCHS), train_scores.history['val_accuracy'])\n",
        "plt.legend([\"Train accuracy\", \"Validation accuracy\"])\n",
        "plt.show()"
      ]
    }
  ],
  "metadata": {
    "kernelspec": {
      "display_name": "Python 3",
      "language": "python",
      "name": "python3"
    },
    "language_info": {
      "codemirror_mode": {
        "name": "ipython",
        "version": 3
      },
      "file_extension": ".py",
      "mimetype": "text/x-python",
      "name": "python",
      "nbconvert_exporter": "python",
      "pygments_lexer": "ipython3",
      "version": "3.10.7"
    },
    "orig_nbformat": 4,
    "vscode": {
      "interpreter": {
        "hash": "2121b63ebec64736fa1408ad9b4ff63d888044831182c075f83e3f47370387ac"
      }
    },
    "colab": {
      "provenance": [],
      "machine_shape": "hm"
    },
    "accelerator": "GPU",
    "gpuClass": "standard"
  },
  "nbformat": 4,
  "nbformat_minor": 0
}