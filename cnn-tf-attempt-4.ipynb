{
  "cells": [
    {
      "attachments": {},
      "cell_type": "markdown",
      "metadata": {
        "id": "rfvySML1Cef1"
      },
      "source": [
        "# Dog Image Mood Classification\n",
        "\n",
        "> Using Convolutional Neural Network Deep Learning model"
      ]
    },
    {
      "attachments": {},
      "cell_type": "markdown",
      "metadata": {},
      "source": [
        "### Params"
      ]
    },
    {
      "cell_type": "code",
      "execution_count": null,
      "metadata": {},
      "outputs": [],
      "source": [
        "IMAGE_SIZE = 227\n",
        "NUM_CHANELLS = 3\n",
        "LEN_FEATURES = IMAGE_SIZE * IMAGE_SIZE * NUM_CHANELLS\n",
        "NUM_OF_EPOCHS = 30\n",
        "ZISE_OF_IMAGES = 9000\n",
        "BATCH_SIZE = 32\n",
        "LEARNING_RATE = 0.000001\n",
        "CLASSES = ['happy', 'sad']"
      ]
    },
    {
      "attachments": {},
      "cell_type": "markdown",
      "metadata": {},
      "source": [
        "### Paths"
      ]
    },
    {
      "cell_type": "code",
      "execution_count": null,
      "metadata": {},
      "outputs": [],
      "source": [
        "PATH = r\"D:\\\\Projects\\Development\\\\courses_projects\\\\deep_learning_and_natural_language_processing\\\\dog-image-mood-classification\"\n",
        "PATH_TO_DATA = PATH + '\\\\' + \"data\\\\images\"\n",
        "RES_PATH = r\"results\\\\\"\n",
        "MODEL_HISTORY_FILEPATH = r\"D:\\\\Projects\\\\Development\\\\courses_projects\\\\deep_learning_and_natural_language_processing\\\\dog-image-mood-classification\\\\models_history\\\\model_4.hdf5\""
      ]
    },
    {
      "attachments": {},
      "cell_type": "markdown",
      "metadata": {},
      "source": [
        "### Importing"
      ]
    },
    {
      "cell_type": "code",
      "execution_count": null,
      "metadata": {
        "id": "lww8K6LfCef-"
      },
      "outputs": [],
      "source": [
        "import os\n",
        "os.environ[\"CUDA_VISIBLE_DEVICES\"] = \"8\""
      ]
    },
    {
      "cell_type": "code",
      "execution_count": null,
      "metadata": {
        "id": "bk9O7vUICegA"
      },
      "outputs": [],
      "source": [
        "# modeling\n",
        "import tensorflow as tf\n",
        "import matplotlib.pyplot as plt\n",
        "%matplotlib inline\n",
        "from sklearn.utils import shuffle\n",
        "import cv2\n",
        "\n",
        "# tools\n",
        "from typing import Tuple\n",
        "import os\n",
        "import random\n",
        "import numpy as np\n",
        "from datetime import datetime\n",
        "\n",
        "# warnings\n",
        "import warnings\n",
        "warnings.filterwarnings('ignore')\n",
        "warnings.simplefilter('ignore')\n",
        "import absl.logging\n",
        "absl.logging.set_verbosity(absl.logging.ERROR)"
      ]
    },
    {
      "attachments": {},
      "cell_type": "markdown",
      "metadata": {},
      "source": [
        "### Util Functions"
      ]
    },
    {
      "cell_type": "code",
      "execution_count": null,
      "metadata": {
        "id": "KfosahpDCegC"
      },
      "outputs": [],
      "source": [
        "def load_data(classes) -> Tuple[np.array, np.array]:\n",
        "  images = []\n",
        "  labels = []\n",
        "  files = []\n",
        "  for i in range(len(classes)):\n",
        "    folder_name = classes[i]\n",
        "    path = os.path.join(PATH_TO_DATA, folder_name)\n",
        "    count = 0\n",
        "    for file_index, file_name in enumerate(os.listdir(path)):\n",
        "      file_name = os.path.join(path, file_name)\n",
        "      image = cv2.imread(file_name)\n",
        "      image = cv2.resize(image, (IMAGE_SIZE, IMAGE_SIZE))\n",
        "      images.append(image)\n",
        "      label = [i]\n",
        "      labels.append(label)\n",
        "      files.append(os.path.join(path, file_name))\n",
        "      if count == ZISE_OF_IMAGES / 2:\n",
        "        break\n",
        "      count += 1\n",
        "  return np.array(images), np.array(labels)"
      ]
    },
    {
      "attachments": {},
      "cell_type": "markdown",
      "metadata": {},
      "source": [
        "### Load Data"
      ]
    },
    {
      "cell_type": "code",
      "execution_count": null,
      "metadata": {
        "id": "kjOWGAbACegF"
      },
      "outputs": [],
      "source": [
        "train_images, train_labels = load_data(CLASSES)\n",
        "train_images, train_labels = shuffle(train_images, train_labels)"
      ]
    },
    {
      "cell_type": "code",
      "execution_count": null,
      "metadata": {
        "colab": {
          "base_uri": "https://localhost:8080/"
        },
        "id": "VDVPKugKCegH",
        "outputId": "a8f8ce05-071a-4967-9106-c022fcc36fa0"
      },
      "outputs": [],
      "source": [
        "print(f\"Shape of training data: {train_images.shape}\")"
      ]
    },
    {
      "cell_type": "code",
      "execution_count": null,
      "metadata": {
        "colab": {
          "base_uri": "https://localhost:8080/"
        },
        "id": "GcFjxjLDCegK",
        "outputId": "d3930955-6293-48da-f9f1-23e1208dcaca"
      },
      "outputs": [],
      "source": [
        "print(f\"Size of train: {len(train_images)}\")"
      ]
    },
    {
      "cell_type": "code",
      "execution_count": null,
      "metadata": {
        "id": "ZqhvxeSECegL"
      },
      "outputs": [],
      "source": [
        "x_train = train_images.astype('float32') / 255.0\n",
        "y_train = np.asarray(train_labels).astype('float32').reshape((-1,1))"
      ]
    },
    {
      "attachments": {},
      "cell_type": "markdown",
      "metadata": {},
      "source": [
        "### Build Model"
      ]
    },
    {
      "cell_type": "code",
      "execution_count": null,
      "metadata": {
        "id": "kwdJdvhsCegM"
      },
      "outputs": [],
      "source": [
        "model = tf.keras.Sequential()\n",
        "\n",
        "model.add(tf.keras.layers.Conv2D(128, (3, 3), strides=(2, 2), padding='valid', activation='relu', input_shape=x_train.shape[1:]))\n",
        "model.add(tf.keras.layers.BatchNormalization())\n",
        "model.add(tf.keras.layers.MaxPooling2D(pool_size=(3, 3), strides=(2, 2)))\n",
        "\n",
        "model.add(tf.keras.layers.Conv2D(256, (3, 3), strides=(2, 2), padding='same', activation='relu'))\n",
        "model.add(tf.keras.layers.BatchNormalization())\n",
        "model.add(tf.keras.layers.MaxPooling2D(pool_size=(3, 3), strides=(2, 2)))\n",
        "\n",
        "model.add(tf.keras.layers.Conv2D(384, (3, 3), padding='same', activation='relu'))\n",
        "model.add(tf.keras.layers.BatchNormalization())\n",
        "\n",
        "model.add(tf.keras.layers.Conv2D(256, (3, 3), padding='same', activation='relu'))\n",
        "model.add(tf.keras.layers.BatchNormalization())\n",
        "model.add(tf.keras.layers.MaxPooling2D(pool_size=(3, 3), strides=(3, 2)))\n",
        "\n",
        "model.add(tf.keras.layers.Conv2D(256, (3, 3), padding='same', activation='relu'))\n",
        "model.add(tf.keras.layers.Dropout(0.5))\n",
        "model.add(tf.keras.layers.GlobalAveragePooling2D())\n",
        "\n",
        "model.add(tf.keras.layers.Flatten())\n",
        "model.add(tf.keras.layers.Dense(4096, activation='relu'))\n",
        "model.add(tf.keras.layers.Dense(1, activation='sigmoid'))\n",
        "\n",
        "model.compile(optimizer=tf.keras.optimizers.Adam(learning_rate=LEARNING_RATE), loss='binary_crossentropy', metrics=['accuracy'])"
      ]
    },
    {
      "cell_type": "code",
      "execution_count": null,
      "metadata": {
        "colab": {
          "base_uri": "https://localhost:8080/"
        },
        "id": "WIzfqcG3CegO",
        "outputId": "5717bbc3-d423-4400-91ab-ac26c508efc7"
      },
      "outputs": [],
      "source": [
        "model.summary()"
      ]
    },
    {
      "attachments": {},
      "cell_type": "markdown",
      "metadata": {},
      "source": [
        "### Train Model"
      ]
    },
    {
      "cell_type": "code",
      "execution_count": null,
      "metadata": {
        "colab": {
          "base_uri": "https://localhost:8080/"
        },
        "id": "YkV84Z7eCegP",
        "outputId": "0f99b418-4ff6-4fc1-e80f-f6d6c852a1e2"
      },
      "outputs": [],
      "source": [
        "model_checkpoint_callback = tf.keras.callbacks.ModelCheckpoint(\n",
        "    filepath=MODEL_HISTORY_FILEPATH,\n",
        "    monitor='val_accuracy',\n",
        "    mode='auto',\n",
        "    save_best_only=True\n",
        "    )\n",
        "\n",
        "train_scores = model.fit(x_train, y_train, batch_size=BATCH_SIZE, epochs=NUM_OF_EPOCHS, shuffle=True, validation_split=0.2, callbacks=[model_checkpoint_callback])"
      ]
    },
    {
      "attachments": {},
      "cell_type": "markdown",
      "metadata": {},
      "source": [
        "### Results"
      ]
    },
    {
      "cell_type": "code",
      "execution_count": null,
      "metadata": {
        "colab": {
          "base_uri": "https://localhost:8080/",
          "height": 295
        },
        "id": "j9G_FPzrCegQ",
        "outputId": "50462217-c279-40c2-dd05-c16e796184c8"
      },
      "outputs": [],
      "source": [
        "plt.title(\"Train Loss and Validation Loss\")\n",
        "plt.xlabel(\"Epoch\")\n",
        "plt.ylabel(\"Loss\")\n",
        "plt.plot(np.arange(NUM_OF_EPOCHS), train_scores.history['loss'])\n",
        "plt.plot(np.arange(NUM_OF_EPOCHS), train_scores.history['val_loss'])\n",
        "plt.legend([\"Train loss\", \"Validation loss\"])\n",
        "plt.show()"
      ]
    },
    {
      "cell_type": "code",
      "execution_count": null,
      "metadata": {
        "colab": {
          "base_uri": "https://localhost:8080/",
          "height": 295
        },
        "id": "M8yVRKmvCegR",
        "outputId": "a1b97eef-a957-4e90-d455-ecf22c0f2763"
      },
      "outputs": [],
      "source": [
        "plt.title(\"Train accuracy and Validation accuracy\")\n",
        "plt.xlabel(\"Epoch\")\n",
        "plt.ylabel(\"Accuracy\")\n",
        "plt.plot(np.arange(NUM_OF_EPOCHS), train_scores.history['accuracy'])\n",
        "plt.plot(np.arange(NUM_OF_EPOCHS), train_scores.history['val_accuracy'])\n",
        "plt.legend([\"Train accuracy\", \"Validation accuracy\"])\n",
        "plt.show()"
      ]
    }
  ],
  "metadata": {
    "accelerator": "GPU",
    "colab": {
      "machine_shape": "hm",
      "provenance": []
    },
    "gpuClass": "standard",
    "kernelspec": {
      "display_name": "Python 3",
      "language": "python",
      "name": "python3"
    },
    "language_info": {
      "codemirror_mode": {
        "name": "ipython",
        "version": 3
      },
      "file_extension": ".py",
      "mimetype": "text/x-python",
      "name": "python",
      "nbconvert_exporter": "python",
      "pygments_lexer": "ipython3",
      "version": "3.10.7"
    },
    "orig_nbformat": 4,
    "vscode": {
      "interpreter": {
        "hash": "2121b63ebec64736fa1408ad9b4ff63d888044831182c075f83e3f47370387ac"
      }
    }
  },
  "nbformat": 4,
  "nbformat_minor": 0
}
