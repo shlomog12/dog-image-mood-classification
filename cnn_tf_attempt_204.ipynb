{
  "cells": [
    {
      "cell_type": "code",
      "execution_count": 1,
      "metadata": {
        "id": "rfvySML1Cef1"
      },
      "outputs": [],
      "source": [
        "# params\n",
        "IMAGE_SIZE = 300\n",
        "NUM_CHANELLS = 3\n",
        "# LEN_FEATURES = IMAGE_SIZE * IMAGE_SIZE * NUM_CHANELLS\n",
        "NUM_OF_EPOCHS = 30\n",
        "ZISE_OF_IMAGES = 9000\n",
        "BATCH_SIZE = 32\n",
        "CLASSES = ['happy', 'sad']\n",
        "\n",
        "# paths\n",
        "# PATH = r\"D:\\\\Projects\\Development\\\\courses_projects\\\\deep_learning_and_natural_language_processing\\\\dog-image-mood-classification\"\n",
        "# PATH_TO_DATA = PATH + '\\\\' + \"data\\\\images\"\n",
        "# MODEL_HISTORY_FILEPATH = PATH + '\\\\' + r\"models_history\\\\model_1.hdf5\"\n",
        "DRIVE_PATH = '/content/drive'\n",
        "PATH = DRIVE_PATH + \"/MyDrive/deep-learning/\"\n",
        "PATH_TO_DATA = PATH + \"data/images/\"\n",
        "MODEL_HISTORY_FILEPATH = PATH+\"RES33/\""
      ]
    },
    {
      "cell_type": "code",
      "execution_count": 2,
      "metadata": {
        "id": "F6XWZQ4WDgqK",
        "colab": {
          "base_uri": "https://localhost:8080/"
        },
        "outputId": "15ee52e0-6f8f-4598-be43-59b0ce96c4eb"
      },
      "outputs": [
        {
          "output_type": "stream",
          "name": "stdout",
          "text": [
            "Mounted at /content/drive\n"
          ]
        }
      ],
      "source": [
        "from google.colab import drive\n",
        "drive.mount(DRIVE_PATH)"
      ]
    },
    {
      "cell_type": "code",
      "execution_count": 3,
      "metadata": {
        "id": "bk9O7vUICegA"
      },
      "outputs": [],
      "source": [
        "# modeling\n",
        "import tensorflow as tf\n",
        "import matplotlib.pyplot as plt\n",
        "%matplotlib inline\n",
        "from sklearn.utils import shuffle\n",
        "import cv2\n",
        "\n",
        "# tools\n",
        "from typing import Tuple\n",
        "import os\n",
        "import random\n",
        "import numpy as np\n",
        "from datetime import datetime\n",
        "\n",
        "# warnings\n",
        "import warnings\n",
        "warnings.filterwarnings('ignore')\n",
        "warnings.simplefilter('ignore')\n",
        "import absl.logging\n",
        "absl.logging.set_verbosity(absl.logging.ERROR)\n",
        "from scipy.ndimage import rotate\n",
        "import tqdm.notebook as tq"
      ]
    },
    {
      "cell_type": "code",
      "execution_count": 4,
      "metadata": {
        "id": "KfosahpDCegC"
      },
      "outputs": [],
      "source": [
        "def load_data(classes) -> Tuple[np.array, np.array]:\n",
        "  images = []\n",
        "  labels = []\n",
        "  files = []\n",
        "  for i in range(len(classes)):\n",
        "    folder_name = classes[i]\n",
        "    path = os.path.join(PATH_TO_DATA, folder_name)\n",
        "    count = 0\n",
        "    for file_index, file_name in tq.tqdm(enumerate(os.listdir(path))):\n",
        "      file_name = os.path.join(path, file_name)\n",
        "      image = cv2.imread(file_name)\n",
        "      image = cv2.resize(image, (IMAGE_SIZE, IMAGE_SIZE))\n",
        "      # rotated_images = rotate_image(image)\n",
        "      images += [image]\n",
        "      # images +=  rotated_images\n",
        "      label = [i]\n",
        "      labels += [label]\n",
        "      # labels += [label]\n",
        "      files.append(os.path.join(path, file_name))\n",
        "      if count == ZISE_OF_IMAGES / 2:\n",
        "        break\n",
        "      count += 1\n",
        "  return np.array(images), np.array(labels)\n",
        "\n",
        "def rotate_image(img):\n",
        "  images = []\n",
        "  degs = [20]\n",
        "  for deg in degs:\n",
        "    images.append(rotate(img, angle=deg, reshape=False))\n",
        "  return images\n",
        "\n",
        "def plot_images(images, cls_true, cls_pred=None):\n",
        "    if len(images) == 0:\n",
        "        print(\"no images to show\")\n",
        "        return \n",
        "    else:\n",
        "        random_indices = random.sample(range(len(images)), min(len(images), 9))\n",
        "        \n",
        "    if cls_pred is not None:\n",
        "        images, cls_true, cls_pred  = zip(*[(images[i], cls_true[i], cls_pred[i]) for i in random_indices])\n",
        "    else:\n",
        "        images, cls_true  = zip(*[(images[i], cls_true[i]) for i in random_indices])\n",
        "    \n",
        "    fig, axes = plt.subplots(3, 3)\n",
        "    fig.subplots_adjust(hspace=0.3, wspace=0.3)\n",
        "\n",
        "    for i, ax in enumerate(axes.flat):\n",
        "        ax.imshow(images[i].reshape(IMAGE_SIZE, IMAGE_SIZE, 3))\n",
        "\n",
        "        if cls_pred is None:\n",
        "            xlabel = \"True: {0}\".format(cls_true[i])\n",
        "        else:\n",
        "            xlabel = \"True: {0}, Pred: {1}\".format(cls_true[i], cls_pred[i])\n",
        "\n",
        "        ax.set_xlabel(xlabel)\n",
        "        ax.set_xticks([])\n",
        "        ax.set_yticks([])\n",
        "    plt.show()\n",
        "\n",
        "def make_vactors(labels) -> np.array:\n",
        "  new_labels = []\n",
        "  for label in labels:\n",
        "      value = label[0]\n",
        "      new_label = [0] * len(CLASSES)\n",
        "      new_label[value] = 1\n",
        "      new_labels.append(new_label)\n",
        "  return np.array(new_labels)"
      ]
    },
    {
      "cell_type": "code",
      "execution_count": 5,
      "metadata": {
        "id": "kjOWGAbACegF",
        "colab": {
          "base_uri": "https://localhost:8080/",
          "height": 81,
          "referenced_widgets": [
            "07b37d551d7c43c69209954c969d6103",
            "6c6071f7875947ca8ce4537180affb91",
            "3f9a64b413be4120969ebf79154021fb",
            "f7e331eec67b478c984a28a836590ee1",
            "069a5227a2214d9d8a7172c3d67706bc",
            "b45fe45c66a1403cba16a6def7f9aeb9",
            "7ca0ed01c1044b09bd21a2a4b149e379",
            "56e7720fc50242c38c0a2109b5f95b7f",
            "baabe6a69c01416e8dad2967c12a6b8b",
            "7a8216ad69da4697a37124ce13110325",
            "b0cbbd685961421cbe054694d231e202",
            "4ee4c45147474bf5bc78de237b45b4c6",
            "4bd172b8ac4e4ce19b7d636f6890195f",
            "5bf7f4f8de0141359f12ddccc571135e",
            "cce0874699934012b91454cd0561a937",
            "2e02e5c5eb48402aaad4ecb80627d19e",
            "05f44143139a4a84af0684e541d4bc64",
            "dfa32de77831445ba0edb4bcb286e605",
            "ee137133bd6240fb83ec9fbe86cb1f2b",
            "8243adcd81534e9ba51e1d29b8c7b346",
            "cfae74e4b6e74230a010a04894feb251",
            "6464d6e9576c484cad163ae62d654b44"
          ]
        },
        "outputId": "9917040f-1242-479d-a3b2-4f1859014726"
      },
      "outputs": [
        {
          "output_type": "display_data",
          "data": {
            "text/plain": [
              "0it [00:00, ?it/s]"
            ],
            "application/vnd.jupyter.widget-view+json": {
              "version_major": 2,
              "version_minor": 0,
              "model_id": "07b37d551d7c43c69209954c969d6103"
            }
          },
          "metadata": {}
        },
        {
          "output_type": "display_data",
          "data": {
            "text/plain": [
              "0it [00:00, ?it/s]"
            ],
            "application/vnd.jupyter.widget-view+json": {
              "version_major": 2,
              "version_minor": 0,
              "model_id": "4ee4c45147474bf5bc78de237b45b4c6"
            }
          },
          "metadata": {}
        }
      ],
      "source": [
        "train_images, train_labels = load_data(CLASSES)\n",
        "train_images, train_labels = shuffle(train_images, train_labels)"
      ]
    },
    {
      "cell_type": "code",
      "execution_count": 6,
      "metadata": {
        "id": "VDVPKugKCegH",
        "colab": {
          "base_uri": "https://localhost:8080/"
        },
        "outputId": "f144e64b-7347-477b-9212-def1c298896f"
      },
      "outputs": [
        {
          "output_type": "stream",
          "name": "stdout",
          "text": [
            "Shape of training data: (9002, 300, 300, 3)\n"
          ]
        }
      ],
      "source": [
        "print(f\"Shape of training data: {train_images.shape}\")"
      ]
    },
    {
      "cell_type": "code",
      "execution_count": 7,
      "metadata": {
        "id": "GcFjxjLDCegK",
        "colab": {
          "base_uri": "https://localhost:8080/"
        },
        "outputId": "59c4423a-386c-40ae-c365-5fc4ab588ec5"
      },
      "outputs": [
        {
          "output_type": "stream",
          "name": "stdout",
          "text": [
            "Size of train: 9002\n"
          ]
        }
      ],
      "source": [
        "print(f\"Size of train: {len(train_images)}\")"
      ]
    },
    {
      "cell_type": "code",
      "execution_count": 8,
      "metadata": {
        "id": "ZqhvxeSECegL"
      },
      "outputs": [],
      "source": [
        "x_train = train_images.astype('float32') / 255.0\n",
        "y_train = np.asarray(train_labels).astype('float32').reshape((-1,1))"
      ]
    },
    {
      "cell_type": "code",
      "execution_count": 9,
      "metadata": {
        "id": "eJw3YF8nXlZk"
      },
      "outputs": [],
      "source": [
        "del train_images\n",
        "del train_labels"
      ]
    },
    {
      "cell_type": "code",
      "execution_count": 10,
      "metadata": {
        "id": "kwdJdvhsCegM"
      },
      "outputs": [],
      "source": [
        "# AlexNet Model archicture\n",
        "\n",
        "model = tf.keras.Sequential()\n",
        "\n",
        "model.add(tf.keras.layers.Conv2D(96, (3, 3), strides=(2, 2), padding='valid', activation='relu', input_shape=x_train.shape[1:],\n",
        "          kernel_regularizer=tf.keras.regularizers.l2(0.001)))\n",
        "model.add(tf.keras.layers.BatchNormalization())\n",
        "model.add(tf.keras.layers.MaxPooling2D(pool_size=(3, 3), strides=(2, 2)))\n",
        "\n",
        "model.add(tf.keras.layers.Conv2D(256, (3, 3), strides=(2, 2), padding='same', activation='relu'))\n",
        "model.add(tf.keras.layers.BatchNormalization())\n",
        "model.add(tf.keras.layers.MaxPooling2D(pool_size=(3, 3), strides=(2, 2)))\n",
        "\n",
        "model.add(tf.keras.layers.Conv2D(384, (3, 3), padding='same', activation='relu'))\n",
        "model.add(tf.keras.layers.BatchNormalization())\n",
        "\n",
        "model.add(tf.keras.layers.Conv2D(256, (3, 3), padding='same', activation='relu'))\n",
        "model.add(tf.keras.layers.BatchNormalization())\n",
        "model.add(tf.keras.layers.MaxPooling2D(pool_size=(3, 3), strides=(3, 2)))\n",
        "\n",
        "\n",
        "\n",
        "model.add(tf.keras.layers.Conv2D(256, (3, 3), padding='same', activation='relu'))\n",
        "model.add(tf.keras.layers.Dropout(0.5))\n",
        "model.add(tf.keras.layers.GlobalAveragePooling2D())\n",
        "\n",
        "\n",
        "model.add(tf.keras.layers.Flatten())\n",
        "model.add(tf.keras.layers.Dense(4096, activation='relu'))\n",
        "model.add(tf.keras.layers.Dense(1, activation='sigmoid'))\n",
        "\n",
        "model.compile(optimizer=tf.keras.optimizers.Adam(learning_rate=0.00001), loss='binary_crossentropy', metrics=['accuracy'])"
      ]
    },
    {
      "cell_type": "code",
      "execution_count": 11,
      "metadata": {
        "id": "WIzfqcG3CegO",
        "colab": {
          "base_uri": "https://localhost:8080/"
        },
        "outputId": "940bf91c-48ea-4be6-88e5-fddf0e654b21"
      },
      "outputs": [
        {
          "output_type": "stream",
          "name": "stdout",
          "text": [
            "Model: \"sequential\"\n",
            "_________________________________________________________________\n",
            " Layer (type)                Output Shape              Param #   \n",
            "=================================================================\n",
            " conv2d (Conv2D)             (None, 149, 149, 96)      2688      \n",
            "                                                                 \n",
            " batch_normalization (BatchN  (None, 149, 149, 96)     384       \n",
            " ormalization)                                                   \n",
            "                                                                 \n",
            " max_pooling2d (MaxPooling2D  (None, 74, 74, 96)       0         \n",
            " )                                                               \n",
            "                                                                 \n",
            " conv2d_1 (Conv2D)           (None, 37, 37, 256)       221440    \n",
            "                                                                 \n",
            " batch_normalization_1 (Batc  (None, 37, 37, 256)      1024      \n",
            " hNormalization)                                                 \n",
            "                                                                 \n",
            " max_pooling2d_1 (MaxPooling  (None, 18, 18, 256)      0         \n",
            " 2D)                                                             \n",
            "                                                                 \n",
            " conv2d_2 (Conv2D)           (None, 18, 18, 384)       885120    \n",
            "                                                                 \n",
            " batch_normalization_2 (Batc  (None, 18, 18, 384)      1536      \n",
            " hNormalization)                                                 \n",
            "                                                                 \n",
            " conv2d_3 (Conv2D)           (None, 18, 18, 256)       884992    \n",
            "                                                                 \n",
            " batch_normalization_3 (Batc  (None, 18, 18, 256)      1024      \n",
            " hNormalization)                                                 \n",
            "                                                                 \n",
            " max_pooling2d_2 (MaxPooling  (None, 6, 8, 256)        0         \n",
            " 2D)                                                             \n",
            "                                                                 \n",
            " conv2d_4 (Conv2D)           (None, 6, 8, 256)         590080    \n",
            "                                                                 \n",
            " dropout (Dropout)           (None, 6, 8, 256)         0         \n",
            "                                                                 \n",
            " global_average_pooling2d (G  (None, 256)              0         \n",
            " lobalAveragePooling2D)                                          \n",
            "                                                                 \n",
            " flatten (Flatten)           (None, 256)               0         \n",
            "                                                                 \n",
            " dense (Dense)               (None, 4096)              1052672   \n",
            "                                                                 \n",
            " dense_1 (Dense)             (None, 1)                 4097      \n",
            "                                                                 \n",
            "=================================================================\n",
            "Total params: 3,645,057\n",
            "Trainable params: 3,643,073\n",
            "Non-trainable params: 1,984\n",
            "_________________________________________________________________\n"
          ]
        }
      ],
      "source": [
        "model.summary()"
      ]
    },
    {
      "cell_type": "code",
      "execution_count": 12,
      "metadata": {
        "id": "AiH0eUCd7tDc"
      },
      "outputs": [],
      "source": [
        "NUM_OF_EPOCHS = 40\n",
        "BATCH_SIZE = 64"
      ]
    },
    {
      "cell_type": "code",
      "execution_count": 13,
      "metadata": {
        "id": "YkV84Z7eCegP",
        "colab": {
          "base_uri": "https://localhost:8080/"
        },
        "outputId": "6144149f-f033-4825-86c2-4dd445516c29"
      },
      "outputs": [
        {
          "output_type": "stream",
          "name": "stdout",
          "text": [
            "Epoch 1/40\n",
            "113/113 [==============================] - 38s 259ms/step - loss: 0.6685 - accuracy: 0.5926 - val_loss: 0.6976 - val_accuracy: 0.5197\n",
            "Epoch 2/40\n",
            "113/113 [==============================] - 23s 207ms/step - loss: 0.6485 - accuracy: 0.6257 - val_loss: 0.6944 - val_accuracy: 0.5564\n",
            "Epoch 3/40\n",
            "113/113 [==============================] - 24s 210ms/step - loss: 0.6321 - accuracy: 0.6449 - val_loss: 0.6852 - val_accuracy: 0.5752\n",
            "Epoch 4/40\n",
            "113/113 [==============================] - 24s 214ms/step - loss: 0.6172 - accuracy: 0.6630 - val_loss: 0.6583 - val_accuracy: 0.6191\n",
            "Epoch 5/40\n",
            "113/113 [==============================] - 24s 212ms/step - loss: 0.6072 - accuracy: 0.6759 - val_loss: 0.6332 - val_accuracy: 0.6563\n",
            "Epoch 6/40\n",
            "113/113 [==============================] - 24s 214ms/step - loss: 0.5911 - accuracy: 0.6942 - val_loss: 0.6144 - val_accuracy: 0.6774\n",
            "Epoch 7/40\n",
            "113/113 [==============================] - 22s 198ms/step - loss: 0.5763 - accuracy: 0.7085 - val_loss: 0.6256 - val_accuracy: 0.6674\n",
            "Epoch 8/40\n",
            "113/113 [==============================] - 22s 198ms/step - loss: 0.5626 - accuracy: 0.7143 - val_loss: 0.6136 - val_accuracy: 0.6757\n",
            "Epoch 9/40\n",
            "113/113 [==============================] - 24s 214ms/step - loss: 0.5557 - accuracy: 0.7187 - val_loss: 0.5916 - val_accuracy: 0.6985\n",
            "Epoch 10/40\n",
            "113/113 [==============================] - 22s 197ms/step - loss: 0.5380 - accuracy: 0.7410 - val_loss: 0.6049 - val_accuracy: 0.6924\n",
            "Epoch 11/40\n",
            "113/113 [==============================] - 22s 198ms/step - loss: 0.5258 - accuracy: 0.7493 - val_loss: 0.6587 - val_accuracy: 0.6519\n",
            "Epoch 12/40\n",
            "113/113 [==============================] - 24s 216ms/step - loss: 0.5068 - accuracy: 0.7591 - val_loss: 0.5879 - val_accuracy: 0.7102\n",
            "Epoch 13/40\n",
            "113/113 [==============================] - 22s 197ms/step - loss: 0.5008 - accuracy: 0.7618 - val_loss: 0.6023 - val_accuracy: 0.7052\n",
            "Epoch 14/40\n",
            "113/113 [==============================] - 22s 197ms/step - loss: 0.4783 - accuracy: 0.7813 - val_loss: 0.6133 - val_accuracy: 0.6952\n",
            "Epoch 15/40\n",
            "113/113 [==============================] - 22s 197ms/step - loss: 0.4682 - accuracy: 0.7857 - val_loss: 0.6902 - val_accuracy: 0.6602\n",
            "Epoch 16/40\n",
            "113/113 [==============================] - 22s 196ms/step - loss: 0.4421 - accuracy: 0.8075 - val_loss: 0.5966 - val_accuracy: 0.7079\n",
            "Epoch 17/40\n",
            "113/113 [==============================] - 22s 196ms/step - loss: 0.4318 - accuracy: 0.8106 - val_loss: 0.6361 - val_accuracy: 0.6857\n",
            "Epoch 18/40\n",
            "113/113 [==============================] - 22s 197ms/step - loss: 0.4089 - accuracy: 0.8279 - val_loss: 0.6416 - val_accuracy: 0.6874\n",
            "Epoch 19/40\n",
            "113/113 [==============================] - 22s 196ms/step - loss: 0.3983 - accuracy: 0.8320 - val_loss: 0.5992 - val_accuracy: 0.7085\n",
            "Epoch 20/40\n",
            "113/113 [==============================] - 22s 198ms/step - loss: 0.3767 - accuracy: 0.8391 - val_loss: 0.6143 - val_accuracy: 0.7079\n",
            "Epoch 21/40\n",
            "113/113 [==============================] - 22s 197ms/step - loss: 0.3584 - accuracy: 0.8560 - val_loss: 0.6285 - val_accuracy: 0.7063\n",
            "Epoch 22/40\n",
            "113/113 [==============================] - 22s 197ms/step - loss: 0.3396 - accuracy: 0.8604 - val_loss: 0.6479 - val_accuracy: 0.6996\n",
            "Epoch 23/40\n",
            "113/113 [==============================] - 22s 196ms/step - loss: 0.3152 - accuracy: 0.8795 - val_loss: 0.6929 - val_accuracy: 0.6902\n",
            "Epoch 24/40\n",
            "113/113 [==============================] - 22s 197ms/step - loss: 0.3050 - accuracy: 0.8796 - val_loss: 0.6551 - val_accuracy: 0.7041\n",
            "Epoch 25/40\n",
            "113/113 [==============================] - 22s 196ms/step - loss: 0.2786 - accuracy: 0.8975 - val_loss: 0.6671 - val_accuracy: 0.7052\n",
            "Epoch 26/40\n",
            "113/113 [==============================] - 22s 197ms/step - loss: 0.2691 - accuracy: 0.8993 - val_loss: 0.6869 - val_accuracy: 0.7007\n",
            "Epoch 27/40\n",
            "113/113 [==============================] - 22s 197ms/step - loss: 0.2446 - accuracy: 0.9158 - val_loss: 0.6651 - val_accuracy: 0.7102\n",
            "Epoch 28/40\n",
            "113/113 [==============================] - 22s 196ms/step - loss: 0.2337 - accuracy: 0.9181 - val_loss: 0.7000 - val_accuracy: 0.7068\n",
            "Epoch 29/40\n",
            "113/113 [==============================] - 22s 197ms/step - loss: 0.2069 - accuracy: 0.9339 - val_loss: 0.6841 - val_accuracy: 0.7079\n",
            "Epoch 30/40\n",
            "113/113 [==============================] - 22s 197ms/step - loss: 0.1968 - accuracy: 0.9356 - val_loss: 0.7890 - val_accuracy: 0.6979\n",
            "Epoch 31/40\n",
            "113/113 [==============================] - 22s 197ms/step - loss: 0.1741 - accuracy: 0.9493 - val_loss: 0.8041 - val_accuracy: 0.6891\n",
            "Epoch 32/40\n",
            "113/113 [==============================] - 22s 197ms/step - loss: 0.1733 - accuracy: 0.9488 - val_loss: 0.7405 - val_accuracy: 0.7002\n",
            "Epoch 33/40\n",
            "113/113 [==============================] - 22s 197ms/step - loss: 0.1654 - accuracy: 0.9492 - val_loss: 0.7653 - val_accuracy: 0.7091\n",
            "Epoch 34/40\n",
            "113/113 [==============================] - 22s 197ms/step - loss: 0.1428 - accuracy: 0.9582 - val_loss: 0.7462 - val_accuracy: 0.7057\n",
            "Epoch 35/40\n",
            "113/113 [==============================] - 22s 197ms/step - loss: 0.1288 - accuracy: 0.9688 - val_loss: 0.9024 - val_accuracy: 0.6918\n",
            "Epoch 36/40\n",
            "113/113 [==============================] - 22s 196ms/step - loss: 0.1149 - accuracy: 0.9688 - val_loss: 0.8121 - val_accuracy: 0.7068\n",
            "Epoch 37/40\n",
            "113/113 [==============================] - 22s 197ms/step - loss: 0.1175 - accuracy: 0.9686 - val_loss: 0.8748 - val_accuracy: 0.6918\n",
            "Epoch 38/40\n",
            "113/113 [==============================] - 24s 215ms/step - loss: 0.1031 - accuracy: 0.9750 - val_loss: 0.8078 - val_accuracy: 0.7118\n",
            "Epoch 39/40\n",
            "113/113 [==============================] - 22s 197ms/step - loss: 0.1015 - accuracy: 0.9739 - val_loss: 0.8404 - val_accuracy: 0.7018\n",
            "Epoch 40/40\n",
            "113/113 [==============================] - 22s 196ms/step - loss: 0.0849 - accuracy: 0.9810 - val_loss: 0.8887 - val_accuracy: 0.6868\n"
          ]
        }
      ],
      "source": [
        "model_checkpoint_callback = tf.keras.callbacks.ModelCheckpoint(\n",
        "    filepath=MODEL_HISTORY_FILEPATH,\n",
        "    monitor='val_accuracy',\n",
        "    mode='auto',\n",
        "    save_best_only=True\n",
        "    )\n",
        "\n",
        "train_scores = model.fit(x_train, y_train, batch_size=BATCH_SIZE, epochs=NUM_OF_EPOCHS, shuffle=True, validation_split=0.2, callbacks=[model_checkpoint_callback])"
      ]
    },
    {
      "cell_type": "code",
      "execution_count": 14,
      "metadata": {
        "id": "j9G_FPzrCegQ",
        "colab": {
          "base_uri": "https://localhost:8080/",
          "height": 295
        },
        "outputId": "bd99f8fe-110e-4eaa-a567-65e8fe8b51ad"
      },
      "outputs": [
        {
          "output_type": "display_data",
          "data": {
            "text/plain": [
              "<Figure size 432x288 with 1 Axes>"
            ],
            "image/png": "[encoded data removed]"
          },
          "metadata": {
            "needs_background": "light"
          }
        }
      ],
      "source": [
        "plt.title(\"Train Loss and Validation Loss\")\n",
        "plt.xlabel(\"Epoch\")\n",
        "plt.ylabel(\"Loss\")\n",
        "plt.plot(np.arange(NUM_OF_EPOCHS), train_scores.history['loss'])\n",
        "plt.plot(np.arange(NUM_OF_EPOCHS), train_scores.history['val_loss'])\n",
        "plt.legend([\"Train loss\", \"Validation loss\"])\n",
        "plt.show()"
      ]
    },
    {
      "cell_type": "code",
      "execution_count": 15,
      "metadata": {
        "id": "M8yVRKmvCegR",
        "colab": {
          "base_uri": "https://localhost:8080/",
          "height": 295
        },
        "outputId": "d600c196-1cc1-49e3-c12e-eb1bbc12e1e3"
      },
      "outputs": [
        {
          "output_type": "display_data",
          "data": {
            "text/plain": [
              "<Figure size 432x288 with 1 Axes>"
            ],
            "image/png": "[encoded data removed]"
          },
          "metadata": {
            "needs_background": "light"
          }
        }
      ],
      "source": [
        "plt.title(\"Train accuracy and Validation accuracy\")\n",
        "plt.xlabel(\"Epoch\")\n",
        "plt.ylabel(\"Accuracy\")\n",
        "plt.plot(np.arange(NUM_OF_EPOCHS), train_scores.history['accuracy'])\n",
        "plt.plot(np.arange(NUM_OF_EPOCHS), train_scores.history['val_accuracy'])\n",
        "plt.legend([\"Train accuracy\", \"Validation accuracy\"])\n",
        "plt.show()"
      ]
    }
  ],
  "metadata": {
    "accelerator": "GPU",
    "colab": {
      "machine_shape": "hm",
      "provenance": []
    },
    "gpuClass": "standard",
    "kernelspec": {
      "display_name": "Python 3",
      "language": "python",
      "name": "python3"
    },
    "language_info": {
      "codemirror_mode": {
        "name": "ipython",
        "version": 3
      },
      "file_extension": ".py",
      "mimetype": "text/x-python",
      "name": "python",
      "nbconvert_exporter": "python",
      "pygments_lexer": "ipython3",
      "version": "3.10.7"
    },
    "vscode": {
      "interpreter": {
        "hash": "2121b63ebec64736fa1408ad9b4ff63d888044831182c075f83e3f47370387ac"
      }
    },
    "widgets": {
      "application/vnd.jupyter.widget-state+json": {
        "07b37d551d7c43c69209954c969d6103": {
          "model_module": "@jupyter-widgets/controls",
          "model_name": "HBoxModel",
          "model_module_version": "1.5.0",
          "state": {
            "_dom_classes": [],
            "_model_module": "@jupyter-widgets/controls",
            "_model_module_version": "1.5.0",
            "_model_name": "HBoxModel",
            "_view_count": null,
            "_view_module": "@jupyter-widgets/controls",
            "_view_module_version": "1.5.0",
            "_view_name": "HBoxView",
            "box_style": "",
            "children": [
              "IPY_MODEL_6c6071f7875947ca8ce4537180affb91",
              "IPY_MODEL_3f9a64b413be4120969ebf79154021fb",
              "IPY_MODEL_f7e331eec67b478c984a28a836590ee1"
            ],
            "layout": "IPY_MODEL_069a5227a2214d9d8a7172c3d67706bc"
          }
        },
        "6c6071f7875947ca8ce4537180affb91": {
          "model_module": "@jupyter-widgets/controls",
          "model_name": "HTMLModel",
          "model_module_version": "1.5.0",
          "state": {
            "_dom_classes": [],
            "_model_module": "@jupyter-widgets/controls",
            "_model_module_version": "1.5.0",
            "_model_name": "HTMLModel",
            "_view_count": null,
            "_view_module": "@jupyter-widgets/controls",
            "_view_module_version": "1.5.0",
            "_view_name": "HTMLView",
            "description": "",
            "description_tooltip": null,
            "layout": "IPY_MODEL_b45fe45c66a1403cba16a6def7f9aeb9",
            "placeholder": "​",
            "style": "IPY_MODEL_7ca0ed01c1044b09bd21a2a4b149e379",
            "value": ""
          }
        },
        "3f9a64b413be4120969ebf79154021fb": {
          "model_module": "@jupyter-widgets/controls",
          "model_name": "FloatProgressModel",
          "model_module_version": "1.5.0",
          "state": {
            "_dom_classes": [],
            "_model_module": "@jupyter-widgets/controls",
            "_model_module_version": "1.5.0",
            "_model_name": "FloatProgressModel",
            "_view_count": null,
            "_view_module": "@jupyter-widgets/controls",
            "_view_module_version": "1.5.0",
            "_view_name": "ProgressView",
            "bar_style": "danger",
            "description": "",
            "description_tooltip": null,
            "layout": "IPY_MODEL_56e7720fc50242c38c0a2109b5f95b7f",
            "max": 1,
            "min": 0,
            "orientation": "horizontal",
            "style": "IPY_MODEL_baabe6a69c01416e8dad2967c12a6b8b",
            "value": 1
          }
        },
        "f7e331eec67b478c984a28a836590ee1": {
          "model_module": "@jupyter-widgets/controls",
          "model_name": "HTMLModel",
          "model_module_version": "1.5.0",
          "state": {
            "_dom_classes": [],
            "_model_module": "@jupyter-widgets/controls",
            "_model_module_version": "1.5.0",
            "_model_name": "HTMLModel",
            "_view_count": null,
            "_view_module": "@jupyter-widgets/controls",
            "_view_module_version": "1.5.0",
            "_view_name": "HTMLView",
            "description": "",
            "description_tooltip": null,
            "layout": "IPY_MODEL_7a8216ad69da4697a37124ce13110325",
            "placeholder": "​",
            "style": "IPY_MODEL_b0cbbd685961421cbe054694d231e202",
            "value": " 4500/? [01:30&lt;00:00, 222.09it/s]"
          }
        },
        "069a5227a2214d9d8a7172c3d67706bc": {
          "model_module": "@jupyter-widgets/base",
          "model_name": "LayoutModel",
          "model_module_version": "1.2.0",
          "state": {
            "_model_module": "@jupyter-widgets/base",
            "_model_module_version": "1.2.0",
            "_model_name": "LayoutModel",
            "_view_count": null,
            "_view_module": "@jupyter-widgets/base",
            "_view_module_version": "1.2.0",
            "_view_name": "LayoutView",
            "align_content": null,
            "align_items": null,
            "align_self": null,
            "border": null,
            "bottom": null,
            "display": null,
            "flex": null,
            "flex_flow": null,
            "grid_area": null,
            "grid_auto_columns": null,
            "grid_auto_flow": null,
            "grid_auto_rows": null,
            "grid_column": null,
            "grid_gap": null,
            "grid_row": null,
            "grid_template_areas": null,
            "grid_template_columns": null,
            "grid_template_rows": null,
            "height": null,
            "justify_content": null,
            "justify_items": null,
            "left": null,
            "margin": null,
            "max_height": null,
            "max_width": null,
            "min_height": null,
            "min_width": null,
            "object_fit": null,
            "object_position": null,
            "order": null,
            "overflow": null,
            "overflow_x": null,
            "overflow_y": null,
            "padding": null,
            "right": null,
            "top": null,
            "visibility": null,
            "width": null
          }
        },
        "b45fe45c66a1403cba16a6def7f9aeb9": {
          "model_module": "@jupyter-widgets/base",
          "model_name": "LayoutModel",
          "model_module_version": "1.2.0",
          "state": {
            "_model_module": "@jupyter-widgets/base",
            "_model_module_version": "1.2.0",
            "_model_name": "LayoutModel",
            "_view_count": null,
            "_view_module": "@jupyter-widgets/base",
            "_view_module_version": "1.2.0",
            "_view_name": "LayoutView",
            "align_content": null,
            "align_items": null,
            "align_self": null,
            "border": null,
            "bottom": null,
            "display": null,
            "flex": null,
            "flex_flow": null,
            "grid_area": null,
            "grid_auto_columns": null,
            "grid_auto_flow": null,
            "grid_auto_rows": null,
            "grid_column": null,
            "grid_gap": null,
            "grid_row": null,
            "grid_template_areas": null,
            "grid_template_columns": null,
            "grid_template_rows": null,
            "height": null,
            "justify_content": null,
            "justify_items": null,
            "left": null,
            "margin": null,
            "max_height": null,
            "max_width": null,
            "min_height": null,
            "min_width": null,
            "object_fit": null,
            "object_position": null,
            "order": null,
            "overflow": null,
            "overflow_x": null,
            "overflow_y": null,
            "padding": null,
            "right": null,
            "top": null,
            "visibility": null,
            "width": null
          }
        },
        "7ca0ed01c1044b09bd21a2a4b149e379": {
          "model_module": "@jupyter-widgets/controls",
          "model_name": "DescriptionStyleModel",
          "model_module_version": "1.5.0",
          "state": {
            "_model_module": "@jupyter-widgets/controls",
            "_model_module_version": "1.5.0",
            "_model_name": "DescriptionStyleModel",
            "_view_count": null,
            "_view_module": "@jupyter-widgets/base",
            "_view_module_version": "1.2.0",
            "_view_name": "StyleView",
            "description_width": ""
          }
        },
        "56e7720fc50242c38c0a2109b5f95b7f": {
          "model_module": "@jupyter-widgets/base",
          "model_name": "LayoutModel",
          "model_module_version": "1.2.0",
          "state": {
            "_model_module": "@jupyter-widgets/base",
            "_model_module_version": "1.2.0",
            "_model_name": "LayoutModel",
            "_view_count": null,
            "_view_module": "@jupyter-widgets/base",
            "_view_module_version": "1.2.0",
            "_view_name": "LayoutView",
            "align_content": null,
            "align_items": null,
            "align_self": null,
            "border": null,
            "bottom": null,
            "display": null,
            "flex": null,
            "flex_flow": null,
            "grid_area": null,
            "grid_auto_columns": null,
            "grid_auto_flow": null,
            "grid_auto_rows": null,
            "grid_column": null,
            "grid_gap": null,
            "grid_row": null,
            "grid_template_areas": null,
            "grid_template_columns": null,
            "grid_template_rows": null,
            "height": null,
            "justify_content": null,
            "justify_items": null,
            "left": null,
            "margin": null,
            "max_height": null,
            "max_width": null,
            "min_height": null,
            "min_width": null,
            "object_fit": null,
            "object_position": null,
            "order": null,
            "overflow": null,
            "overflow_x": null,
            "overflow_y": null,
            "padding": null,
            "right": null,
            "top": null,
            "visibility": null,
            "width": "20px"
          }
        },
        "baabe6a69c01416e8dad2967c12a6b8b": {
          "model_module": "@jupyter-widgets/controls",
          "model_name": "ProgressStyleModel",
          "model_module_version": "1.5.0",
          "state": {
            "_model_module": "@jupyter-widgets/controls",
            "_model_module_version": "1.5.0",
            "_model_name": "ProgressStyleModel",
            "_view_count": null,
            "_view_module": "@jupyter-widgets/base",
            "_view_module_version": "1.2.0",
            "_view_name": "StyleView",
            "bar_color": null,
            "description_width": ""
          }
        },
        "7a8216ad69da4697a37124ce13110325": {
          "model_module": "@jupyter-widgets/base",
          "model_name": "LayoutModel",
          "model_module_version": "1.2.0",
          "state": {
            "_model_module": "@jupyter-widgets/base",
            "_model_module_version": "1.2.0",
            "_model_name": "LayoutModel",
            "_view_count": null,
            "_view_module": "@jupyter-widgets/base",
            "_view_module_version": "1.2.0",
            "_view_name": "LayoutView",
            "align_content": null,
            "align_items": null,
            "align_self": null,
            "border": null,
            "bottom": null,
            "display": null,
            "flex": null,
            "flex_flow": null,
            "grid_area": null,
            "grid_auto_columns": null,
            "grid_auto_flow": null,
            "grid_auto_rows": null,
            "grid_column": null,
            "grid_gap": null,
            "grid_row": null,
            "grid_template_areas": null,
            "grid_template_columns": null,
            "grid_template_rows": null,
            "height": null,
            "justify_content": null,
            "justify_items": null,
            "left": null,
            "margin": null,
            "max_height": null,
            "max_width": null,
            "min_height": null,
            "min_width": null,
            "object_fit": null,
            "object_position": null,
            "order": null,
            "overflow": null,
            "overflow_x": null,
            "overflow_y": null,
            "padding": null,
            "right": null,
            "top": null,
            "visibility": null,
            "width": null
          }
        },
        "b0cbbd685961421cbe054694d231e202": {
          "model_module": "@jupyter-widgets/controls",
          "model_name": "DescriptionStyleModel",
          "model_module_version": "1.5.0",
          "state": {
            "_model_module": "@jupyter-widgets/controls",
            "_model_module_version": "1.5.0",
            "_model_name": "DescriptionStyleModel",
            "_view_count": null,
            "_view_module": "@jupyter-widgets/base",
            "_view_module_version": "1.2.0",
            "_view_name": "StyleView",
            "description_width": ""
          }
        },
        "4ee4c45147474bf5bc78de237b45b4c6": {
          "model_module": "@jupyter-widgets/controls",
          "model_name": "HBoxModel",
          "model_module_version": "1.5.0",
          "state": {
            "_dom_classes": [],
            "_model_module": "@jupyter-widgets/controls",
            "_model_module_version": "1.5.0",
            "_model_name": "HBoxModel",
            "_view_count": null,
            "_view_module": "@jupyter-widgets/controls",
            "_view_module_version": "1.5.0",
            "_view_name": "HBoxView",
            "box_style": "",
            "children": [
              "IPY_MODEL_4bd172b8ac4e4ce19b7d636f6890195f",
              "IPY_MODEL_5bf7f4f8de0141359f12ddccc571135e",
              "IPY_MODEL_cce0874699934012b91454cd0561a937"
            ],
            "layout": "IPY_MODEL_2e02e5c5eb48402aaad4ecb80627d19e"
          }
        },
        "4bd172b8ac4e4ce19b7d636f6890195f": {
          "model_module": "@jupyter-widgets/controls",
          "model_name": "HTMLModel",
          "model_module_version": "1.5.0",
          "state": {
            "_dom_classes": [],
            "_model_module": "@jupyter-widgets/controls",
            "_model_module_version": "1.5.0",
            "_model_name": "HTMLModel",
            "_view_count": null,
            "_view_module": "@jupyter-widgets/controls",
            "_view_module_version": "1.5.0",
            "_view_name": "HTMLView",
            "description": "",
            "description_tooltip": null,
            "layout": "IPY_MODEL_05f44143139a4a84af0684e541d4bc64",
            "placeholder": "​",
            "style": "IPY_MODEL_dfa32de77831445ba0edb4bcb286e605",
            "value": ""
          }
        },
        "5bf7f4f8de0141359f12ddccc571135e": {
          "model_module": "@jupyter-widgets/controls",
          "model_name": "FloatProgressModel",
          "model_module_version": "1.5.0",
          "state": {
            "_dom_classes": [],
            "_model_module": "@jupyter-widgets/controls",
            "_model_module_version": "1.5.0",
            "_model_name": "FloatProgressModel",
            "_view_count": null,
            "_view_module": "@jupyter-widgets/controls",
            "_view_module_version": "1.5.0",
            "_view_name": "ProgressView",
            "bar_style": "danger",
            "description": "",
            "description_tooltip": null,
            "layout": "IPY_MODEL_ee137133bd6240fb83ec9fbe86cb1f2b",
            "max": 1,
            "min": 0,
            "orientation": "horizontal",
            "style": "IPY_MODEL_8243adcd81534e9ba51e1d29b8c7b346",
            "value": 1
          }
        },
        "cce0874699934012b91454cd0561a937": {
          "model_module": "@jupyter-widgets/controls",
          "model_name": "HTMLModel",
          "model_module_version": "1.5.0",
          "state": {
            "_dom_classes": [],
            "_model_module": "@jupyter-widgets/controls",
            "_model_module_version": "1.5.0",
            "_model_name": "HTMLModel",
            "_view_count": null,
            "_view_module": "@jupyter-widgets/controls",
            "_view_module_version": "1.5.0",
            "_view_name": "HTMLView",
            "description": "",
            "description_tooltip": null,
            "layout": "IPY_MODEL_cfae74e4b6e74230a010a04894feb251",
            "placeholder": "​",
            "style": "IPY_MODEL_6464d6e9576c484cad163ae62d654b44",
            "value": " 4500/? [01:14&lt;00:00, 227.71it/s]"
          }
        },
        "2e02e5c5eb48402aaad4ecb80627d19e": {
          "model_module": "@jupyter-widgets/base",
          "model_name": "LayoutModel",
          "model_module_version": "1.2.0",
          "state": {
            "_model_module": "@jupyter-widgets/base",
            "_model_module_version": "1.2.0",
            "_model_name": "LayoutModel",
            "_view_count": null,
            "_view_module": "@jupyter-widgets/base",
            "_view_module_version": "1.2.0",
            "_view_name": "LayoutView",
            "align_content": null,
            "align_items": null,
            "align_self": null,
            "border": null,
            "bottom": null,
            "display": null,
            "flex": null,
            "flex_flow": null,
            "grid_area": null,
            "grid_auto_columns": null,
            "grid_auto_flow": null,
            "grid_auto_rows": null,
            "grid_column": null,
            "grid_gap": null,
            "grid_row": null,
            "grid_template_areas": null,
            "grid_template_columns": null,
            "grid_template_rows": null,
            "height": null,
            "justify_content": null,
            "justify_items": null,
            "left": null,
            "margin": null,
            "max_height": null,
            "max_width": null,
            "min_height": null,
            "min_width": null,
            "object_fit": null,
            "object_position": null,
            "order": null,
            "overflow": null,
            "overflow_x": null,
            "overflow_y": null,
            "padding": null,
            "right": null,
            "top": null,
            "visibility": null,
            "width": null
          }
        },
        "05f44143139a4a84af0684e541d4bc64": {
          "model_module": "@jupyter-widgets/base",
          "model_name": "LayoutModel",
          "model_module_version": "1.2.0",
          "state": {
            "_model_module": "@jupyter-widgets/base",
            "_model_module_version": "1.2.0",
            "_model_name": "LayoutModel",
            "_view_count": null,
            "_view_module": "@jupyter-widgets/base",
            "_view_module_version": "1.2.0",
            "_view_name": "LayoutView",
            "align_content": null,
            "align_items": null,
            "align_self": null,
            "border": null,
            "bottom": null,
            "display": null,
            "flex": null,
            "flex_flow": null,
            "grid_area": null,
            "grid_auto_columns": null,
            "grid_auto_flow": null,
            "grid_auto_rows": null,
            "grid_column": null,
            "grid_gap": null,
            "grid_row": null,
            "grid_template_areas": null,
            "grid_template_columns": null,
            "grid_template_rows": null,
            "height": null,
            "justify_content": null,
            "justify_items": null,
            "left": null,
            "margin": null,
            "max_height": null,
            "max_width": null,
            "min_height": null,
            "min_width": null,
            "object_fit": null,
            "object_position": null,
            "order": null,
            "overflow": null,
            "overflow_x": null,
            "overflow_y": null,
            "padding": null,
            "right": null,
            "top": null,
            "visibility": null,
            "width": null
          }
        },
        "dfa32de77831445ba0edb4bcb286e605": {
          "model_module": "@jupyter-widgets/controls",
          "model_name": "DescriptionStyleModel",
          "model_module_version": "1.5.0",
          "state": {
            "_model_module": "@jupyter-widgets/controls",
            "_model_module_version": "1.5.0",
            "_model_name": "DescriptionStyleModel",
            "_view_count": null,
            "_view_module": "@jupyter-widgets/base",
            "_view_module_version": "1.2.0",
            "_view_name": "StyleView",
            "description_width": ""
          }
        },
        "ee137133bd6240fb83ec9fbe86cb1f2b": {
          "model_module": "@jupyter-widgets/base",
          "model_name": "LayoutModel",
          "model_module_version": "1.2.0",
          "state": {
            "_model_module": "@jupyter-widgets/base",
            "_model_module_version": "1.2.0",
            "_model_name": "LayoutModel",
            "_view_count": null,
            "_view_module": "@jupyter-widgets/base",
            "_view_module_version": "1.2.0",
            "_view_name": "LayoutView",
            "align_content": null,
            "align_items": null,
            "align_self": null,
            "border": null,
            "bottom": null,
            "display": null,
            "flex": null,
            "flex_flow": null,
            "grid_area": null,
            "grid_auto_columns": null,
            "grid_auto_flow": null,
            "grid_auto_rows": null,
            "grid_column": null,
            "grid_gap": null,
            "grid_row": null,
            "grid_template_areas": null,
            "grid_template_columns": null,
            "grid_template_rows": null,
            "height": null,
            "justify_content": null,
            "justify_items": null,
            "left": null,
            "margin": null,
            "max_height": null,
            "max_width": null,
            "min_height": null,
            "min_width": null,
            "object_fit": null,
            "object_position": null,
            "order": null,
            "overflow": null,
            "overflow_x": null,
            "overflow_y": null,
            "padding": null,
            "right": null,
            "top": null,
            "visibility": null,
            "width": "20px"
          }
        },
        "8243adcd81534e9ba51e1d29b8c7b346": {
          "model_module": "@jupyter-widgets/controls",
          "model_name": "ProgressStyleModel",
          "model_module_version": "1.5.0",
          "state": {
            "_model_module": "@jupyter-widgets/controls",
            "_model_module_version": "1.5.0",
            "_model_name": "ProgressStyleModel",
            "_view_count": null,
            "_view_module": "@jupyter-widgets/base",
            "_view_module_version": "1.2.0",
            "_view_name": "StyleView",
            "bar_color": null,
            "description_width": ""
          }
        },
        "cfae74e4b6e74230a010a04894feb251": {
          "model_module": "@jupyter-widgets/base",
          "model_name": "LayoutModel",
          "model_module_version": "1.2.0",
          "state": {
            "_model_module": "@jupyter-widgets/base",
            "_model_module_version": "1.2.0",
            "_model_name": "LayoutModel",
            "_view_count": null,
            "_view_module": "@jupyter-widgets/base",
            "_view_module_version": "1.2.0",
            "_view_name": "LayoutView",
            "align_content": null,
            "align_items": null,
            "align_self": null,
            "border": null,
            "bottom": null,
            "display": null,
            "flex": null,
            "flex_flow": null,
            "grid_area": null,
            "grid_auto_columns": null,
            "grid_auto_flow": null,
            "grid_auto_rows": null,
            "grid_column": null,
            "grid_gap": null,
            "grid_row": null,
            "grid_template_areas": null,
            "grid_template_columns": null,
            "grid_template_rows": null,
            "height": null,
            "justify_content": null,
            "justify_items": null,
            "left": null,
            "margin": null,
            "max_height": null,
            "max_width": null,
            "min_height": null,
            "min_width": null,
            "object_fit": null,
            "object_position": null,
            "order": null,
            "overflow": null,
            "overflow_x": null,
            "overflow_y": null,
            "padding": null,
            "right": null,
            "top": null,
            "visibility": null,
            "width": null
          }
        },
        "6464d6e9576c484cad163ae62d654b44": {
          "model_module": "@jupyter-widgets/controls",
          "model_name": "DescriptionStyleModel",
          "model_module_version": "1.5.0",
          "state": {
            "_model_module": "@jupyter-widgets/controls",
            "_model_module_version": "1.5.0",
            "_model_name": "DescriptionStyleModel",
            "_view_count": null,
            "_view_module": "@jupyter-widgets/base",
            "_view_module_version": "1.2.0",
            "_view_name": "StyleView",
            "description_width": ""
          }
        }
      }
    }
  },
  "nbformat": 4,
  "nbformat_minor": 0
}