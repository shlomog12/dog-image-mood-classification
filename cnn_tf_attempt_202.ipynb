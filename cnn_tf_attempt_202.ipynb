{
  "cells": [
    {
      "cell_type": "code",
      "execution_count": 1,
      "metadata": {
        "id": "rfvySML1Cef1"
      },
      "outputs": [],
      "source": [
        "# params\n",
        "IMAGE_SIZE = 300\n",
        "NUM_CHANELLS = 3\n",
        "# LEN_FEATURES = IMAGE_SIZE * IMAGE_SIZE * NUM_CHANELLS\n",
        "NUM_OF_EPOCHS = 30\n",
        "ZISE_OF_IMAGES = 9000\n",
        "BATCH_SIZE = 32\n",
        "CLASSES = ['happy', 'sad']\n",
        "\n",
        "# paths\n",
        "# PATH = r\"D:\\\\Projects\\Development\\\\courses_projects\\\\deep_learning_and_natural_language_processing\\\\dog-image-mood-classification\"\n",
        "# PATH_TO_DATA = PATH + '\\\\' + \"data\\\\images\"\n",
        "# MODEL_HISTORY_FILEPATH = PATH + '\\\\' + r\"models_history\\\\model_1.hdf5\"\n",
        "DRIVE_PATH = '/content/drive'\n",
        "PATH = DRIVE_PATH + \"/MyDrive/deep-learning/\"\n",
        "PATH_TO_DATA = PATH + \"data/images/\"\n",
        "MODEL_HISTORY_FILEPATH = PATH+\"RES33/\""
      ]
    },
    {
      "cell_type": "code",
      "execution_count": 2,
      "metadata": {
        "colab": {
          "base_uri": "https://localhost:8080/"
        },
        "id": "F6XWZQ4WDgqK",
        "outputId": "33bc1b74-2b24-4629-be92-a00dbadaebce"
      },
      "outputs": [
        {
          "output_type": "stream",
          "name": "stdout",
          "text": [
            "Mounted at /content/drive\n"
          ]
        }
      ],
      "source": [
        "from google.colab import drive\n",
        "drive.mount(DRIVE_PATH)"
      ]
    },
    {
      "cell_type": "code",
      "execution_count": 3,
      "metadata": {
        "id": "bk9O7vUICegA"
      },
      "outputs": [],
      "source": [
        "# modeling\n",
        "import tensorflow as tf\n",
        "import matplotlib.pyplot as plt\n",
        "%matplotlib inline\n",
        "from sklearn.utils import shuffle\n",
        "import cv2\n",
        "\n",
        "# tools\n",
        "from typing import Tuple\n",
        "import os\n",
        "import random\n",
        "import numpy as np\n",
        "from datetime import datetime\n",
        "\n",
        "# warnings\n",
        "import warnings\n",
        "warnings.filterwarnings('ignore')\n",
        "warnings.simplefilter('ignore')\n",
        "import absl.logging\n",
        "absl.logging.set_verbosity(absl.logging.ERROR)\n",
        "from scipy.ndimage import rotate\n",
        "import tqdm.notebook as tq"
      ]
    },
    {
      "cell_type": "code",
      "execution_count": 4,
      "metadata": {
        "id": "KfosahpDCegC"
      },
      "outputs": [],
      "source": [
        "def load_data(classes) -> Tuple[np.array, np.array]:\n",
        "  images = []\n",
        "  labels = []\n",
        "  files = []\n",
        "  for i in range(len(classes)):\n",
        "    folder_name = classes[i]\n",
        "    path = os.path.join(PATH_TO_DATA, folder_name)\n",
        "    count = 0\n",
        "    for file_index, file_name in tq.tqdm(enumerate(os.listdir(path))):\n",
        "      file_name = os.path.join(path, file_name)\n",
        "      image = cv2.imread(file_name)\n",
        "      image = cv2.resize(image, (IMAGE_SIZE, IMAGE_SIZE))\n",
        "      # rotated_images = rotate_image(image)\n",
        "      images += [image]\n",
        "      # images +=  rotated_images\n",
        "      label = [i]\n",
        "      labels += [label]\n",
        "      # labels += [label]\n",
        "      files.append(os.path.join(path, file_name))\n",
        "      if count == ZISE_OF_IMAGES / 2:\n",
        "        break\n",
        "      count += 1\n",
        "  return np.array(images), np.array(labels)\n",
        "\n",
        "def rotate_image(img):\n",
        "  images = []\n",
        "  degs = [20]\n",
        "  for deg in degs:\n",
        "    images.append(rotate(img, angle=deg, reshape=False))\n",
        "  return images\n",
        "\n",
        "def plot_images(images, cls_true, cls_pred=None):\n",
        "    if len(images) == 0:\n",
        "        print(\"no images to show\")\n",
        "        return \n",
        "    else:\n",
        "        random_indices = random.sample(range(len(images)), min(len(images), 9))\n",
        "        \n",
        "    if cls_pred is not None:\n",
        "        images, cls_true, cls_pred  = zip(*[(images[i], cls_true[i], cls_pred[i]) for i in random_indices])\n",
        "    else:\n",
        "        images, cls_true  = zip(*[(images[i], cls_true[i]) for i in random_indices])\n",
        "    \n",
        "    fig, axes = plt.subplots(3, 3)\n",
        "    fig.subplots_adjust(hspace=0.3, wspace=0.3)\n",
        "\n",
        "    for i, ax in enumerate(axes.flat):\n",
        "        ax.imshow(images[i].reshape(IMAGE_SIZE, IMAGE_SIZE, 3))\n",
        "\n",
        "        if cls_pred is None:\n",
        "            xlabel = \"True: {0}\".format(cls_true[i])\n",
        "        else:\n",
        "            xlabel = \"True: {0}, Pred: {1}\".format(cls_true[i], cls_pred[i])\n",
        "\n",
        "        ax.set_xlabel(xlabel)\n",
        "        ax.set_xticks([])\n",
        "        ax.set_yticks([])\n",
        "    plt.show()\n",
        "\n",
        "def make_vactors(labels) -> np.array:\n",
        "  new_labels = []\n",
        "  for label in labels:\n",
        "      value = label[0]\n",
        "      new_label = [0] * len(CLASSES)\n",
        "      new_label[value] = 1\n",
        "      new_labels.append(new_label)\n",
        "  return np.array(new_labels)"
      ]
    },
    {
      "cell_type": "code",
      "execution_count": 5,
      "metadata": {
        "colab": {
          "base_uri": "https://localhost:8080/",
          "height": 81,
          "referenced_widgets": [
            "2994492262214b22bc022293a4bdc19a",
            "b8904ddb6d2c438bae402f2d81f3c7ee",
            "9c619f8d40f84473ae5e4c7d387129f6",
            "7529fed6017243c1a923474b8c9081dc",
            "9fcf3287fa144d2fb76a54474c197532",
            "ffe543ea2cd74c2ead50f70e81687259",
            "597ca8b9c3b742c9a6f96154b48db904",
            "96bed0045c854531a6df83117269e84a",
            "b379ef46f87440b1b227b000511e2e46",
            "c0b97b7f5ff945779b1ce3b5f2d52652",
            "432a3cd911c54ad191eebeba8582cbd0",
            "4ff950f796094f748c7fee89eb4f70fe",
            "ff1c16c1001c403ba703f35bcb32752a",
            "b244ea8a43f64a5fbe82a0366c2a8315",
            "bf73c58f14de4c6aabb314bd82402e4f",
            "0f13118f186246a0bd396abb1cf70db2",
            "54b8d4756cbe4e2ea6cacb6841ddf2cf",
            "6a9fbd882ad046fca1c3633139dd9242",
            "2095309be78446b880ea149c0d1a5f61",
            "2a6e1affe2654ebba67a4b65aa145292",
            "8cc2f763588342edb56acfaf8a2c9a1f",
            "a3552592548a45bbb2f0d82aba56ef13"
          ]
        },
        "id": "kjOWGAbACegF",
        "outputId": "e465ba7a-1608-462d-b227-9ed9f991db54"
      },
      "outputs": [
        {
          "output_type": "display_data",
          "data": {
            "text/plain": [
              "0it [00:00, ?it/s]"
            ],
            "application/vnd.jupyter.widget-view+json": {
              "version_major": 2,
              "version_minor": 0,
              "model_id": "2994492262214b22bc022293a4bdc19a"
            }
          },
          "metadata": {}
        },
        {
          "output_type": "display_data",
          "data": {
            "text/plain": [
              "0it [00:00, ?it/s]"
            ],
            "application/vnd.jupyter.widget-view+json": {
              "version_major": 2,
              "version_minor": 0,
              "model_id": "4ff950f796094f748c7fee89eb4f70fe"
            }
          },
          "metadata": {}
        }
      ],
      "source": [
        "train_images, train_labels = load_data(CLASSES)\n",
        "train_images, train_labels = shuffle(train_images, train_labels)"
      ]
    },
    {
      "cell_type": "code",
      "execution_count": 6,
      "metadata": {
        "id": "VDVPKugKCegH",
        "colab": {
          "base_uri": "https://localhost:8080/"
        },
        "outputId": "a587c09c-2148-406f-9c02-395f105a71f7"
      },
      "outputs": [
        {
          "output_type": "stream",
          "name": "stdout",
          "text": [
            "Shape of training data: (9002, 300, 300, 3)\n"
          ]
        }
      ],
      "source": [
        "print(f\"Shape of training data: {train_images.shape}\")"
      ]
    },
    {
      "cell_type": "code",
      "execution_count": 7,
      "metadata": {
        "id": "GcFjxjLDCegK",
        "colab": {
          "base_uri": "https://localhost:8080/"
        },
        "outputId": "8faa0742-169e-4801-f3dd-707127591bd1"
      },
      "outputs": [
        {
          "output_type": "stream",
          "name": "stdout",
          "text": [
            "Size of train: 9002\n"
          ]
        }
      ],
      "source": [
        "print(f\"Size of train: {len(train_images)}\")"
      ]
    },
    {
      "cell_type": "code",
      "execution_count": 8,
      "metadata": {
        "id": "ZqhvxeSECegL"
      },
      "outputs": [],
      "source": [
        "x_train = train_images.astype('float32') / 255.0\n",
        "y_train = np.asarray(train_labels).astype('float32').reshape((-1,1))"
      ]
    },
    {
      "cell_type": "code",
      "execution_count": 9,
      "metadata": {
        "id": "eJw3YF8nXlZk"
      },
      "outputs": [],
      "source": [
        "del train_images\n",
        "del train_labels"
      ]
    },
    {
      "cell_type": "code",
      "execution_count": 10,
      "metadata": {
        "id": "kwdJdvhsCegM"
      },
      "outputs": [],
      "source": [
        "# AlexNet Model archicture\n",
        "model = tf.keras.Sequential()\n",
        "\n",
        "model.add(tf.keras.layers.Conv2D(96, (3, 3), strides=(2, 2), padding='valid', activation='relu', input_shape=x_train.shape[1:]))\n",
        "model.add(tf.keras.layers.BatchNormalization())\n",
        "model.add(tf.keras.layers.MaxPooling2D(pool_size=(3, 3), strides=(2, 2)))\n",
        "\n",
        "model.add(tf.keras.layers.Conv2D(256, (3, 3), strides=(2, 2), padding='same', activation='relu'))\n",
        "model.add(tf.keras.layers.BatchNormalization())\n",
        "model.add(tf.keras.layers.MaxPooling2D(pool_size=(3, 3), strides=(2, 2)))\n",
        "\n",
        "model.add(tf.keras.layers.Conv2D(384, (3, 3), padding='same', activation='relu'))\n",
        "model.add(tf.keras.layers.BatchNormalization())\n",
        "\n",
        "model.add(tf.keras.layers.Conv2D(256, (3, 3), padding='same', activation='relu'))\n",
        "model.add(tf.keras.layers.BatchNormalization())\n",
        "model.add(tf.keras.layers.MaxPooling2D(pool_size=(3, 3), strides=(3, 2)))\n",
        "\n",
        "\n",
        "\n",
        "model.add(tf.keras.layers.Conv2D(256, (3, 3), padding='same', activation='relu'))\n",
        "model.add(tf.keras.layers.Dropout(0.5))\n",
        "model.add(tf.keras.layers.GlobalAveragePooling2D())\n",
        "\n",
        "\n",
        "model.add(tf.keras.layers.Flatten())\n",
        "model.add(tf.keras.layers.Dense(4096, activation='relu'))\n",
        "model.add(tf.keras.layers.Dense(1, activation='sigmoid'))\n",
        "\n",
        "model.compile(optimizer=tf.keras.optimizers.Adam(learning_rate=0.00001), loss='binary_crossentropy', metrics=['accuracy'])"
      ]
    },
    {
      "cell_type": "code",
      "execution_count": 11,
      "metadata": {
        "id": "WIzfqcG3CegO",
        "colab": {
          "base_uri": "https://localhost:8080/"
        },
        "outputId": "8e931cc6-86b7-4a1b-9af0-ad35a09a9859"
      },
      "outputs": [
        {
          "output_type": "stream",
          "name": "stdout",
          "text": [
            "Model: \"sequential\"\n",
            "_________________________________________________________________\n",
            " Layer (type)                Output Shape              Param #   \n",
            "=================================================================\n",
            " conv2d (Conv2D)             (None, 149, 149, 96)      2688      \n",
            "                                                                 \n",
            " batch_normalization (BatchN  (None, 149, 149, 96)     384       \n",
            " ormalization)                                                   \n",
            "                                                                 \n",
            " max_pooling2d (MaxPooling2D  (None, 74, 74, 96)       0         \n",
            " )                                                               \n",
            "                                                                 \n",
            " conv2d_1 (Conv2D)           (None, 37, 37, 256)       221440    \n",
            "                                                                 \n",
            " batch_normalization_1 (Batc  (None, 37, 37, 256)      1024      \n",
            " hNormalization)                                                 \n",
            "                                                                 \n",
            " max_pooling2d_1 (MaxPooling  (None, 18, 18, 256)      0         \n",
            " 2D)                                                             \n",
            "                                                                 \n",
            " conv2d_2 (Conv2D)           (None, 18, 18, 384)       885120    \n",
            "                                                                 \n",
            " batch_normalization_2 (Batc  (None, 18, 18, 384)      1536      \n",
            " hNormalization)                                                 \n",
            "                                                                 \n",
            " conv2d_3 (Conv2D)           (None, 18, 18, 256)       884992    \n",
            "                                                                 \n",
            " batch_normalization_3 (Batc  (None, 18, 18, 256)      1024      \n",
            " hNormalization)                                                 \n",
            "                                                                 \n",
            " max_pooling2d_2 (MaxPooling  (None, 6, 8, 256)        0         \n",
            " 2D)                                                             \n",
            "                                                                 \n",
            " conv2d_4 (Conv2D)           (None, 6, 8, 256)         590080    \n",
            "                                                                 \n",
            " dropout (Dropout)           (None, 6, 8, 256)         0         \n",
            "                                                                 \n",
            " global_average_pooling2d (G  (None, 256)              0         \n",
            " lobalAveragePooling2D)                                          \n",
            "                                                                 \n",
            " flatten (Flatten)           (None, 256)               0         \n",
            "                                                                 \n",
            " dense (Dense)               (None, 4096)              1052672   \n",
            "                                                                 \n",
            " dense_1 (Dense)             (None, 1)                 4097      \n",
            "                                                                 \n",
            "=================================================================\n",
            "Total params: 3,645,057\n",
            "Trainable params: 3,643,073\n",
            "Non-trainable params: 1,984\n",
            "_________________________________________________________________\n"
          ]
        }
      ],
      "source": [
        "model.summary()"
      ]
    },
    {
      "cell_type": "code",
      "execution_count": 12,
      "metadata": {
        "id": "AiH0eUCd7tDc"
      },
      "outputs": [],
      "source": [
        "NUM_OF_EPOCHS = 40\n",
        "BATCH_SIZE = 64"
      ]
    },
    {
      "cell_type": "code",
      "execution_count": 13,
      "metadata": {
        "id": "YkV84Z7eCegP",
        "colab": {
          "base_uri": "https://localhost:8080/"
        },
        "outputId": "08c0499a-274f-4b88-eff6-8509d944b35f"
      },
      "outputs": [
        {
          "output_type": "stream",
          "name": "stdout",
          "text": [
            "Epoch 1/40\n",
            "113/113 [==============================] - 40s 259ms/step - loss: 0.6635 - accuracy: 0.5876 - val_loss: 0.6919 - val_accuracy: 0.5130\n",
            "Epoch 2/40\n",
            "113/113 [==============================] - 23s 205ms/step - loss: 0.6456 - accuracy: 0.6178 - val_loss: 0.6907 - val_accuracy: 0.5136\n",
            "Epoch 3/40\n",
            "113/113 [==============================] - 23s 205ms/step - loss: 0.6305 - accuracy: 0.6430 - val_loss: 0.6855 - val_accuracy: 0.5403\n",
            "Epoch 4/40\n",
            "113/113 [==============================] - 24s 208ms/step - loss: 0.6151 - accuracy: 0.6603 - val_loss: 0.6689 - val_accuracy: 0.5652\n",
            "Epoch 5/40\n",
            "113/113 [==============================] - 23s 206ms/step - loss: 0.6038 - accuracy: 0.6780 - val_loss: 0.6189 - val_accuracy: 0.6591\n",
            "Epoch 6/40\n",
            "113/113 [==============================] - 21s 189ms/step - loss: 0.5919 - accuracy: 0.6905 - val_loss: 0.6127 - val_accuracy: 0.6585\n",
            "Epoch 7/40\n",
            "113/113 [==============================] - 24s 210ms/step - loss: 0.5811 - accuracy: 0.7000 - val_loss: 0.5983 - val_accuracy: 0.6757\n",
            "Epoch 8/40\n",
            "113/113 [==============================] - 22s 191ms/step - loss: 0.5625 - accuracy: 0.7153 - val_loss: 0.6050 - val_accuracy: 0.6702\n",
            "Epoch 9/40\n",
            "113/113 [==============================] - 22s 191ms/step - loss: 0.5492 - accuracy: 0.7306 - val_loss: 0.6181 - val_accuracy: 0.6563\n",
            "Epoch 10/40\n",
            "113/113 [==============================] - 24s 209ms/step - loss: 0.5337 - accuracy: 0.7398 - val_loss: 0.5857 - val_accuracy: 0.6835\n",
            "Epoch 11/40\n",
            "113/113 [==============================] - 24s 212ms/step - loss: 0.5242 - accuracy: 0.7427 - val_loss: 0.5910 - val_accuracy: 0.6857\n",
            "Epoch 12/40\n",
            "113/113 [==============================] - 22s 192ms/step - loss: 0.5099 - accuracy: 0.7509 - val_loss: 0.5933 - val_accuracy: 0.6835\n",
            "Epoch 13/40\n",
            "113/113 [==============================] - 22s 192ms/step - loss: 0.4891 - accuracy: 0.7684 - val_loss: 0.6304 - val_accuracy: 0.6718\n",
            "Epoch 14/40\n",
            "113/113 [==============================] - 22s 193ms/step - loss: 0.4705 - accuracy: 0.7849 - val_loss: 0.6455 - val_accuracy: 0.6613\n",
            "Epoch 15/40\n",
            "113/113 [==============================] - 24s 212ms/step - loss: 0.4530 - accuracy: 0.7924 - val_loss: 0.6072 - val_accuracy: 0.6929\n",
            "Epoch 16/40\n",
            "113/113 [==============================] - 22s 193ms/step - loss: 0.4354 - accuracy: 0.8067 - val_loss: 0.6190 - val_accuracy: 0.6785\n",
            "Epoch 17/40\n",
            "113/113 [==============================] - 22s 194ms/step - loss: 0.4180 - accuracy: 0.8149 - val_loss: 0.6338 - val_accuracy: 0.6563\n",
            "Epoch 18/40\n",
            "113/113 [==============================] - 22s 193ms/step - loss: 0.3949 - accuracy: 0.8297 - val_loss: 0.6463 - val_accuracy: 0.6824\n",
            "Epoch 19/40\n",
            "113/113 [==============================] - 22s 193ms/step - loss: 0.3765 - accuracy: 0.8399 - val_loss: 0.6713 - val_accuracy: 0.6824\n",
            "Epoch 20/40\n",
            "113/113 [==============================] - 24s 211ms/step - loss: 0.3547 - accuracy: 0.8522 - val_loss: 0.6146 - val_accuracy: 0.6974\n",
            "Epoch 21/40\n",
            "113/113 [==============================] - 22s 193ms/step - loss: 0.3434 - accuracy: 0.8585 - val_loss: 0.6459 - val_accuracy: 0.6907\n",
            "Epoch 22/40\n",
            "113/113 [==============================] - 24s 213ms/step - loss: 0.3193 - accuracy: 0.8695 - val_loss: 0.6097 - val_accuracy: 0.7068\n",
            "Epoch 23/40\n",
            "113/113 [==============================] - 24s 211ms/step - loss: 0.3002 - accuracy: 0.8829 - val_loss: 0.6044 - val_accuracy: 0.7207\n",
            "Epoch 24/40\n",
            "113/113 [==============================] - 22s 193ms/step - loss: 0.2740 - accuracy: 0.8956 - val_loss: 0.6208 - val_accuracy: 0.7113\n",
            "Epoch 25/40\n",
            "113/113 [==============================] - 22s 193ms/step - loss: 0.2596 - accuracy: 0.9022 - val_loss: 0.6940 - val_accuracy: 0.6946\n",
            "Epoch 26/40\n",
            "113/113 [==============================] - 22s 193ms/step - loss: 0.2352 - accuracy: 0.9181 - val_loss: 0.7175 - val_accuracy: 0.6857\n",
            "Epoch 27/40\n",
            "113/113 [==============================] - 22s 193ms/step - loss: 0.2254 - accuracy: 0.9201 - val_loss: 0.6858 - val_accuracy: 0.7002\n",
            "Epoch 28/40\n",
            "113/113 [==============================] - 22s 194ms/step - loss: 0.2066 - accuracy: 0.9289 - val_loss: 0.6664 - val_accuracy: 0.7041\n",
            "Epoch 29/40\n",
            "113/113 [==============================] - 22s 193ms/step - loss: 0.1941 - accuracy: 0.9345 - val_loss: 0.7306 - val_accuracy: 0.7024\n",
            "Epoch 30/40\n",
            "113/113 [==============================] - 22s 194ms/step - loss: 0.1801 - accuracy: 0.9422 - val_loss: 0.6983 - val_accuracy: 0.7063\n",
            "Epoch 31/40\n",
            "113/113 [==============================] - 22s 194ms/step - loss: 0.1582 - accuracy: 0.9510 - val_loss: 0.7154 - val_accuracy: 0.7018\n",
            "Epoch 32/40\n",
            "113/113 [==============================] - 22s 194ms/step - loss: 0.1465 - accuracy: 0.9581 - val_loss: 0.7232 - val_accuracy: 0.7035\n",
            "Epoch 33/40\n",
            "113/113 [==============================] - 22s 194ms/step - loss: 0.1389 - accuracy: 0.9568 - val_loss: 0.9692 - val_accuracy: 0.6680\n",
            "Epoch 34/40\n",
            "113/113 [==============================] - 22s 194ms/step - loss: 0.1316 - accuracy: 0.9611 - val_loss: 0.7404 - val_accuracy: 0.7085\n",
            "Epoch 35/40\n",
            "113/113 [==============================] - 22s 193ms/step - loss: 0.1125 - accuracy: 0.9693 - val_loss: 0.7433 - val_accuracy: 0.7085\n",
            "Epoch 36/40\n",
            "113/113 [==============================] - 22s 193ms/step - loss: 0.0990 - accuracy: 0.9764 - val_loss: 0.7946 - val_accuracy: 0.7057\n",
            "Epoch 37/40\n",
            "113/113 [==============================] - 22s 194ms/step - loss: 0.1024 - accuracy: 0.9711 - val_loss: 0.7918 - val_accuracy: 0.7079\n",
            "Epoch 38/40\n",
            "113/113 [==============================] - 22s 194ms/step - loss: 0.0895 - accuracy: 0.9779 - val_loss: 0.8321 - val_accuracy: 0.7041\n",
            "Epoch 39/40\n",
            "113/113 [==============================] - 22s 193ms/step - loss: 0.0843 - accuracy: 0.9810 - val_loss: 0.8569 - val_accuracy: 0.6974\n",
            "Epoch 40/40\n",
            "113/113 [==============================] - 22s 194ms/step - loss: 0.0764 - accuracy: 0.9824 - val_loss: 0.8582 - val_accuracy: 0.6979\n"
          ]
        }
      ],
      "source": [
        "model_checkpoint_callback = tf.keras.callbacks.ModelCheckpoint(\n",
        "    filepath=MODEL_HISTORY_FILEPATH,\n",
        "    monitor='val_accuracy',\n",
        "    mode='auto',\n",
        "    save_best_only=True\n",
        "    )\n",
        "\n",
        "train_scores = model.fit(x_train, y_train, batch_size=BATCH_SIZE, epochs=NUM_OF_EPOCHS, shuffle=True, validation_split=0.2, callbacks=[model_checkpoint_callback])"
      ]
    },
    {
      "cell_type": "code",
      "execution_count": 14,
      "metadata": {
        "id": "j9G_FPzrCegQ",
        "colab": {
          "base_uri": "https://localhost:8080/",
          "height": 295
        },
        "outputId": "4a49117c-89cb-41e3-f795-371ebb1f0090"
      },
      "outputs": [
        {
          "output_type": "display_data",
          "data": {
            "text/plain": [
              "<Figure size 432x288 with 1 Axes>"
            ],
            "image/png": "[encoded data removed]"
          },
          "metadata": {
            "needs_background": "light"
          }
        }
      ],
      "source": [
        "plt.title(\"Train Loss and Validation Loss\")\n",
        "plt.xlabel(\"Epoch\")\n",
        "plt.ylabel(\"Loss\")\n",
        "plt.plot(np.arange(NUM_OF_EPOCHS), train_scores.history['loss'])\n",
        "plt.plot(np.arange(NUM_OF_EPOCHS), train_scores.history['val_loss'])\n",
        "plt.legend([\"Train loss\", \"Validation loss\"])\n",
        "plt.show()"
      ]
    },
    {
      "cell_type": "code",
      "execution_count": 15,
      "metadata": {
        "id": "M8yVRKmvCegR",
        "colab": {
          "base_uri": "https://localhost:8080/",
          "height": 295
        },
        "outputId": "46d87c7e-9637-4da2-b5b2-37d6dedf5c1f"
      },
      "outputs": [
        {
          "output_type": "display_data",
          "data": {
            "text/plain": [
              "<Figure size 432x288 with 1 Axes>"
            ],
            "image/png": "[encoded data removed]"
          },
          "metadata": {
            "needs_background": "light"
          }
        }
      ],
      "source": [
        "plt.title(\"Train accuracy and Validation accuracy\")\n",
        "plt.xlabel(\"Epoch\")\n",
        "plt.ylabel(\"Accuracy\")\n",
        "plt.plot(np.arange(NUM_OF_EPOCHS), train_scores.history['accuracy'])\n",
        "plt.plot(np.arange(NUM_OF_EPOCHS), train_scores.history['val_accuracy'])\n",
        "plt.legend([\"Train accuracy\", \"Validation accuracy\"])\n",
        "plt.show()"
      ]
    }
  ],
  "metadata": {
    "accelerator": "GPU",
    "colab": {
      "machine_shape": "hm",
      "provenance": []
    },
    "gpuClass": "standard",
    "kernelspec": {
      "display_name": "Python 3",
      "language": "python",
      "name": "python3"
    },
    "language_info": {
      "codemirror_mode": {
        "name": "ipython",
        "version": 3
      },
      "file_extension": ".py",
      "mimetype": "text/x-python",
      "name": "python",
      "nbconvert_exporter": "python",
      "pygments_lexer": "ipython3",
      "version": "3.10.7"
    },
    "vscode": {
      "interpreter": {
        "hash": "2121b63ebec64736fa1408ad9b4ff63d888044831182c075f83e3f47370387ac"
      }
    },
    "widgets": {
      "application/vnd.jupyter.widget-state+json": {
        "2994492262214b22bc022293a4bdc19a": {
          "model_module": "@jupyter-widgets/controls",
          "model_name": "HBoxModel",
          "model_module_version": "1.5.0",
          "state": {
            "_dom_classes": [],
            "_model_module": "@jupyter-widgets/controls",
            "_model_module_version": "1.5.0",
            "_model_name": "HBoxModel",
            "_view_count": null,
            "_view_module": "@jupyter-widgets/controls",
            "_view_module_version": "1.5.0",
            "_view_name": "HBoxView",
            "box_style": "",
            "children": [
              "IPY_MODEL_b8904ddb6d2c438bae402f2d81f3c7ee",
              "IPY_MODEL_9c619f8d40f84473ae5e4c7d387129f6",
              "IPY_MODEL_7529fed6017243c1a923474b8c9081dc"
            ],
            "layout": "IPY_MODEL_9fcf3287fa144d2fb76a54474c197532"
          }
        },
        "b8904ddb6d2c438bae402f2d81f3c7ee": {
          "model_module": "@jupyter-widgets/controls",
          "model_name": "HTMLModel",
          "model_module_version": "1.5.0",
          "state": {
            "_dom_classes": [],
            "_model_module": "@jupyter-widgets/controls",
            "_model_module_version": "1.5.0",
            "_model_name": "HTMLModel",
            "_view_count": null,
            "_view_module": "@jupyter-widgets/controls",
            "_view_module_version": "1.5.0",
            "_view_name": "HTMLView",
            "description": "",
            "description_tooltip": null,
            "layout": "IPY_MODEL_ffe543ea2cd74c2ead50f70e81687259",
            "placeholder": "​",
            "style": "IPY_MODEL_597ca8b9c3b742c9a6f96154b48db904",
            "value": ""
          }
        },
        "9c619f8d40f84473ae5e4c7d387129f6": {
          "model_module": "@jupyter-widgets/controls",
          "model_name": "FloatProgressModel",
          "model_module_version": "1.5.0",
          "state": {
            "_dom_classes": [],
            "_model_module": "@jupyter-widgets/controls",
            "_model_module_version": "1.5.0",
            "_model_name": "FloatProgressModel",
            "_view_count": null,
            "_view_module": "@jupyter-widgets/controls",
            "_view_module_version": "1.5.0",
            "_view_name": "ProgressView",
            "bar_style": "danger",
            "description": "",
            "description_tooltip": null,
            "layout": "IPY_MODEL_96bed0045c854531a6df83117269e84a",
            "max": 1,
            "min": 0,
            "orientation": "horizontal",
            "style": "IPY_MODEL_b379ef46f87440b1b227b000511e2e46",
            "value": 1
          }
        },
        "7529fed6017243c1a923474b8c9081dc": {
          "model_module": "@jupyter-widgets/controls",
          "model_name": "HTMLModel",
          "model_module_version": "1.5.0",
          "state": {
            "_dom_classes": [],
            "_model_module": "@jupyter-widgets/controls",
            "_model_module_version": "1.5.0",
            "_model_name": "HTMLModel",
            "_view_count": null,
            "_view_module": "@jupyter-widgets/controls",
            "_view_module_version": "1.5.0",
            "_view_name": "HTMLView",
            "description": "",
            "description_tooltip": null,
            "layout": "IPY_MODEL_c0b97b7f5ff945779b1ce3b5f2d52652",
            "placeholder": "​",
            "style": "IPY_MODEL_432a3cd911c54ad191eebeba8582cbd0",
            "value": " 4500/? [02:16&lt;00:00, 215.43it/s]"
          }
        },
        "9fcf3287fa144d2fb76a54474c197532": {
          "model_module": "@jupyter-widgets/base",
          "model_name": "LayoutModel",
          "model_module_version": "1.2.0",
          "state": {
            "_model_module": "@jupyter-widgets/base",
            "_model_module_version": "1.2.0",
            "_model_name": "LayoutModel",
            "_view_count": null,
            "_view_module": "@jupyter-widgets/base",
            "_view_module_version": "1.2.0",
            "_view_name": "LayoutView",
            "align_content": null,
            "align_items": null,
            "align_self": null,
            "border": null,
            "bottom": null,
            "display": null,
            "flex": null,
            "flex_flow": null,
            "grid_area": null,
            "grid_auto_columns": null,
            "grid_auto_flow": null,
            "grid_auto_rows": null,
            "grid_column": null,
            "grid_gap": null,
            "grid_row": null,
            "grid_template_areas": null,
            "grid_template_columns": null,
            "grid_template_rows": null,
            "height": null,
            "justify_content": null,
            "justify_items": null,
            "left": null,
            "margin": null,
            "max_height": null,
            "max_width": null,
            "min_height": null,
            "min_width": null,
            "object_fit": null,
            "object_position": null,
            "order": null,
            "overflow": null,
            "overflow_x": null,
            "overflow_y": null,
            "padding": null,
            "right": null,
            "top": null,
            "visibility": null,
            "width": null
          }
        },
        "ffe543ea2cd74c2ead50f70e81687259": {
          "model_module": "@jupyter-widgets/base",
          "model_name": "LayoutModel",
          "model_module_version": "1.2.0",
          "state": {
            "_model_module": "@jupyter-widgets/base",
            "_model_module_version": "1.2.0",
            "_model_name": "LayoutModel",
            "_view_count": null,
            "_view_module": "@jupyter-widgets/base",
            "_view_module_version": "1.2.0",
            "_view_name": "LayoutView",
            "align_content": null,
            "align_items": null,
            "align_self": null,
            "border": null,
            "bottom": null,
            "display": null,
            "flex": null,
            "flex_flow": null,
            "grid_area": null,
            "grid_auto_columns": null,
            "grid_auto_flow": null,
            "grid_auto_rows": null,
            "grid_column": null,
            "grid_gap": null,
            "grid_row": null,
            "grid_template_areas": null,
            "grid_template_columns": null,
            "grid_template_rows": null,
            "height": null,
            "justify_content": null,
            "justify_items": null,
            "left": null,
            "margin": null,
            "max_height": null,
            "max_width": null,
            "min_height": null,
            "min_width": null,
            "object_fit": null,
            "object_position": null,
            "order": null,
            "overflow": null,
            "overflow_x": null,
            "overflow_y": null,
            "padding": null,
            "right": null,
            "top": null,
            "visibility": null,
            "width": null
          }
        },
        "597ca8b9c3b742c9a6f96154b48db904": {
          "model_module": "@jupyter-widgets/controls",
          "model_name": "DescriptionStyleModel",
          "model_module_version": "1.5.0",
          "state": {
            "_model_module": "@jupyter-widgets/controls",
            "_model_module_version": "1.5.0",
            "_model_name": "DescriptionStyleModel",
            "_view_count": null,
            "_view_module": "@jupyter-widgets/base",
            "_view_module_version": "1.2.0",
            "_view_name": "StyleView",
            "description_width": ""
          }
        },
        "96bed0045c854531a6df83117269e84a": {
          "model_module": "@jupyter-widgets/base",
          "model_name": "LayoutModel",
          "model_module_version": "1.2.0",
          "state": {
            "_model_module": "@jupyter-widgets/base",
            "_model_module_version": "1.2.0",
            "_model_name": "LayoutModel",
            "_view_count": null,
            "_view_module": "@jupyter-widgets/base",
            "_view_module_version": "1.2.0",
            "_view_name": "LayoutView",
            "align_content": null,
            "align_items": null,
            "align_self": null,
            "border": null,
            "bottom": null,
            "display": null,
            "flex": null,
            "flex_flow": null,
            "grid_area": null,
            "grid_auto_columns": null,
            "grid_auto_flow": null,
            "grid_auto_rows": null,
            "grid_column": null,
            "grid_gap": null,
            "grid_row": null,
            "grid_template_areas": null,
            "grid_template_columns": null,
            "grid_template_rows": null,
            "height": null,
            "justify_content": null,
            "justify_items": null,
            "left": null,
            "margin": null,
            "max_height": null,
            "max_width": null,
            "min_height": null,
            "min_width": null,
            "object_fit": null,
            "object_position": null,
            "order": null,
            "overflow": null,
            "overflow_x": null,
            "overflow_y": null,
            "padding": null,
            "right": null,
            "top": null,
            "visibility": null,
            "width": "20px"
          }
        },
        "b379ef46f87440b1b227b000511e2e46": {
          "model_module": "@jupyter-widgets/controls",
          "model_name": "ProgressStyleModel",
          "model_module_version": "1.5.0",
          "state": {
            "_model_module": "@jupyter-widgets/controls",
            "_model_module_version": "1.5.0",
            "_model_name": "ProgressStyleModel",
            "_view_count": null,
            "_view_module": "@jupyter-widgets/base",
            "_view_module_version": "1.2.0",
            "_view_name": "StyleView",
            "bar_color": null,
            "description_width": ""
          }
        },
        "c0b97b7f5ff945779b1ce3b5f2d52652": {
          "model_module": "@jupyter-widgets/base",
          "model_name": "LayoutModel",
          "model_module_version": "1.2.0",
          "state": {
            "_model_module": "@jupyter-widgets/base",
            "_model_module_version": "1.2.0",
            "_model_name": "LayoutModel",
            "_view_count": null,
            "_view_module": "@jupyter-widgets/base",
            "_view_module_version": "1.2.0",
            "_view_name": "LayoutView",
            "align_content": null,
            "align_items": null,
            "align_self": null,
            "border": null,
            "bottom": null,
            "display": null,
            "flex": null,
            "flex_flow": null,
            "grid_area": null,
            "grid_auto_columns": null,
            "grid_auto_flow": null,
            "grid_auto_rows": null,
            "grid_column": null,
            "grid_gap": null,
            "grid_row": null,
            "grid_template_areas": null,
            "grid_template_columns": null,
            "grid_template_rows": null,
            "height": null,
            "justify_content": null,
            "justify_items": null,
            "left": null,
            "margin": null,
            "max_height": null,
            "max_width": null,
            "min_height": null,
            "min_width": null,
            "object_fit": null,
            "object_position": null,
            "order": null,
            "overflow": null,
            "overflow_x": null,
            "overflow_y": null,
            "padding": null,
            "right": null,
            "top": null,
            "visibility": null,
            "width": null
          }
        },
        "432a3cd911c54ad191eebeba8582cbd0": {
          "model_module": "@jupyter-widgets/controls",
          "model_name": "DescriptionStyleModel",
          "model_module_version": "1.5.0",
          "state": {
            "_model_module": "@jupyter-widgets/controls",
            "_model_module_version": "1.5.0",
            "_model_name": "DescriptionStyleModel",
            "_view_count": null,
            "_view_module": "@jupyter-widgets/base",
            "_view_module_version": "1.2.0",
            "_view_name": "StyleView",
            "description_width": ""
          }
        },
        "4ff950f796094f748c7fee89eb4f70fe": {
          "model_module": "@jupyter-widgets/controls",
          "model_name": "HBoxModel",
          "model_module_version": "1.5.0",
          "state": {
            "_dom_classes": [],
            "_model_module": "@jupyter-widgets/controls",
            "_model_module_version": "1.5.0",
            "_model_name": "HBoxModel",
            "_view_count": null,
            "_view_module": "@jupyter-widgets/controls",
            "_view_module_version": "1.5.0",
            "_view_name": "HBoxView",
            "box_style": "",
            "children": [
              "IPY_MODEL_ff1c16c1001c403ba703f35bcb32752a",
              "IPY_MODEL_b244ea8a43f64a5fbe82a0366c2a8315",
              "IPY_MODEL_bf73c58f14de4c6aabb314bd82402e4f"
            ],
            "layout": "IPY_MODEL_0f13118f186246a0bd396abb1cf70db2"
          }
        },
        "ff1c16c1001c403ba703f35bcb32752a": {
          "model_module": "@jupyter-widgets/controls",
          "model_name": "HTMLModel",
          "model_module_version": "1.5.0",
          "state": {
            "_dom_classes": [],
            "_model_module": "@jupyter-widgets/controls",
            "_model_module_version": "1.5.0",
            "_model_name": "HTMLModel",
            "_view_count": null,
            "_view_module": "@jupyter-widgets/controls",
            "_view_module_version": "1.5.0",
            "_view_name": "HTMLView",
            "description": "",
            "description_tooltip": null,
            "layout": "IPY_MODEL_54b8d4756cbe4e2ea6cacb6841ddf2cf",
            "placeholder": "​",
            "style": "IPY_MODEL_6a9fbd882ad046fca1c3633139dd9242",
            "value": ""
          }
        },
        "b244ea8a43f64a5fbe82a0366c2a8315": {
          "model_module": "@jupyter-widgets/controls",
          "model_name": "FloatProgressModel",
          "model_module_version": "1.5.0",
          "state": {
            "_dom_classes": [],
            "_model_module": "@jupyter-widgets/controls",
            "_model_module_version": "1.5.0",
            "_model_name": "FloatProgressModel",
            "_view_count": null,
            "_view_module": "@jupyter-widgets/controls",
            "_view_module_version": "1.5.0",
            "_view_name": "ProgressView",
            "bar_style": "danger",
            "description": "",
            "description_tooltip": null,
            "layout": "IPY_MODEL_2095309be78446b880ea149c0d1a5f61",
            "max": 1,
            "min": 0,
            "orientation": "horizontal",
            "style": "IPY_MODEL_2a6e1affe2654ebba67a4b65aa145292",
            "value": 1
          }
        },
        "bf73c58f14de4c6aabb314bd82402e4f": {
          "model_module": "@jupyter-widgets/controls",
          "model_name": "HTMLModel",
          "model_module_version": "1.5.0",
          "state": {
            "_dom_classes": [],
            "_model_module": "@jupyter-widgets/controls",
            "_model_module_version": "1.5.0",
            "_model_name": "HTMLModel",
            "_view_count": null,
            "_view_module": "@jupyter-widgets/controls",
            "_view_module_version": "1.5.0",
            "_view_name": "HTMLView",
            "description": "",
            "description_tooltip": null,
            "layout": "IPY_MODEL_8cc2f763588342edb56acfaf8a2c9a1f",
            "placeholder": "​",
            "style": "IPY_MODEL_a3552592548a45bbb2f0d82aba56ef13",
            "value": " 4500/? [01:51&lt;00:00, 207.84it/s]"
          }
        },
        "0f13118f186246a0bd396abb1cf70db2": {
          "model_module": "@jupyter-widgets/base",
          "model_name": "LayoutModel",
          "model_module_version": "1.2.0",
          "state": {
            "_model_module": "@jupyter-widgets/base",
            "_model_module_version": "1.2.0",
            "_model_name": "LayoutModel",
            "_view_count": null,
            "_view_module": "@jupyter-widgets/base",
            "_view_module_version": "1.2.0",
            "_view_name": "LayoutView",
            "align_content": null,
            "align_items": null,
            "align_self": null,
            "border": null,
            "bottom": null,
            "display": null,
            "flex": null,
            "flex_flow": null,
            "grid_area": null,
            "grid_auto_columns": null,
            "grid_auto_flow": null,
            "grid_auto_rows": null,
            "grid_column": null,
            "grid_gap": null,
            "grid_row": null,
            "grid_template_areas": null,
            "grid_template_columns": null,
            "grid_template_rows": null,
            "height": null,
            "justify_content": null,
            "justify_items": null,
            "left": null,
            "margin": null,
            "max_height": null,
            "max_width": null,
            "min_height": null,
            "min_width": null,
            "object_fit": null,
            "object_position": null,
            "order": null,
            "overflow": null,
            "overflow_x": null,
            "overflow_y": null,
            "padding": null,
            "right": null,
            "top": null,
            "visibility": null,
            "width": null
          }
        },
        "54b8d4756cbe4e2ea6cacb6841ddf2cf": {
          "model_module": "@jupyter-widgets/base",
          "model_name": "LayoutModel",
          "model_module_version": "1.2.0",
          "state": {
            "_model_module": "@jupyter-widgets/base",
            "_model_module_version": "1.2.0",
            "_model_name": "LayoutModel",
            "_view_count": null,
            "_view_module": "@jupyter-widgets/base",
            "_view_module_version": "1.2.0",
            "_view_name": "LayoutView",
            "align_content": null,
            "align_items": null,
            "align_self": null,
            "border": null,
            "bottom": null,
            "display": null,
            "flex": null,
            "flex_flow": null,
            "grid_area": null,
            "grid_auto_columns": null,
            "grid_auto_flow": null,
            "grid_auto_rows": null,
            "grid_column": null,
            "grid_gap": null,
            "grid_row": null,
            "grid_template_areas": null,
            "grid_template_columns": null,
            "grid_template_rows": null,
            "height": null,
            "justify_content": null,
            "justify_items": null,
            "left": null,
            "margin": null,
            "max_height": null,
            "max_width": null,
            "min_height": null,
            "min_width": null,
            "object_fit": null,
            "object_position": null,
            "order": null,
            "overflow": null,
            "overflow_x": null,
            "overflow_y": null,
            "padding": null,
            "right": null,
            "top": null,
            "visibility": null,
            "width": null
          }
        },
        "6a9fbd882ad046fca1c3633139dd9242": {
          "model_module": "@jupyter-widgets/controls",
          "model_name": "DescriptionStyleModel",
          "model_module_version": "1.5.0",
          "state": {
            "_model_module": "@jupyter-widgets/controls",
            "_model_module_version": "1.5.0",
            "_model_name": "DescriptionStyleModel",
            "_view_count": null,
            "_view_module": "@jupyter-widgets/base",
            "_view_module_version": "1.2.0",
            "_view_name": "StyleView",
            "description_width": ""
          }
        },
        "2095309be78446b880ea149c0d1a5f61": {
          "model_module": "@jupyter-widgets/base",
          "model_name": "LayoutModel",
          "model_module_version": "1.2.0",
          "state": {
            "_model_module": "@jupyter-widgets/base",
            "_model_module_version": "1.2.0",
            "_model_name": "LayoutModel",
            "_view_count": null,
            "_view_module": "@jupyter-widgets/base",
            "_view_module_version": "1.2.0",
            "_view_name": "LayoutView",
            "align_content": null,
            "align_items": null,
            "align_self": null,
            "border": null,
            "bottom": null,
            "display": null,
            "flex": null,
            "flex_flow": null,
            "grid_area": null,
            "grid_auto_columns": null,
            "grid_auto_flow": null,
            "grid_auto_rows": null,
            "grid_column": null,
            "grid_gap": null,
            "grid_row": null,
            "grid_template_areas": null,
            "grid_template_columns": null,
            "grid_template_rows": null,
            "height": null,
            "justify_content": null,
            "justify_items": null,
            "left": null,
            "margin": null,
            "max_height": null,
            "max_width": null,
            "min_height": null,
            "min_width": null,
            "object_fit": null,
            "object_position": null,
            "order": null,
            "overflow": null,
            "overflow_x": null,
            "overflow_y": null,
            "padding": null,
            "right": null,
            "top": null,
            "visibility": null,
            "width": "20px"
          }
        },
        "2a6e1affe2654ebba67a4b65aa145292": {
          "model_module": "@jupyter-widgets/controls",
          "model_name": "ProgressStyleModel",
          "model_module_version": "1.5.0",
          "state": {
            "_model_module": "@jupyter-widgets/controls",
            "_model_module_version": "1.5.0",
            "_model_name": "ProgressStyleModel",
            "_view_count": null,
            "_view_module": "@jupyter-widgets/base",
            "_view_module_version": "1.2.0",
            "_view_name": "StyleView",
            "bar_color": null,
            "description_width": ""
          }
        },
        "8cc2f763588342edb56acfaf8a2c9a1f": {
          "model_module": "@jupyter-widgets/base",
          "model_name": "LayoutModel",
          "model_module_version": "1.2.0",
          "state": {
            "_model_module": "@jupyter-widgets/base",
            "_model_module_version": "1.2.0",
            "_model_name": "LayoutModel",
            "_view_count": null,
            "_view_module": "@jupyter-widgets/base",
            "_view_module_version": "1.2.0",
            "_view_name": "LayoutView",
            "align_content": null,
            "align_items": null,
            "align_self": null,
            "border": null,
            "bottom": null,
            "display": null,
            "flex": null,
            "flex_flow": null,
            "grid_area": null,
            "grid_auto_columns": null,
            "grid_auto_flow": null,
            "grid_auto_rows": null,
            "grid_column": null,
            "grid_gap": null,
            "grid_row": null,
            "grid_template_areas": null,
            "grid_template_columns": null,
            "grid_template_rows": null,
            "height": null,
            "justify_content": null,
            "justify_items": null,
            "left": null,
            "margin": null,
            "max_height": null,
            "max_width": null,
            "min_height": null,
            "min_width": null,
            "object_fit": null,
            "object_position": null,
            "order": null,
            "overflow": null,
            "overflow_x": null,
            "overflow_y": null,
            "padding": null,
            "right": null,
            "top": null,
            "visibility": null,
            "width": null
          }
        },
        "a3552592548a45bbb2f0d82aba56ef13": {
          "model_module": "@jupyter-widgets/controls",
          "model_name": "DescriptionStyleModel",
          "model_module_version": "1.5.0",
          "state": {
            "_model_module": "@jupyter-widgets/controls",
            "_model_module_version": "1.5.0",
            "_model_name": "DescriptionStyleModel",
            "_view_count": null,
            "_view_module": "@jupyter-widgets/base",
            "_view_module_version": "1.2.0",
            "_view_name": "StyleView",
            "description_width": ""
          }
        }
      }
    }
  },
  "nbformat": 4,
  "nbformat_minor": 0
}