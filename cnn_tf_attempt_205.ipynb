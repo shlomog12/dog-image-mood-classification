{
  "cells": [
    {
      "cell_type": "code",
      "execution_count": 1,
      "metadata": {
        "id": "rfvySML1Cef1"
      },
      "outputs": [],
      "source": [
        "# params\n",
        "IMAGE_SIZE = 300\n",
        "NUM_CHANELLS = 3\n",
        "LEN_FEATURES = IMAGE_SIZE * IMAGE_SIZE * NUM_CHANELLS\n",
        "NUM_OF_EPOCHS = 30\n",
        "ZISE_OF_IMAGES = 9000\n",
        "BATCH_SIZE = 32\n",
        "CLASSES = ['happy', 'sad']\n",
        "\n",
        "# paths\n",
        "# PATH = r\"D:\\\\Projects\\Development\\\\courses_projects\\\\deep_learning_and_natural_language_processing\\\\dog-image-mood-classification\"\n",
        "# PATH_TO_DATA = PATH + '\\\\' + \"data\\\\images\"\n",
        "# MODEL_HISTORY_FILEPATH = PATH + '\\\\' + r\"models_history\\\\model_1.hdf5\"\n",
        "DRIVE_PATH = '/content/drive'\n",
        "PATH = DRIVE_PATH + \"/MyDrive/deep-learning/\"\n",
        "PATH_TO_DATA = PATH + \"data/images/\"\n",
        "MODEL_HISTORY_FILEPATH = PATH+\"RES33/\""
      ]
    },
    {
      "cell_type": "code",
      "execution_count": 2,
      "metadata": {
        "colab": {
          "base_uri": "https://localhost:8080/"
        },
        "id": "F6XWZQ4WDgqK",
        "outputId": "7352d6f1-77c9-419a-f46d-a306783201a6"
      },
      "outputs": [
        {
          "output_type": "stream",
          "name": "stdout",
          "text": [
            "Mounted at /content/drive\n"
          ]
        }
      ],
      "source": [
        "from google.colab import drive\n",
        "drive.mount(DRIVE_PATH)"
      ]
    },
    {
      "cell_type": "code",
      "execution_count": 3,
      "metadata": {
        "id": "bk9O7vUICegA"
      },
      "outputs": [],
      "source": [
        "# modeling\n",
        "import tensorflow as tf\n",
        "import matplotlib.pyplot as plt\n",
        "%matplotlib inline\n",
        "from sklearn.utils import shuffle\n",
        "import cv2\n",
        "\n",
        "# tools\n",
        "from typing import Tuple\n",
        "import os\n",
        "import random\n",
        "import numpy as np\n",
        "from datetime import datetime\n",
        "\n",
        "# warnings\n",
        "import warnings\n",
        "warnings.filterwarnings('ignore')\n",
        "warnings.simplefilter('ignore')\n",
        "import absl.logging\n",
        "absl.logging.set_verbosity(absl.logging.ERROR)\n",
        "from scipy.ndimage import rotate\n",
        "import tqdm.notebook as tq"
      ]
    },
    {
      "cell_type": "code",
      "execution_count": 4,
      "metadata": {
        "id": "KfosahpDCegC"
      },
      "outputs": [],
      "source": [
        "def load_data(classes) -> Tuple[np.array, np.array]:\n",
        "  images = []\n",
        "  labels = []\n",
        "  files = []\n",
        "  for i in range(len(classes)):\n",
        "    folder_name = classes[i]\n",
        "    path = os.path.join(PATH_TO_DATA, folder_name)\n",
        "    count = 0\n",
        "    for file_index, file_name in tq.tqdm(enumerate(os.listdir(path))):\n",
        "      file_name = os.path.join(path, file_name)\n",
        "      image = cv2.imread(file_name)\n",
        "      image = cv2.resize(image, (IMAGE_SIZE, IMAGE_SIZE))\n",
        "      # rotated_images = rotate_image(image)\n",
        "      images += [image]\n",
        "      # images +=  rotated_images\n",
        "      label = [i]\n",
        "      labels += [label]\n",
        "      # labels += [label]\n",
        "      files.append(os.path.join(path, file_name))\n",
        "      if count == ZISE_OF_IMAGES / 2:\n",
        "        break\n",
        "      count += 1\n",
        "  return np.array(images), np.array(labels)\n",
        "\n",
        "def rotate_image(img):\n",
        "  images = []\n",
        "  degs = [20]\n",
        "  for deg in degs:\n",
        "    images.append(rotate(img, angle=deg, reshape=False))\n",
        "  return images\n",
        "\n",
        "def plot_images(images, cls_true, cls_pred=None):\n",
        "    if len(images) == 0:\n",
        "        print(\"no images to show\")\n",
        "        return \n",
        "    else:\n",
        "        random_indices = random.sample(range(len(images)), min(len(images), 9))\n",
        "        \n",
        "    if cls_pred is not None:\n",
        "        images, cls_true, cls_pred  = zip(*[(images[i], cls_true[i], cls_pred[i]) for i in random_indices])\n",
        "    else:\n",
        "        images, cls_true  = zip(*[(images[i], cls_true[i]) for i in random_indices])\n",
        "    \n",
        "    fig, axes = plt.subplots(3, 3)\n",
        "    fig.subplots_adjust(hspace=0.3, wspace=0.3)\n",
        "\n",
        "    for i, ax in enumerate(axes.flat):\n",
        "        ax.imshow(images[i].reshape(IMAGE_SIZE, IMAGE_SIZE, 3))\n",
        "\n",
        "        if cls_pred is None:\n",
        "            xlabel = \"True: {0}\".format(cls_true[i])\n",
        "        else:\n",
        "            xlabel = \"True: {0}, Pred: {1}\".format(cls_true[i], cls_pred[i])\n",
        "\n",
        "        ax.set_xlabel(xlabel)\n",
        "        ax.set_xticks([])\n",
        "        ax.set_yticks([])\n",
        "    plt.show()\n",
        "\n",
        "def make_vactors(labels) -> np.array:\n",
        "  new_labels = []\n",
        "  for label in labels:\n",
        "      value = label[0]\n",
        "      new_label = [0] * len(CLASSES)\n",
        "      new_label[value] = 1\n",
        "      new_labels.append(new_label)\n",
        "  return np.array(new_labels)"
      ]
    },
    {
      "cell_type": "code",
      "execution_count": 5,
      "metadata": {
        "colab": {
          "base_uri": "https://localhost:8080/",
          "height": 81,
          "referenced_widgets": [
            "58a31d11e63442acbd506db6d9f162bc",
            "0e9f4ee01a5b4cc8891983ce1eb988d6",
            "29ddd5eea2c945b09421056081ad346e",
            "0c969fd7f59247b99f83d386e3f2b100",
            "0036a15e2812405ea0341e7599e7eabc",
            "dc5a7fcfcc05472db1082aa83d3f14df",
            "9890ee3ece6e4ac2b08122b9bc4ea158",
            "fdfa5f3f68974845a4a6445edf83a01b",
            "6c15575b3a6a441dbebd25faecd3c401",
            "01bc0bb345a24ca7ba77cd6e92cf915b",
            "f555d80ad6ae49d0a1e6527e36b4795e",
            "94ac0f0ad3cf43bb9abfbedf3c7f103b",
            "0c85d2c3203040a1a1b045021ec3df2c",
            "2534386b83a04ea3918d301fdbea1431",
            "946ea6a631a94a04ba67f7d4629becd5",
            "7adbe4d51650422198589a2d1afa9ccd",
            "b85ae86408874effb2fd070d73d28f27",
            "8d407dfbce844ae9a7dfa2193bce46b0",
            "f9c6d781f6054028bd250af3c249fb72",
            "184063ee8c08418ea1e92a82b57b825a",
            "42a37d72c8024139ace7cb68014085e5",
            "9505fbff3944402e8185628797b8b036"
          ]
        },
        "id": "kjOWGAbACegF",
        "outputId": "6c6087a2-1dc6-41a7-d11c-596b58bdf5b7"
      },
      "outputs": [
        {
          "output_type": "display_data",
          "data": {
            "text/plain": [
              "0it [00:00, ?it/s]"
            ],
            "application/vnd.jupyter.widget-view+json": {
              "version_major": 2,
              "version_minor": 0,
              "model_id": "58a31d11e63442acbd506db6d9f162bc"
            }
          },
          "metadata": {}
        },
        {
          "output_type": "display_data",
          "data": {
            "text/plain": [
              "0it [00:00, ?it/s]"
            ],
            "application/vnd.jupyter.widget-view+json": {
              "version_major": 2,
              "version_minor": 0,
              "model_id": "94ac0f0ad3cf43bb9abfbedf3c7f103b"
            }
          },
          "metadata": {}
        }
      ],
      "source": [
        "train_images, train_labels = load_data(CLASSES)\n",
        "train_images, train_labels = shuffle(train_images, train_labels)"
      ]
    },
    {
      "cell_type": "code",
      "execution_count": 6,
      "metadata": {
        "id": "VDVPKugKCegH",
        "colab": {
          "base_uri": "https://localhost:8080/"
        },
        "outputId": "3ea5a934-7f3b-4300-bc30-a17fba9caf97"
      },
      "outputs": [
        {
          "output_type": "stream",
          "name": "stdout",
          "text": [
            "Shape of training data: (9002, 300, 300, 3)\n"
          ]
        }
      ],
      "source": [
        "print(f\"Shape of training data: {train_images.shape}\")"
      ]
    },
    {
      "cell_type": "code",
      "execution_count": 7,
      "metadata": {
        "id": "GcFjxjLDCegK",
        "colab": {
          "base_uri": "https://localhost:8080/"
        },
        "outputId": "78042ff7-3470-4a3c-cc97-6c7edb0a5d36"
      },
      "outputs": [
        {
          "output_type": "stream",
          "name": "stdout",
          "text": [
            "Size of train: 9002\n"
          ]
        }
      ],
      "source": [
        "print(f\"Size of train: {len(train_images)}\")"
      ]
    },
    {
      "cell_type": "code",
      "execution_count": 8,
      "metadata": {
        "id": "ZqhvxeSECegL"
      },
      "outputs": [],
      "source": [
        "x_train = train_images.astype('float32') / 255.0\n",
        "y_train = np.asarray(train_labels).astype('float32').reshape((-1,1))"
      ]
    },
    {
      "cell_type": "code",
      "execution_count": 9,
      "metadata": {
        "id": "eJw3YF8nXlZk"
      },
      "outputs": [],
      "source": [
        "del train_images\n",
        "del train_labels"
      ]
    },
    {
      "cell_type": "code",
      "execution_count": 10,
      "metadata": {
        "id": "kwdJdvhsCegM"
      },
      "outputs": [],
      "source": [
        "# AlexNet Model archicture\n",
        "model = tf.keras.Sequential()\n",
        "\n",
        "model.add(tf.keras.layers.Conv2D(96, (3, 3), strides=(2, 2), padding='valid', activation='relu', input_shape=x_train.shape[1:]))\n",
        "model.add(tf.keras.layers.BatchNormalization())\n",
        "model.add(tf.keras.layers.MaxPooling2D(pool_size=(3, 3), strides=(2, 2)))\n",
        "\n",
        "model.add(tf.keras.layers.Conv2D(256, (3, 3), strides=(2, 2), padding='same', activation='relu'))\n",
        "model.add(tf.keras.layers.BatchNormalization())\n",
        "model.add(tf.keras.layers.MaxPooling2D(pool_size=(3, 3), strides=(2, 2)))\n",
        "\n",
        "model.add(tf.keras.layers.Conv2D(384, (3, 3), padding='same', activation='relu'))\n",
        "model.add(tf.keras.layers.BatchNormalization())\n",
        "\n",
        "model.add(tf.keras.layers.Conv2D(256, (3, 3), padding='same', activation='relu'))\n",
        "model.add(tf.keras.layers.BatchNormalization())\n",
        "model.add(tf.keras.layers.MaxPooling2D(pool_size=(3, 3), strides=(3, 2)))\n",
        "\n",
        "\n",
        "\n",
        "model.add(tf.keras.layers.Conv2D(256, (3, 3), padding='same', activation='relu'))\n",
        "model.add(tf.keras.layers.Dropout(0.5))\n",
        "model.add(tf.keras.layers.GlobalAveragePooling2D())\n",
        "\n",
        "\n",
        "model.add(tf.keras.layers.Flatten())\n",
        "model.add(tf.keras.layers.Dense(4096, activation='relu'))\n",
        "model.add(tf.keras.layers.Dense(1, activation='sigmoid'))\n",
        "\n",
        "model.compile(optimizer=tf.keras.optimizers.Adam(learning_rate=0.00001), loss='binary_crossentropy', metrics=['accuracy'])"
      ]
    },
    {
      "cell_type": "code",
      "execution_count": 11,
      "metadata": {
        "id": "WIzfqcG3CegO",
        "colab": {
          "base_uri": "https://localhost:8080/"
        },
        "outputId": "b6aebf09-4c48-4133-fe84-c56093fb596a"
      },
      "outputs": [
        {
          "output_type": "stream",
          "name": "stdout",
          "text": [
            "Model: \"sequential\"\n",
            "_________________________________________________________________\n",
            " Layer (type)                Output Shape              Param #   \n",
            "=================================================================\n",
            " conv2d (Conv2D)             (None, 149, 149, 96)      2688      \n",
            "                                                                 \n",
            " batch_normalization (BatchN  (None, 149, 149, 96)     384       \n",
            " ormalization)                                                   \n",
            "                                                                 \n",
            " max_pooling2d (MaxPooling2D  (None, 74, 74, 96)       0         \n",
            " )                                                               \n",
            "                                                                 \n",
            " conv2d_1 (Conv2D)           (None, 37, 37, 256)       221440    \n",
            "                                                                 \n",
            " batch_normalization_1 (Batc  (None, 37, 37, 256)      1024      \n",
            " hNormalization)                                                 \n",
            "                                                                 \n",
            " max_pooling2d_1 (MaxPooling  (None, 18, 18, 256)      0         \n",
            " 2D)                                                             \n",
            "                                                                 \n",
            " conv2d_2 (Conv2D)           (None, 18, 18, 384)       885120    \n",
            "                                                                 \n",
            " batch_normalization_2 (Batc  (None, 18, 18, 384)      1536      \n",
            " hNormalization)                                                 \n",
            "                                                                 \n",
            " conv2d_3 (Conv2D)           (None, 18, 18, 256)       884992    \n",
            "                                                                 \n",
            " batch_normalization_3 (Batc  (None, 18, 18, 256)      1024      \n",
            " hNormalization)                                                 \n",
            "                                                                 \n",
            " max_pooling2d_2 (MaxPooling  (None, 6, 8, 256)        0         \n",
            " 2D)                                                             \n",
            "                                                                 \n",
            " conv2d_4 (Conv2D)           (None, 6, 8, 256)         590080    \n",
            "                                                                 \n",
            " dropout (Dropout)           (None, 6, 8, 256)         0         \n",
            "                                                                 \n",
            " global_average_pooling2d (G  (None, 256)              0         \n",
            " lobalAveragePooling2D)                                          \n",
            "                                                                 \n",
            " flatten (Flatten)           (None, 256)               0         \n",
            "                                                                 \n",
            " dense (Dense)               (None, 4096)              1052672   \n",
            "                                                                 \n",
            " dense_1 (Dense)             (None, 1)                 4097      \n",
            "                                                                 \n",
            "=================================================================\n",
            "Total params: 3,645,057\n",
            "Trainable params: 3,643,073\n",
            "Non-trainable params: 1,984\n",
            "_________________________________________________________________\n"
          ]
        }
      ],
      "source": [
        "model.summary()"
      ]
    },
    {
      "cell_type": "code",
      "execution_count": 12,
      "metadata": {
        "id": "AiH0eUCd7tDc"
      },
      "outputs": [],
      "source": [
        "NUM_OF_EPOCHS = 35\n",
        "BATCH_SIZE = 32"
      ]
    },
    {
      "cell_type": "code",
      "execution_count": 13,
      "metadata": {
        "colab": {
          "base_uri": "https://localhost:8080/"
        },
        "id": "YkV84Z7eCegP",
        "outputId": "c9e583ad-b3df-4cfb-f395-2ba833c6abb3"
      },
      "outputs": [
        {
          "output_type": "stream",
          "name": "stdout",
          "text": [
            "Epoch 1/35\n",
            "226/226 [==============================] - 38s 127ms/step - loss: 0.6607 - accuracy: 0.5987 - val_loss: 0.6898 - val_accuracy: 0.5514\n",
            "Epoch 2/35\n",
            "226/226 [==============================] - 23s 103ms/step - loss: 0.6323 - accuracy: 0.6382 - val_loss: 0.6742 - val_accuracy: 0.5819\n",
            "Epoch 3/35\n",
            "226/226 [==============================] - 23s 104ms/step - loss: 0.6132 - accuracy: 0.6698 - val_loss: 0.6350 - val_accuracy: 0.6424\n",
            "Epoch 4/35\n",
            "226/226 [==============================] - 22s 96ms/step - loss: 0.6029 - accuracy: 0.6763 - val_loss: 0.6534 - val_accuracy: 0.6424\n",
            "Epoch 5/35\n",
            "226/226 [==============================] - 24s 106ms/step - loss: 0.5886 - accuracy: 0.6942 - val_loss: 0.6213 - val_accuracy: 0.6718\n",
            "Epoch 6/35\n",
            "226/226 [==============================] - 22s 97ms/step - loss: 0.5726 - accuracy: 0.7038 - val_loss: 0.6219 - val_accuracy: 0.6607\n",
            "Epoch 7/35\n",
            "226/226 [==============================] - 22s 98ms/step - loss: 0.5591 - accuracy: 0.7163 - val_loss: 0.6044 - val_accuracy: 0.6691\n",
            "Epoch 8/35\n",
            "226/226 [==============================] - 24s 105ms/step - loss: 0.5461 - accuracy: 0.7249 - val_loss: 0.5909 - val_accuracy: 0.6868\n",
            "Epoch 9/35\n",
            "226/226 [==============================] - 24s 107ms/step - loss: 0.5338 - accuracy: 0.7348 - val_loss: 0.5851 - val_accuracy: 0.6941\n",
            "Epoch 10/35\n",
            "226/226 [==============================] - 22s 98ms/step - loss: 0.5172 - accuracy: 0.7518 - val_loss: 0.6215 - val_accuracy: 0.6835\n",
            "Epoch 11/35\n",
            "226/226 [==============================] - 22s 97ms/step - loss: 0.4998 - accuracy: 0.7682 - val_loss: 0.6339 - val_accuracy: 0.6563\n",
            "Epoch 12/35\n",
            "226/226 [==============================] - 22s 97ms/step - loss: 0.4839 - accuracy: 0.7773 - val_loss: 0.6504 - val_accuracy: 0.6691\n",
            "Epoch 13/35\n",
            "226/226 [==============================] - 24s 105ms/step - loss: 0.4615 - accuracy: 0.7866 - val_loss: 0.5935 - val_accuracy: 0.6979\n",
            "Epoch 14/35\n",
            "226/226 [==============================] - 22s 97ms/step - loss: 0.4473 - accuracy: 0.7956 - val_loss: 0.6165 - val_accuracy: 0.6763\n",
            "Epoch 15/35\n",
            "226/226 [==============================] - 24s 106ms/step - loss: 0.4323 - accuracy: 0.8070 - val_loss: 0.5710 - val_accuracy: 0.7046\n",
            "Epoch 16/35\n",
            "226/226 [==============================] - 24s 106ms/step - loss: 0.3894 - accuracy: 0.8338 - val_loss: 0.5915 - val_accuracy: 0.7079\n",
            "Epoch 17/35\n",
            "226/226 [==============================] - 22s 97ms/step - loss: 0.3795 - accuracy: 0.8359 - val_loss: 0.6318 - val_accuracy: 0.6991\n",
            "Epoch 18/35\n",
            "226/226 [==============================] - 22s 97ms/step - loss: 0.3678 - accuracy: 0.8411 - val_loss: 0.5873 - val_accuracy: 0.7029\n",
            "Epoch 19/35\n",
            "226/226 [==============================] - 22s 97ms/step - loss: 0.3294 - accuracy: 0.8642 - val_loss: 0.6000 - val_accuracy: 0.7052\n",
            "Epoch 20/35\n",
            "226/226 [==============================] - 22s 97ms/step - loss: 0.3173 - accuracy: 0.8693 - val_loss: 0.6291 - val_accuracy: 0.7018\n",
            "Epoch 21/35\n",
            "226/226 [==============================] - 24s 105ms/step - loss: 0.2966 - accuracy: 0.8808 - val_loss: 0.6265 - val_accuracy: 0.7096\n",
            "Epoch 22/35\n",
            "226/226 [==============================] - 22s 97ms/step - loss: 0.2870 - accuracy: 0.8827 - val_loss: 0.6708 - val_accuracy: 0.6957\n",
            "Epoch 23/35\n",
            "226/226 [==============================] - 22s 97ms/step - loss: 0.2465 - accuracy: 0.9113 - val_loss: 0.6536 - val_accuracy: 0.7079\n",
            "Epoch 24/35\n",
            "226/226 [==============================] - 22s 97ms/step - loss: 0.2255 - accuracy: 0.9200 - val_loss: 0.7996 - val_accuracy: 0.6807\n",
            "Epoch 25/35\n",
            "226/226 [==============================] - 22s 97ms/step - loss: 0.2063 - accuracy: 0.9293 - val_loss: 0.7004 - val_accuracy: 0.6880\n",
            "Epoch 26/35\n",
            "226/226 [==============================] - 22s 97ms/step - loss: 0.1903 - accuracy: 0.9357 - val_loss: 0.6628 - val_accuracy: 0.7029\n",
            "Epoch 27/35\n",
            "226/226 [==============================] - 22s 97ms/step - loss: 0.1676 - accuracy: 0.9429 - val_loss: 0.7522 - val_accuracy: 0.6846\n",
            "Epoch 28/35\n",
            "226/226 [==============================] - 22s 97ms/step - loss: 0.1614 - accuracy: 0.9449 - val_loss: 0.8272 - val_accuracy: 0.6985\n",
            "Epoch 29/35\n",
            "226/226 [==============================] - 22s 97ms/step - loss: 0.1662 - accuracy: 0.9420 - val_loss: 0.7448 - val_accuracy: 0.7063\n",
            "Epoch 30/35\n",
            "226/226 [==============================] - 24s 107ms/step - loss: 0.1278 - accuracy: 0.9610 - val_loss: 0.7813 - val_accuracy: 0.7118\n",
            "Epoch 31/35\n",
            "226/226 [==============================] - 22s 97ms/step - loss: 0.1481 - accuracy: 0.9481 - val_loss: 0.7749 - val_accuracy: 0.7029\n",
            "Epoch 32/35\n",
            "226/226 [==============================] - 22s 97ms/step - loss: 0.1144 - accuracy: 0.9668 - val_loss: 0.8341 - val_accuracy: 0.7024\n",
            "Epoch 33/35\n",
            "226/226 [==============================] - 22s 97ms/step - loss: 0.1103 - accuracy: 0.9690 - val_loss: 0.8382 - val_accuracy: 0.6974\n",
            "Epoch 34/35\n",
            "226/226 [==============================] - 22s 97ms/step - loss: 0.1077 - accuracy: 0.9672 - val_loss: 0.8443 - val_accuracy: 0.6963\n",
            "Epoch 35/35\n",
            "226/226 [==============================] - 22s 97ms/step - loss: 0.1012 - accuracy: 0.9685 - val_loss: 1.0781 - val_accuracy: 0.6557\n"
          ]
        }
      ],
      "source": [
        "model_checkpoint_callback = tf.keras.callbacks.ModelCheckpoint(\n",
        "    filepath=MODEL_HISTORY_FILEPATH,\n",
        "    monitor='val_accuracy',\n",
        "    mode='auto',\n",
        "    save_best_only=True\n",
        "    )\n",
        "\n",
        "train_scores = model.fit(x_train, y_train, batch_size=BATCH_SIZE, epochs=NUM_OF_EPOCHS, shuffle=True, validation_split=0.2, callbacks=[model_checkpoint_callback])"
      ]
    },
    {
      "cell_type": "code",
      "execution_count": 14,
      "metadata": {
        "id": "j9G_FPzrCegQ",
        "colab": {
          "base_uri": "https://localhost:8080/",
          "height": 295
        },
        "outputId": "e51452a1-1bfa-4a53-ace6-e6e343b13313"
      },
      "outputs": [
        {
          "output_type": "display_data",
          "data": {
            "text/plain": [
              "<Figure size 432x288 with 1 Axes>"
            ],
            "image/png": "[encoded data removed]"
          },
          "metadata": {
            "needs_background": "light"
          }
        }
      ],
      "source": [
        "plt.title(\"Train Loss and Validation Loss\")\n",
        "plt.xlabel(\"Epoch\")\n",
        "plt.ylabel(\"Loss\")\n",
        "plt.plot(np.arange(NUM_OF_EPOCHS), train_scores.history['loss'])\n",
        "plt.plot(np.arange(NUM_OF_EPOCHS), train_scores.history['val_loss'])\n",
        "plt.legend([\"Train loss\", \"Validation loss\"])\n",
        "plt.show()"
      ]
    },
    {
      "cell_type": "code",
      "execution_count": 15,
      "metadata": {
        "id": "M8yVRKmvCegR",
        "colab": {
          "base_uri": "https://localhost:8080/",
          "height": 295
        },
        "outputId": "2a8aa80b-8ee7-4790-ff10-e756ecc0811f"
      },
      "outputs": [
        {
          "output_type": "display_data",
          "data": {
            "text/plain": [
              "<Figure size 432x288 with 1 Axes>"
            ],
            "image/png": "[encoded data removed]"
          },
          "metadata": {
            "needs_background": "light"
          }
        }
      ],
      "source": [
        "plt.title(\"Train accuracy and Validation accuracy\")\n",
        "plt.xlabel(\"Epoch\")\n",
        "plt.ylabel(\"Accuracy\")\n",
        "plt.plot(np.arange(NUM_OF_EPOCHS), train_scores.history['accuracy'])\n",
        "plt.plot(np.arange(NUM_OF_EPOCHS), train_scores.history['val_accuracy'])\n",
        "plt.legend([\"Train accuracy\", \"Validation accuracy\"])\n",
        "plt.show()"
      ]
    }
  ],
  "metadata": {
    "accelerator": "GPU",
    "colab": {
      "machine_shape": "hm",
      "provenance": []
    },
    "gpuClass": "standard",
    "kernelspec": {
      "display_name": "Python 3",
      "language": "python",
      "name": "python3"
    },
    "language_info": {
      "codemirror_mode": {
        "name": "ipython",
        "version": 3
      },
      "file_extension": ".py",
      "mimetype": "text/x-python",
      "name": "python",
      "nbconvert_exporter": "python",
      "pygments_lexer": "ipython3",
      "version": "3.10.7"
    },
    "vscode": {
      "interpreter": {
        "hash": "2121b63ebec64736fa1408ad9b4ff63d888044831182c075f83e3f47370387ac"
      }
    },
    "widgets": {
      "application/vnd.jupyter.widget-state+json": {
        "58a31d11e63442acbd506db6d9f162bc": {
          "model_module": "@jupyter-widgets/controls",
          "model_name": "HBoxModel",
          "model_module_version": "1.5.0",
          "state": {
            "_dom_classes": [],
            "_model_module": "@jupyter-widgets/controls",
            "_model_module_version": "1.5.0",
            "_model_name": "HBoxModel",
            "_view_count": null,
            "_view_module": "@jupyter-widgets/controls",
            "_view_module_version": "1.5.0",
            "_view_name": "HBoxView",
            "box_style": "",
            "children": [
              "IPY_MODEL_0e9f4ee01a5b4cc8891983ce1eb988d6",
              "IPY_MODEL_29ddd5eea2c945b09421056081ad346e",
              "IPY_MODEL_0c969fd7f59247b99f83d386e3f2b100"
            ],
            "layout": "IPY_MODEL_0036a15e2812405ea0341e7599e7eabc"
          }
        },
        "0e9f4ee01a5b4cc8891983ce1eb988d6": {
          "model_module": "@jupyter-widgets/controls",
          "model_name": "HTMLModel",
          "model_module_version": "1.5.0",
          "state": {
            "_dom_classes": [],
            "_model_module": "@jupyter-widgets/controls",
            "_model_module_version": "1.5.0",
            "_model_name": "HTMLModel",
            "_view_count": null,
            "_view_module": "@jupyter-widgets/controls",
            "_view_module_version": "1.5.0",
            "_view_name": "HTMLView",
            "description": "",
            "description_tooltip": null,
            "layout": "IPY_MODEL_dc5a7fcfcc05472db1082aa83d3f14df",
            "placeholder": "​",
            "style": "IPY_MODEL_9890ee3ece6e4ac2b08122b9bc4ea158",
            "value": ""
          }
        },
        "29ddd5eea2c945b09421056081ad346e": {
          "model_module": "@jupyter-widgets/controls",
          "model_name": "FloatProgressModel",
          "model_module_version": "1.5.0",
          "state": {
            "_dom_classes": [],
            "_model_module": "@jupyter-widgets/controls",
            "_model_module_version": "1.5.0",
            "_model_name": "FloatProgressModel",
            "_view_count": null,
            "_view_module": "@jupyter-widgets/controls",
            "_view_module_version": "1.5.0",
            "_view_name": "ProgressView",
            "bar_style": "danger",
            "description": "",
            "description_tooltip": null,
            "layout": "IPY_MODEL_fdfa5f3f68974845a4a6445edf83a01b",
            "max": 1,
            "min": 0,
            "orientation": "horizontal",
            "style": "IPY_MODEL_6c15575b3a6a441dbebd25faecd3c401",
            "value": 1
          }
        },
        "0c969fd7f59247b99f83d386e3f2b100": {
          "model_module": "@jupyter-widgets/controls",
          "model_name": "HTMLModel",
          "model_module_version": "1.5.0",
          "state": {
            "_dom_classes": [],
            "_model_module": "@jupyter-widgets/controls",
            "_model_module_version": "1.5.0",
            "_model_name": "HTMLModel",
            "_view_count": null,
            "_view_module": "@jupyter-widgets/controls",
            "_view_module_version": "1.5.0",
            "_view_name": "HTMLView",
            "description": "",
            "description_tooltip": null,
            "layout": "IPY_MODEL_01bc0bb345a24ca7ba77cd6e92cf915b",
            "placeholder": "​",
            "style": "IPY_MODEL_f555d80ad6ae49d0a1e6527e36b4795e",
            "value": " 4500/? [01:52&lt;00:00, 224.46it/s]"
          }
        },
        "0036a15e2812405ea0341e7599e7eabc": {
          "model_module": "@jupyter-widgets/base",
          "model_name": "LayoutModel",
          "model_module_version": "1.2.0",
          "state": {
            "_model_module": "@jupyter-widgets/base",
            "_model_module_version": "1.2.0",
            "_model_name": "LayoutModel",
            "_view_count": null,
            "_view_module": "@jupyter-widgets/base",
            "_view_module_version": "1.2.0",
            "_view_name": "LayoutView",
            "align_content": null,
            "align_items": null,
            "align_self": null,
            "border": null,
            "bottom": null,
            "display": null,
            "flex": null,
            "flex_flow": null,
            "grid_area": null,
            "grid_auto_columns": null,
            "grid_auto_flow": null,
            "grid_auto_rows": null,
            "grid_column": null,
            "grid_gap": null,
            "grid_row": null,
            "grid_template_areas": null,
            "grid_template_columns": null,
            "grid_template_rows": null,
            "height": null,
            "justify_content": null,
            "justify_items": null,
            "left": null,
            "margin": null,
            "max_height": null,
            "max_width": null,
            "min_height": null,
            "min_width": null,
            "object_fit": null,
            "object_position": null,
            "order": null,
            "overflow": null,
            "overflow_x": null,
            "overflow_y": null,
            "padding": null,
            "right": null,
            "top": null,
            "visibility": null,
            "width": null
          }
        },
        "dc5a7fcfcc05472db1082aa83d3f14df": {
          "model_module": "@jupyter-widgets/base",
          "model_name": "LayoutModel",
          "model_module_version": "1.2.0",
          "state": {
            "_model_module": "@jupyter-widgets/base",
            "_model_module_version": "1.2.0",
            "_model_name": "LayoutModel",
            "_view_count": null,
            "_view_module": "@jupyter-widgets/base",
            "_view_module_version": "1.2.0",
            "_view_name": "LayoutView",
            "align_content": null,
            "align_items": null,
            "align_self": null,
            "border": null,
            "bottom": null,
            "display": null,
            "flex": null,
            "flex_flow": null,
            "grid_area": null,
            "grid_auto_columns": null,
            "grid_auto_flow": null,
            "grid_auto_rows": null,
            "grid_column": null,
            "grid_gap": null,
            "grid_row": null,
            "grid_template_areas": null,
            "grid_template_columns": null,
            "grid_template_rows": null,
            "height": null,
            "justify_content": null,
            "justify_items": null,
            "left": null,
            "margin": null,
            "max_height": null,
            "max_width": null,
            "min_height": null,
            "min_width": null,
            "object_fit": null,
            "object_position": null,
            "order": null,
            "overflow": null,
            "overflow_x": null,
            "overflow_y": null,
            "padding": null,
            "right": null,
            "top": null,
            "visibility": null,
            "width": null
          }
        },
        "9890ee3ece6e4ac2b08122b9bc4ea158": {
          "model_module": "@jupyter-widgets/controls",
          "model_name": "DescriptionStyleModel",
          "model_module_version": "1.5.0",
          "state": {
            "_model_module": "@jupyter-widgets/controls",
            "_model_module_version": "1.5.0",
            "_model_name": "DescriptionStyleModel",
            "_view_count": null,
            "_view_module": "@jupyter-widgets/base",
            "_view_module_version": "1.2.0",
            "_view_name": "StyleView",
            "description_width": ""
          }
        },
        "fdfa5f3f68974845a4a6445edf83a01b": {
          "model_module": "@jupyter-widgets/base",
          "model_name": "LayoutModel",
          "model_module_version": "1.2.0",
          "state": {
            "_model_module": "@jupyter-widgets/base",
            "_model_module_version": "1.2.0",
            "_model_name": "LayoutModel",
            "_view_count": null,
            "_view_module": "@jupyter-widgets/base",
            "_view_module_version": "1.2.0",
            "_view_name": "LayoutView",
            "align_content": null,
            "align_items": null,
            "align_self": null,
            "border": null,
            "bottom": null,
            "display": null,
            "flex": null,
            "flex_flow": null,
            "grid_area": null,
            "grid_auto_columns": null,
            "grid_auto_flow": null,
            "grid_auto_rows": null,
            "grid_column": null,
            "grid_gap": null,
            "grid_row": null,
            "grid_template_areas": null,
            "grid_template_columns": null,
            "grid_template_rows": null,
            "height": null,
            "justify_content": null,
            "justify_items": null,
            "left": null,
            "margin": null,
            "max_height": null,
            "max_width": null,
            "min_height": null,
            "min_width": null,
            "object_fit": null,
            "object_position": null,
            "order": null,
            "overflow": null,
            "overflow_x": null,
            "overflow_y": null,
            "padding": null,
            "right": null,
            "top": null,
            "visibility": null,
            "width": "20px"
          }
        },
        "6c15575b3a6a441dbebd25faecd3c401": {
          "model_module": "@jupyter-widgets/controls",
          "model_name": "ProgressStyleModel",
          "model_module_version": "1.5.0",
          "state": {
            "_model_module": "@jupyter-widgets/controls",
            "_model_module_version": "1.5.0",
            "_model_name": "ProgressStyleModel",
            "_view_count": null,
            "_view_module": "@jupyter-widgets/base",
            "_view_module_version": "1.2.0",
            "_view_name": "StyleView",
            "bar_color": null,
            "description_width": ""
          }
        },
        "01bc0bb345a24ca7ba77cd6e92cf915b": {
          "model_module": "@jupyter-widgets/base",
          "model_name": "LayoutModel",
          "model_module_version": "1.2.0",
          "state": {
            "_model_module": "@jupyter-widgets/base",
            "_model_module_version": "1.2.0",
            "_model_name": "LayoutModel",
            "_view_count": null,
            "_view_module": "@jupyter-widgets/base",
            "_view_module_version": "1.2.0",
            "_view_name": "LayoutView",
            "align_content": null,
            "align_items": null,
            "align_self": null,
            "border": null,
            "bottom": null,
            "display": null,
            "flex": null,
            "flex_flow": null,
            "grid_area": null,
            "grid_auto_columns": null,
            "grid_auto_flow": null,
            "grid_auto_rows": null,
            "grid_column": null,
            "grid_gap": null,
            "grid_row": null,
            "grid_template_areas": null,
            "grid_template_columns": null,
            "grid_template_rows": null,
            "height": null,
            "justify_content": null,
            "justify_items": null,
            "left": null,
            "margin": null,
            "max_height": null,
            "max_width": null,
            "min_height": null,
            "min_width": null,
            "object_fit": null,
            "object_position": null,
            "order": null,
            "overflow": null,
            "overflow_x": null,
            "overflow_y": null,
            "padding": null,
            "right": null,
            "top": null,
            "visibility": null,
            "width": null
          }
        },
        "f555d80ad6ae49d0a1e6527e36b4795e": {
          "model_module": "@jupyter-widgets/controls",
          "model_name": "DescriptionStyleModel",
          "model_module_version": "1.5.0",
          "state": {
            "_model_module": "@jupyter-widgets/controls",
            "_model_module_version": "1.5.0",
            "_model_name": "DescriptionStyleModel",
            "_view_count": null,
            "_view_module": "@jupyter-widgets/base",
            "_view_module_version": "1.2.0",
            "_view_name": "StyleView",
            "description_width": ""
          }
        },
        "94ac0f0ad3cf43bb9abfbedf3c7f103b": {
          "model_module": "@jupyter-widgets/controls",
          "model_name": "HBoxModel",
          "model_module_version": "1.5.0",
          "state": {
            "_dom_classes": [],
            "_model_module": "@jupyter-widgets/controls",
            "_model_module_version": "1.5.0",
            "_model_name": "HBoxModel",
            "_view_count": null,
            "_view_module": "@jupyter-widgets/controls",
            "_view_module_version": "1.5.0",
            "_view_name": "HBoxView",
            "box_style": "",
            "children": [
              "IPY_MODEL_0c85d2c3203040a1a1b045021ec3df2c",
              "IPY_MODEL_2534386b83a04ea3918d301fdbea1431",
              "IPY_MODEL_946ea6a631a94a04ba67f7d4629becd5"
            ],
            "layout": "IPY_MODEL_7adbe4d51650422198589a2d1afa9ccd"
          }
        },
        "0c85d2c3203040a1a1b045021ec3df2c": {
          "model_module": "@jupyter-widgets/controls",
          "model_name": "HTMLModel",
          "model_module_version": "1.5.0",
          "state": {
            "_dom_classes": [],
            "_model_module": "@jupyter-widgets/controls",
            "_model_module_version": "1.5.0",
            "_model_name": "HTMLModel",
            "_view_count": null,
            "_view_module": "@jupyter-widgets/controls",
            "_view_module_version": "1.5.0",
            "_view_name": "HTMLView",
            "description": "",
            "description_tooltip": null,
            "layout": "IPY_MODEL_b85ae86408874effb2fd070d73d28f27",
            "placeholder": "​",
            "style": "IPY_MODEL_8d407dfbce844ae9a7dfa2193bce46b0",
            "value": ""
          }
        },
        "2534386b83a04ea3918d301fdbea1431": {
          "model_module": "@jupyter-widgets/controls",
          "model_name": "FloatProgressModel",
          "model_module_version": "1.5.0",
          "state": {
            "_dom_classes": [],
            "_model_module": "@jupyter-widgets/controls",
            "_model_module_version": "1.5.0",
            "_model_name": "FloatProgressModel",
            "_view_count": null,
            "_view_module": "@jupyter-widgets/controls",
            "_view_module_version": "1.5.0",
            "_view_name": "ProgressView",
            "bar_style": "danger",
            "description": "",
            "description_tooltip": null,
            "layout": "IPY_MODEL_f9c6d781f6054028bd250af3c249fb72",
            "max": 1,
            "min": 0,
            "orientation": "horizontal",
            "style": "IPY_MODEL_184063ee8c08418ea1e92a82b57b825a",
            "value": 1
          }
        },
        "946ea6a631a94a04ba67f7d4629becd5": {
          "model_module": "@jupyter-widgets/controls",
          "model_name": "HTMLModel",
          "model_module_version": "1.5.0",
          "state": {
            "_dom_classes": [],
            "_model_module": "@jupyter-widgets/controls",
            "_model_module_version": "1.5.0",
            "_model_name": "HTMLModel",
            "_view_count": null,
            "_view_module": "@jupyter-widgets/controls",
            "_view_module_version": "1.5.0",
            "_view_name": "HTMLView",
            "description": "",
            "description_tooltip": null,
            "layout": "IPY_MODEL_42a37d72c8024139ace7cb68014085e5",
            "placeholder": "​",
            "style": "IPY_MODEL_9505fbff3944402e8185628797b8b036",
            "value": " 4500/? [01:47&lt;00:00, 235.07it/s]"
          }
        },
        "7adbe4d51650422198589a2d1afa9ccd": {
          "model_module": "@jupyter-widgets/base",
          "model_name": "LayoutModel",
          "model_module_version": "1.2.0",
          "state": {
            "_model_module": "@jupyter-widgets/base",
            "_model_module_version": "1.2.0",
            "_model_name": "LayoutModel",
            "_view_count": null,
            "_view_module": "@jupyter-widgets/base",
            "_view_module_version": "1.2.0",
            "_view_name": "LayoutView",
            "align_content": null,
            "align_items": null,
            "align_self": null,
            "border": null,
            "bottom": null,
            "display": null,
            "flex": null,
            "flex_flow": null,
            "grid_area": null,
            "grid_auto_columns": null,
            "grid_auto_flow": null,
            "grid_auto_rows": null,
            "grid_column": null,
            "grid_gap": null,
            "grid_row": null,
            "grid_template_areas": null,
            "grid_template_columns": null,
            "grid_template_rows": null,
            "height": null,
            "justify_content": null,
            "justify_items": null,
            "left": null,
            "margin": null,
            "max_height": null,
            "max_width": null,
            "min_height": null,
            "min_width": null,
            "object_fit": null,
            "object_position": null,
            "order": null,
            "overflow": null,
            "overflow_x": null,
            "overflow_y": null,
            "padding": null,
            "right": null,
            "top": null,
            "visibility": null,
            "width": null
          }
        },
        "b85ae86408874effb2fd070d73d28f27": {
          "model_module": "@jupyter-widgets/base",
          "model_name": "LayoutModel",
          "model_module_version": "1.2.0",
          "state": {
            "_model_module": "@jupyter-widgets/base",
            "_model_module_version": "1.2.0",
            "_model_name": "LayoutModel",
            "_view_count": null,
            "_view_module": "@jupyter-widgets/base",
            "_view_module_version": "1.2.0",
            "_view_name": "LayoutView",
            "align_content": null,
            "align_items": null,
            "align_self": null,
            "border": null,
            "bottom": null,
            "display": null,
            "flex": null,
            "flex_flow": null,
            "grid_area": null,
            "grid_auto_columns": null,
            "grid_auto_flow": null,
            "grid_auto_rows": null,
            "grid_column": null,
            "grid_gap": null,
            "grid_row": null,
            "grid_template_areas": null,
            "grid_template_columns": null,
            "grid_template_rows": null,
            "height": null,
            "justify_content": null,
            "justify_items": null,
            "left": null,
            "margin": null,
            "max_height": null,
            "max_width": null,
            "min_height": null,
            "min_width": null,
            "object_fit": null,
            "object_position": null,
            "order": null,
            "overflow": null,
            "overflow_x": null,
            "overflow_y": null,
            "padding": null,
            "right": null,
            "top": null,
            "visibility": null,
            "width": null
          }
        },
        "8d407dfbce844ae9a7dfa2193bce46b0": {
          "model_module": "@jupyter-widgets/controls",
          "model_name": "DescriptionStyleModel",
          "model_module_version": "1.5.0",
          "state": {
            "_model_module": "@jupyter-widgets/controls",
            "_model_module_version": "1.5.0",
            "_model_name": "DescriptionStyleModel",
            "_view_count": null,
            "_view_module": "@jupyter-widgets/base",
            "_view_module_version": "1.2.0",
            "_view_name": "StyleView",
            "description_width": ""
          }
        },
        "f9c6d781f6054028bd250af3c249fb72": {
          "model_module": "@jupyter-widgets/base",
          "model_name": "LayoutModel",
          "model_module_version": "1.2.0",
          "state": {
            "_model_module": "@jupyter-widgets/base",
            "_model_module_version": "1.2.0",
            "_model_name": "LayoutModel",
            "_view_count": null,
            "_view_module": "@jupyter-widgets/base",
            "_view_module_version": "1.2.0",
            "_view_name": "LayoutView",
            "align_content": null,
            "align_items": null,
            "align_self": null,
            "border": null,
            "bottom": null,
            "display": null,
            "flex": null,
            "flex_flow": null,
            "grid_area": null,
            "grid_auto_columns": null,
            "grid_auto_flow": null,
            "grid_auto_rows": null,
            "grid_column": null,
            "grid_gap": null,
            "grid_row": null,
            "grid_template_areas": null,
            "grid_template_columns": null,
            "grid_template_rows": null,
            "height": null,
            "justify_content": null,
            "justify_items": null,
            "left": null,
            "margin": null,
            "max_height": null,
            "max_width": null,
            "min_height": null,
            "min_width": null,
            "object_fit": null,
            "object_position": null,
            "order": null,
            "overflow": null,
            "overflow_x": null,
            "overflow_y": null,
            "padding": null,
            "right": null,
            "top": null,
            "visibility": null,
            "width": "20px"
          }
        },
        "184063ee8c08418ea1e92a82b57b825a": {
          "model_module": "@jupyter-widgets/controls",
          "model_name": "ProgressStyleModel",
          "model_module_version": "1.5.0",
          "state": {
            "_model_module": "@jupyter-widgets/controls",
            "_model_module_version": "1.5.0",
            "_model_name": "ProgressStyleModel",
            "_view_count": null,
            "_view_module": "@jupyter-widgets/base",
            "_view_module_version": "1.2.0",
            "_view_name": "StyleView",
            "bar_color": null,
            "description_width": ""
          }
        },
        "42a37d72c8024139ace7cb68014085e5": {
          "model_module": "@jupyter-widgets/base",
          "model_name": "LayoutModel",
          "model_module_version": "1.2.0",
          "state": {
            "_model_module": "@jupyter-widgets/base",
            "_model_module_version": "1.2.0",
            "_model_name": "LayoutModel",
            "_view_count": null,
            "_view_module": "@jupyter-widgets/base",
            "_view_module_version": "1.2.0",
            "_view_name": "LayoutView",
            "align_content": null,
            "align_items": null,
            "align_self": null,
            "border": null,
            "bottom": null,
            "display": null,
            "flex": null,
            "flex_flow": null,
            "grid_area": null,
            "grid_auto_columns": null,
            "grid_auto_flow": null,
            "grid_auto_rows": null,
            "grid_column": null,
            "grid_gap": null,
            "grid_row": null,
            "grid_template_areas": null,
            "grid_template_columns": null,
            "grid_template_rows": null,
            "height": null,
            "justify_content": null,
            "justify_items": null,
            "left": null,
            "margin": null,
            "max_height": null,
            "max_width": null,
            "min_height": null,
            "min_width": null,
            "object_fit": null,
            "object_position": null,
            "order": null,
            "overflow": null,
            "overflow_x": null,
            "overflow_y": null,
            "padding": null,
            "right": null,
            "top": null,
            "visibility": null,
            "width": null
          }
        },
        "9505fbff3944402e8185628797b8b036": {
          "model_module": "@jupyter-widgets/controls",
          "model_name": "DescriptionStyleModel",
          "model_module_version": "1.5.0",
          "state": {
            "_model_module": "@jupyter-widgets/controls",
            "_model_module_version": "1.5.0",
            "_model_name": "DescriptionStyleModel",
            "_view_count": null,
            "_view_module": "@jupyter-widgets/base",
            "_view_module_version": "1.2.0",
            "_view_name": "StyleView",
            "description_width": ""
          }
        }
      }
    }
  },
  "nbformat": 4,
  "nbformat_minor": 0
}