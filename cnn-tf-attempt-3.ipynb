{
  "cells": [
    {
      "cell_type": "code",
      "execution_count": 1,
      "metadata": {
        "id": "rfvySML1Cef1"
      },
      "outputs": [],
      "source": [
        "# params\n",
        "IMAGE_SIZE = 227\n",
        "NUM_CHANELLS = 3\n",
        "LEN_FEATURES = IMAGE_SIZE * IMAGE_SIZE * NUM_CHANELLS\n",
        "NUM_OF_EPOCHS = 30\n",
        "ZISE_OF_IMAGES = 9000\n",
        "BATCH_SIZE = 32\n",
        "LEARNING_RATE = 0.000001\n",
        "CLASSES = ['happy', 'sad']\n",
        "\n",
        "# paths\n",
        "# PATH = r\"D:\\\\Projects\\Development\\\\courses_projects\\\\deep_learning_and_natural_language_processing\\\\dog-image-mood-classification\"\n",
        "# PATH_TO_DATA = PATH + '\\\\' + \"data\\\\images\"\n",
        "# MODEL_HISTORY_FILEPATH = PATH + '\\\\' + r\"models_history\\\\model_1.hdf5\"\n",
        "DRIVE_PATH = '/content/drive'\n",
        "PATH = DRIVE_PATH + \"/MyDrive/deep-learning/\"\n",
        "PATH_TO_DATA = PATH + \"data/images/\"\n",
        "MODEL_HISTORY_FILEPATH = PATH+\"RES33/\""
      ]
    },
    {
      "cell_type": "code",
      "source": [
        "from google.colab import drive\n",
        "drive.mount(DRIVE_PATH)"
      ],
      "metadata": {
        "colab": {
          "base_uri": "https://localhost:8080/"
        },
        "id": "F6XWZQ4WDgqK",
        "outputId": "e6801035-ba8f-4318-c130-a8546a5ea1e0"
      },
      "execution_count": 2,
      "outputs": [
        {
          "output_type": "stream",
          "name": "stdout",
          "text": [
            "Mounted at /content/drive\n"
          ]
        }
      ]
    },
    {
      "cell_type": "code",
      "execution_count": 3,
      "metadata": {
        "id": "lww8K6LfCef-"
      },
      "outputs": [],
      "source": [
        "# import os\n",
        "# os.environ[\"CUDA_VISIBLE_DEVICES\"] = \"8\""
      ]
    },
    {
      "cell_type": "code",
      "execution_count": 4,
      "metadata": {
        "id": "bk9O7vUICegA"
      },
      "outputs": [],
      "source": [
        "# modeling\n",
        "import tensorflow as tf\n",
        "import matplotlib.pyplot as plt\n",
        "%matplotlib inline\n",
        "from sklearn.utils import shuffle\n",
        "import cv2\n",
        "\n",
        "# tools\n",
        "from typing import Tuple\n",
        "import os\n",
        "import random\n",
        "import numpy as np\n",
        "from datetime import datetime\n",
        "\n",
        "# warnings\n",
        "import warnings\n",
        "warnings.filterwarnings('ignore')\n",
        "warnings.simplefilter('ignore')\n",
        "import absl.logging\n",
        "absl.logging.set_verbosity(absl.logging.ERROR)"
      ]
    },
    {
      "cell_type": "code",
      "execution_count": 5,
      "metadata": {
        "id": "KfosahpDCegC"
      },
      "outputs": [],
      "source": [
        "def load_data(classes) -> Tuple[np.array, np.array]:\n",
        "  images = []\n",
        "  labels = []\n",
        "  files = []\n",
        "  for i in range(len(classes)):\n",
        "    folder_name = classes[i]\n",
        "    path = os.path.join(PATH_TO_DATA, folder_name)\n",
        "    count = 0\n",
        "    for file_index, file_name in enumerate(os.listdir(path)):\n",
        "      file_name = os.path.join(path, file_name)\n",
        "      image = cv2.imread(file_name)\n",
        "      image = cv2.resize(image, (IMAGE_SIZE, IMAGE_SIZE))\n",
        "      images.append(image)\n",
        "      label = [i]\n",
        "      labels.append(label)\n",
        "      files.append(os.path.join(path, file_name))\n",
        "      if count == ZISE_OF_IMAGES / 2:\n",
        "        break\n",
        "      count += 1\n",
        "  return np.array(images), np.array(labels)\n",
        "\n",
        "def plot_images(images, cls_true, cls_pred=None):\n",
        "    if len(images) == 0:\n",
        "        print(\"no images to show\")\n",
        "        return \n",
        "    else:\n",
        "        random_indices = random.sample(range(len(images)), min(len(images), 9))\n",
        "        \n",
        "    if cls_pred is not None:\n",
        "        images, cls_true, cls_pred  = zip(*[(images[i], cls_true[i], cls_pred[i]) for i in random_indices])\n",
        "    else:\n",
        "        images, cls_true  = zip(*[(images[i], cls_true[i]) for i in random_indices])\n",
        "    \n",
        "    fig, axes = plt.subplots(3, 3)\n",
        "    fig.subplots_adjust(hspace=0.3, wspace=0.3)\n",
        "\n",
        "    for i, ax in enumerate(axes.flat):\n",
        "        ax.imshow(images[i].reshape(IMAGE_SIZE, IMAGE_SIZE, 3))\n",
        "\n",
        "        if cls_pred is None:\n",
        "            xlabel = \"True: {0}\".format(cls_true[i])\n",
        "        else:\n",
        "            xlabel = \"True: {0}, Pred: {1}\".format(cls_true[i], cls_pred[i])\n",
        "\n",
        "        ax.set_xlabel(xlabel)\n",
        "        ax.set_xticks([])\n",
        "        ax.set_yticks([])\n",
        "    plt.show()\n",
        "\n",
        "def make_vactors(labels) -> np.array:\n",
        "  new_labels = []\n",
        "  for label in labels:\n",
        "      value = label[0]\n",
        "      new_label = [0] * len(CLASSES)\n",
        "      new_label[value] = 1\n",
        "      new_labels.append(new_label)\n",
        "  return np.array(new_labels)"
      ]
    },
    {
      "cell_type": "code",
      "execution_count": 6,
      "metadata": {
        "id": "kjOWGAbACegF"
      },
      "outputs": [],
      "source": [
        "train_images, train_labels = load_data(CLASSES)\n",
        "train_images, train_labels = shuffle(train_images, train_labels)"
      ]
    },
    {
      "cell_type": "code",
      "execution_count": 7,
      "metadata": {
        "colab": {
          "base_uri": "https://localhost:8080/"
        },
        "id": "VDVPKugKCegH",
        "outputId": "a8f8ce05-071a-4967-9106-c022fcc36fa0"
      },
      "outputs": [
        {
          "output_type": "stream",
          "name": "stdout",
          "text": [
            "Shape of training data: (9002, 227, 227, 3)\n"
          ]
        }
      ],
      "source": [
        "print(f\"Shape of training data: {train_images.shape}\")"
      ]
    },
    {
      "cell_type": "code",
      "execution_count": 8,
      "metadata": {
        "colab": {
          "base_uri": "https://localhost:8080/"
        },
        "id": "GcFjxjLDCegK",
        "outputId": "d3930955-6293-48da-f9f1-23e1208dcaca"
      },
      "outputs": [
        {
          "output_type": "stream",
          "name": "stdout",
          "text": [
            "Size of train: 9002\n"
          ]
        }
      ],
      "source": [
        "print(f\"Size of train: {len(train_images)}\")"
      ]
    },
    {
      "cell_type": "code",
      "execution_count": 9,
      "metadata": {
        "id": "ZqhvxeSECegL"
      },
      "outputs": [],
      "source": [
        "x_train = train_images.astype('float32') / 255.0\n",
        "y_train = np.asarray(train_labels).astype('float32').reshape((-1,1))"
      ]
    },
    {
      "cell_type": "code",
      "execution_count": 15,
      "metadata": {
        "id": "kwdJdvhsCegM"
      },
      "outputs": [],
      "source": [
        "# AlexNet Model archicture\n",
        "model = tf.keras.Sequential()\n",
        "\n",
        "model.add(tf.keras.layers.Conv2D(96, (3, 3), strides=(2, 2), padding='valid', activation='relu', input_shape=x_train.shape[1:]))\n",
        "model.add(tf.keras.layers.BatchNormalization())\n",
        "model.add(tf.keras.layers.MaxPooling2D(pool_size=(3, 3), strides=(2, 2)))\n",
        "\n",
        "model.add(tf.keras.layers.Conv2D(256, (3, 3), strides=(2, 2), padding='same', activation='relu'))\n",
        "model.add(tf.keras.layers.BatchNormalization())\n",
        "model.add(tf.keras.layers.MaxPooling2D(pool_size=(3, 3), strides=(2, 2)))\n",
        "\n",
        "model.add(tf.keras.layers.Conv2D(384, (3, 3), padding='same', activation='relu'))\n",
        "model.add(tf.keras.layers.BatchNormalization())\n",
        "\n",
        "model.add(tf.keras.layers.Conv2D(256, (3, 3), padding='same', activation='relu'))\n",
        "model.add(tf.keras.layers.BatchNormalization())\n",
        "model.add(tf.keras.layers.MaxPooling2D(pool_size=(3, 3), strides=(3, 2)))\n",
        "\n",
        "\n",
        "\n",
        "model.add(tf.keras.layers.Conv2D(256, (3, 3), padding='same', activation='relu'))\n",
        "model.add(tf.keras.layers.Dropout(0.5))\n",
        "model.add(tf.keras.layers.GlobalAveragePooling2D())\n",
        "\n",
        "\n",
        "model.add(tf.keras.layers.Flatten())\n",
        "model.add(tf.keras.layers.Dense(4096, activation='relu'))\n",
        "model.add(tf.keras.layers.Dense(1, activation='sigmoid'))\n",
        "\n",
        "# optimizer = tf.keras.optimizers.Adam()\n",
        "# model.compile(optimizer='adam', loss='binary_crossentropy', metrics=['accuracy'])\n",
        "model.compile(optimizer=tf.keras.optimizers.Adam(learning_rate=0.0001), loss='binary_crossentropy', metrics=['accuracy'])"
      ]
    },
    {
      "cell_type": "code",
      "execution_count": 16,
      "metadata": {
        "colab": {
          "base_uri": "https://localhost:8080/"
        },
        "id": "WIzfqcG3CegO",
        "outputId": "5717bbc3-d423-4400-91ab-ac26c508efc7"
      },
      "outputs": [
        {
          "output_type": "stream",
          "name": "stdout",
          "text": [
            "Model: \"sequential_1\"\n",
            "_________________________________________________________________\n",
            " Layer (type)                Output Shape              Param #   \n",
            "=================================================================\n",
            " conv2d_5 (Conv2D)           (None, 113, 113, 96)      2688      \n",
            "                                                                 \n",
            " batch_normalization_4 (Batc  (None, 113, 113, 96)     384       \n",
            " hNormalization)                                                 \n",
            "                                                                 \n",
            " max_pooling2d_3 (MaxPooling  (None, 56, 56, 96)       0         \n",
            " 2D)                                                             \n",
            "                                                                 \n",
            " conv2d_6 (Conv2D)           (None, 28, 28, 256)       221440    \n",
            "                                                                 \n",
            " batch_normalization_5 (Batc  (None, 28, 28, 256)      1024      \n",
            " hNormalization)                                                 \n",
            "                                                                 \n",
            " max_pooling2d_4 (MaxPooling  (None, 13, 13, 256)      0         \n",
            " 2D)                                                             \n",
            "                                                                 \n",
            " conv2d_7 (Conv2D)           (None, 13, 13, 384)       885120    \n",
            "                                                                 \n",
            " batch_normalization_6 (Batc  (None, 13, 13, 384)      1536      \n",
            " hNormalization)                                                 \n",
            "                                                                 \n",
            " conv2d_8 (Conv2D)           (None, 13, 13, 256)       884992    \n",
            "                                                                 \n",
            " batch_normalization_7 (Batc  (None, 13, 13, 256)      1024      \n",
            " hNormalization)                                                 \n",
            "                                                                 \n",
            " max_pooling2d_5 (MaxPooling  (None, 4, 6, 256)        0         \n",
            " 2D)                                                             \n",
            "                                                                 \n",
            " conv2d_9 (Conv2D)           (None, 4, 6, 256)         590080    \n",
            "                                                                 \n",
            " dropout_1 (Dropout)         (None, 4, 6, 256)         0         \n",
            "                                                                 \n",
            " global_average_pooling2d_1   (None, 256)              0         \n",
            " (GlobalAveragePooling2D)                                        \n",
            "                                                                 \n",
            " flatten_1 (Flatten)         (None, 256)               0         \n",
            "                                                                 \n",
            " dense_2 (Dense)             (None, 4096)              1052672   \n",
            "                                                                 \n",
            " dense_3 (Dense)             (None, 1)                 4097      \n",
            "                                                                 \n",
            "=================================================================\n",
            "Total params: 3,645,057\n",
            "Trainable params: 3,643,073\n",
            "Non-trainable params: 1,984\n",
            "_________________________________________________________________\n"
          ]
        }
      ],
      "source": [
        "model.summary()"
      ]
    },
    {
      "cell_type": "code",
      "execution_count": 17,
      "metadata": {
        "colab": {
          "base_uri": "https://localhost:8080/"
        },
        "id": "YkV84Z7eCegP",
        "outputId": "0f99b418-4ff6-4fc1-e80f-f6d6c852a1e2"
      },
      "outputs": [
        {
          "output_type": "stream",
          "name": "stdout",
          "text": [
            "Epoch 1/30\n",
            "226/226 [==============================] - 17s 71ms/step - loss: 0.6565 - accuracy: 0.6116 - val_loss: 0.7155 - val_accuracy: 0.4897\n",
            "Epoch 2/30\n",
            "226/226 [==============================] - 15s 65ms/step - loss: 0.6034 - accuracy: 0.6805 - val_loss: 0.7597 - val_accuracy: 0.5125\n",
            "Epoch 3/30\n",
            "226/226 [==============================] - 15s 66ms/step - loss: 0.5559 - accuracy: 0.7174 - val_loss: 0.5991 - val_accuracy: 0.6974\n",
            "Epoch 4/30\n",
            "226/226 [==============================] - 15s 65ms/step - loss: 0.5262 - accuracy: 0.7399 - val_loss: 0.5250 - val_accuracy: 0.7485\n",
            "Epoch 5/30\n",
            "226/226 [==============================] - 13s 57ms/step - loss: 0.4978 - accuracy: 0.7573 - val_loss: 0.5542 - val_accuracy: 0.7335\n",
            "Epoch 6/30\n",
            "226/226 [==============================] - 13s 57ms/step - loss: 0.4745 - accuracy: 0.7756 - val_loss: 0.5313 - val_accuracy: 0.7424\n",
            "Epoch 7/30\n",
            "226/226 [==============================] - 13s 57ms/step - loss: 0.4500 - accuracy: 0.7946 - val_loss: 0.5714 - val_accuracy: 0.7185\n",
            "Epoch 8/30\n",
            "226/226 [==============================] - 15s 67ms/step - loss: 0.4165 - accuracy: 0.8078 - val_loss: 0.5434 - val_accuracy: 0.7640\n",
            "Epoch 9/30\n",
            "226/226 [==============================] - 13s 58ms/step - loss: 0.3899 - accuracy: 0.8263 - val_loss: 0.5290 - val_accuracy: 0.7562\n",
            "Epoch 10/30\n",
            "226/226 [==============================] - 13s 57ms/step - loss: 0.3719 - accuracy: 0.8374 - val_loss: 0.6776 - val_accuracy: 0.7318\n",
            "Epoch 11/30\n",
            "226/226 [==============================] - 13s 58ms/step - loss: 0.3255 - accuracy: 0.8599 - val_loss: 0.6514 - val_accuracy: 0.7329\n",
            "Epoch 12/30\n",
            "226/226 [==============================] - 13s 58ms/step - loss: 0.2685 - accuracy: 0.8896 - val_loss: 0.7765 - val_accuracy: 0.7179\n",
            "Epoch 13/30\n",
            "226/226 [==============================] - 13s 58ms/step - loss: 0.2259 - accuracy: 0.9063 - val_loss: 0.8471 - val_accuracy: 0.7274\n",
            "Epoch 14/30\n",
            "226/226 [==============================] - 13s 58ms/step - loss: 0.1967 - accuracy: 0.9199 - val_loss: 0.8147 - val_accuracy: 0.7396\n",
            "Epoch 15/30\n",
            "226/226 [==============================] - 13s 58ms/step - loss: 0.1553 - accuracy: 0.9376 - val_loss: 0.8945 - val_accuracy: 0.7168\n",
            "Epoch 16/30\n",
            "226/226 [==============================] - 13s 58ms/step - loss: 0.1618 - accuracy: 0.9367 - val_loss: 1.1955 - val_accuracy: 0.7196\n",
            "Epoch 17/30\n",
            "226/226 [==============================] - 13s 58ms/step - loss: 0.1033 - accuracy: 0.9600 - val_loss: 0.9135 - val_accuracy: 0.7168\n",
            "Epoch 18/30\n",
            "226/226 [==============================] - 13s 58ms/step - loss: 0.1026 - accuracy: 0.9614 - val_loss: 1.1409 - val_accuracy: 0.7146\n",
            "Epoch 19/30\n",
            "226/226 [==============================] - 13s 58ms/step - loss: 0.1060 - accuracy: 0.9585 - val_loss: 1.1223 - val_accuracy: 0.7329\n",
            "Epoch 20/30\n",
            "226/226 [==============================] - 13s 58ms/step - loss: 0.0727 - accuracy: 0.9732 - val_loss: 1.1915 - val_accuracy: 0.7424\n",
            "Epoch 21/30\n",
            "226/226 [==============================] - 13s 58ms/step - loss: 0.0613 - accuracy: 0.9790 - val_loss: 1.1883 - val_accuracy: 0.7085\n",
            "Epoch 22/30\n",
            "226/226 [==============================] - 13s 58ms/step - loss: 0.0561 - accuracy: 0.9808 - val_loss: 1.4413 - val_accuracy: 0.7429\n",
            "Epoch 23/30\n",
            "226/226 [==============================] - 13s 58ms/step - loss: 0.0994 - accuracy: 0.9636 - val_loss: 1.1479 - val_accuracy: 0.7140\n",
            "Epoch 24/30\n",
            "226/226 [==============================] - 13s 58ms/step - loss: 0.0422 - accuracy: 0.9853 - val_loss: 1.2387 - val_accuracy: 0.7363\n",
            "Epoch 25/30\n",
            "226/226 [==============================] - 13s 58ms/step - loss: 0.0394 - accuracy: 0.9867 - val_loss: 1.3114 - val_accuracy: 0.7385\n",
            "Epoch 26/30\n",
            "226/226 [==============================] - 13s 58ms/step - loss: 0.0427 - accuracy: 0.9869 - val_loss: 1.3259 - val_accuracy: 0.7340\n",
            "Epoch 27/30\n",
            "226/226 [==============================] - 13s 58ms/step - loss: 0.0472 - accuracy: 0.9842 - val_loss: 1.4084 - val_accuracy: 0.6996\n",
            "Epoch 28/30\n",
            "226/226 [==============================] - 13s 58ms/step - loss: 0.0479 - accuracy: 0.9836 - val_loss: 1.3407 - val_accuracy: 0.7351\n",
            "Epoch 29/30\n",
            "226/226 [==============================] - 13s 58ms/step - loss: 0.0382 - accuracy: 0.9860 - val_loss: 1.5705 - val_accuracy: 0.7324\n",
            "Epoch 30/30\n",
            "226/226 [==============================] - 13s 58ms/step - loss: 0.1384 - accuracy: 0.9524 - val_loss: 1.5989 - val_accuracy: 0.7129\n"
          ]
        }
      ],
      "source": [
        "model_checkpoint_callback = tf.keras.callbacks.ModelCheckpoint(\n",
        "    filepath=MODEL_HISTORY_FILEPATH,\n",
        "    monitor='val_accuracy',\n",
        "    mode='auto',\n",
        "    save_best_only=True\n",
        "    )\n",
        "\n",
        "train_scores = model.fit(x_train, y_train, batch_size=BATCH_SIZE, epochs=NUM_OF_EPOCHS, shuffle=True, validation_split=0.2, callbacks=[model_checkpoint_callback])"
      ]
    },
    {
      "cell_type": "code",
      "execution_count": 13,
      "metadata": {
        "colab": {
          "base_uri": "https://localhost:8080/",
          "height": 295
        },
        "id": "j9G_FPzrCegQ",
        "outputId": "50462217-c279-40c2-dd05-c16e796184c8"
      },
      "outputs": [
        {
          "output_type": "display_data",
          "data": {
            "text/plain": [
              "<Figure size 432x288 with 1 Axes>"
            ],
            "image/png": "[encoded data removed]"
          },
          "metadata": {
            "needs_background": "light"
          }
        }
      ],
      "source": [
        "plt.title(\"Train Loss and Validation Loss\")\n",
        "plt.xlabel(\"Epoch\")\n",
        "plt.ylabel(\"Loss\")\n",
        "plt.plot(np.arange(NUM_OF_EPOCHS), train_scores.history['loss'])\n",
        "plt.plot(np.arange(NUM_OF_EPOCHS), train_scores.history['val_loss'])\n",
        "plt.legend([\"Train loss\", \"Validation loss\"])\n",
        "plt.show()"
      ]
    },
    {
      "cell_type": "code",
      "execution_count": 14,
      "metadata": {
        "colab": {
          "base_uri": "https://localhost:8080/",
          "height": 295
        },
        "id": "M8yVRKmvCegR",
        "outputId": "a1b97eef-a957-4e90-d455-ecf22c0f2763"
      },
      "outputs": [
        {
          "output_type": "display_data",
          "data": {
            "text/plain": [
              "<Figure size 432x288 with 1 Axes>"
            ],
            "image/png": "[encoded data removed]"
          },
          "metadata": {
            "needs_background": "light"
          }
        }
      ],
      "source": [
        "plt.title(\"Train accuracy and Validation accuracy\")\n",
        "plt.xlabel(\"Epoch\")\n",
        "plt.ylabel(\"Accuracy\")\n",
        "plt.plot(np.arange(NUM_OF_EPOCHS), train_scores.history['accuracy'])\n",
        "plt.plot(np.arange(NUM_OF_EPOCHS), train_scores.history['val_accuracy'])\n",
        "plt.legend([\"Train accuracy\", \"Validation accuracy\"])\n",
        "plt.show()"
      ]
    }
  ],
  "metadata": {
    "kernelspec": {
      "display_name": "Python 3",
      "language": "python",
      "name": "python3"
    },
    "language_info": {
      "codemirror_mode": {
        "name": "ipython",
        "version": 3
      },
      "file_extension": ".py",
      "mimetype": "text/x-python",
      "name": "python",
      "nbconvert_exporter": "python",
      "pygments_lexer": "ipython3",
      "version": "3.10.7"
    },
    "orig_nbformat": 4,
    "vscode": {
      "interpreter": {
        "hash": "2121b63ebec64736fa1408ad9b4ff63d888044831182c075f83e3f47370387ac"
      }
    },
    "colab": {
      "provenance": [],
      "machine_shape": "hm"
    },
    "accelerator": "GPU",
    "gpuClass": "standard"
  },
  "nbformat": 4,
  "nbformat_minor": 0
}